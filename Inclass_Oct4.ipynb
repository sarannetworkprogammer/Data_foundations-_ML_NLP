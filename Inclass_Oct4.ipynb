{
  "nbformat": 4,
  "nbformat_minor": 0,
  "metadata": {
    "colab": {
      "provenance": [],
      "authorship_tag": "ABX9TyMwveRiu5H6NyOXRJUkKzlr",
      "include_colab_link": true
    },
    "kernelspec": {
      "name": "python3",
      "display_name": "Python 3"
    },
    "language_info": {
      "name": "python"
    }
  },
  "cells": [
    {
      "cell_type": "markdown",
      "metadata": {
        "id": "view-in-github",
        "colab_type": "text"
      },
      "source": [
        "<a href=\"https://colab.research.google.com/github/sarannetworkprogammer/Data_foundations/blob/main/Inclass_Oct4.ipynb\" target=\"_parent\"><img src=\"https://colab.research.google.com/assets/colab-badge.svg\" alt=\"Open In Colab\"/></a>"
      ]
    },
    {
      "cell_type": "markdown",
      "source": [
        " 3 programming questions \n",
        "24 questions \n",
        "releatively quickly\n",
        "\n"
      ],
      "metadata": {
        "id": "3LDStMnViRXp"
      }
    },
    {
      "cell_type": "code",
      "execution_count": null,
      "metadata": {
        "id": "02F75FYMiQCe"
      },
      "outputs": [],
      "source": [
        "import json\n",
        "\n",
        "myjsonfile =  open(\"myfile.json\")\n",
        "pythonobj = json.load(myjsonfile)\n",
        "\n",
        "myjsonfile.close"
      ]
    },
    {
      "cell_type": "code",
      "source": [
        "pythonobj ={ \"key1\":\"value1\", \"key2\":\"value2\"}"
      ],
      "metadata": {
        "id": "DKnWB7Jtk6-_"
      },
      "execution_count": null,
      "outputs": []
    },
    {
      "cell_type": "code",
      "source": [
        "#json objects\n",
        "\n",
        "#Python  None,, json =---null\n",
        "\n",
        "#json arrays , =-------->python lists\n",
        "#json (true/false ) -------------- python (True/false)"
      ],
      "metadata": {
        "id": "8whwXP9DlE5W"
      },
      "execution_count": null,
      "outputs": []
    },
    {
      "cell_type": "code",
      "source": [
        "# dcitionary ------> \n",
        "\n",
        "mydata= {}\n",
        "\n",
        "mydata[\"newkey\"] = {}\n",
        "print(mydata[\"newkey\"])\n",
        "mydata[\"newkey\"][\"innerkey\"] = 42\n",
        "\n",
        "\n",
        "print(mydata[\"newkey\"][\"innerkey\"])\n",
        "\n",
        "mydata[\"newkey2\"] = []\n",
        "\n",
        "\n",
        "print(mydata)\n",
        "\n",
        "mydata[\"newkey2\"].append(123)"
      ],
      "metadata": {
        "colab": {
          "base_uri": "https://localhost:8080/"
        },
        "id": "Q41uoUXSlfCf",
        "outputId": "7b257498-a4b1-4a48-8403-a5407ef4098b"
      },
      "execution_count": 7,
      "outputs": [
        {
          "output_type": "stream",
          "name": "stdout",
          "text": [
            "{}\n",
            "42\n",
            "{'newkey': {'innerkey': 42}, 'newkey2': []}\n"
          ]
        }
      ]
    },
    {
      "cell_type": "code",
      "source": [
        "# how to use super init method in class inheritance\n",
        "\n",
        "class Person:\n",
        "\n",
        "\n",
        "  def __init__(self,name, age):\n",
        "    self.name = name\n",
        "    self.age = age\n",
        "\n",
        "    print(f\"name = {self.name} has been created\")\n",
        "  \n",
        "\n",
        "  def eat(self):\n",
        "    print(f\"{self.name} has eaten\")\n",
        "\n",
        "  \n",
        "  def jump(self):\n",
        "    print(f\"{self.name}  jumped\")\n",
        "\n",
        "\n",
        "\n",
        "class Student(Person):\n",
        "\n",
        "\n",
        "  def study(self):\n",
        "    print(f\"{self.name} studies\")\n",
        "\n",
        "\n",
        "class Teacher(Person):\n",
        "\n",
        "  def __init__(self, name ,age, class_name):\n",
        "    \n",
        "    self.name = name\n",
        "    self.age = age\n",
        "    self.calss_name = class_name\n",
        "    print(\"inside teacher class\")\n",
        "\n",
        "\n",
        "\n",
        "\n",
        "\n",
        "\n",
        "\n",
        "\n"
      ],
      "metadata": {
        "id": "79rJMdVFm07v"
      },
      "execution_count": 13,
      "outputs": []
    },
    {
      "cell_type": "code",
      "source": [
        "#john = Student(\"john\",55)     # created instance of student\n",
        "\n",
        "anthony = Teacher(\"anthony\",33, \"Datafoundations\")  # over write the functionality and also have acces to all methods \n",
        "\n",
        "# super.init method for iintializeing init vairables\n",
        "\n",
        "\n"
      ],
      "metadata": {
        "colab": {
          "base_uri": "https://localhost:8080/"
        },
        "id": "qVu0AKEKn0UH",
        "outputId": "bdde8481-d100-4716-9883-cc9f005fff96"
      },
      "execution_count": 16,
      "outputs": [
        {
          "output_type": "stream",
          "name": "stdout",
          "text": [
            "inside teacher class\n"
          ]
        }
      ]
    },
    {
      "cell_type": "code",
      "source": [
        "# operator overlaoding \n",
        "\n",
        "class ExampleClass:\n",
        "\n",
        "  def __init__(self,name):\n",
        "    self.name = name\n",
        "\n",
        "  \n",
        "\n",
        "  def __add__(self, other):\n",
        "    return self.name + \" and \" + other.name"
      ],
      "metadata": {
        "id": "1Mo3BLQjrXBr"
      },
      "execution_count": 18,
      "outputs": []
    },
    {
      "cell_type": "code",
      "source": [
        "# Regualr expressions:\n",
        "\n",
        "\n",
        "import re\n",
        "\n",
        "# * and +\n",
        "\n",
        "#[a-z] [A-z] [0-9]\n",
        "\n",
        "#upperlower cases [a-zA-Z]\n",
        "\n",
        "# ranges  {6,10}\n",
        "\n",
        "\n",
        "regex = \"[a-z]{6,10}[0-9]\"\n",
        "\n",
        "\n"
      ],
      "metadata": {
        "id": "KNEu6MbyuBFJ"
      },
      "execution_count": 19,
      "outputs": []
    },
    {
      "cell_type": "code",
      "source": [
        "regex = \"a*\" # a that appears 0 or more times\n",
        "\n",
        "\n",
        "# * or or more\n",
        "# + 1 or more \n",
        "\n"
      ],
      "metadata": {
        "id": "FkgbXkoPvczV"
      },
      "execution_count": null,
      "outputs": []
    }
  ]
}