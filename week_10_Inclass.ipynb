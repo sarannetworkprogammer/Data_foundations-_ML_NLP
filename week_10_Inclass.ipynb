{
  "cells": [
    {
      "cell_type": "markdown",
      "metadata": {
        "id": "view-in-github",
        "colab_type": "text"
      },
      "source": [
        "<a href=\"https://colab.research.google.com/github/sarannetworkprogammer/Data_foundations/blob/main/week_10_Inclass.ipynb\" target=\"_parent\"><img src=\"https://colab.research.google.com/assets/colab-badge.svg\" alt=\"Open In Colab\"/></a>"
      ]
    },
    {
      "cell_type": "code",
      "execution_count": null,
      "id": "b0313e26-5518-40de-ae8a-8adc4003f164",
      "metadata": {
        "id": "b0313e26-5518-40de-ae8a-8adc4003f164"
      },
      "outputs": [],
      "source": [
        "# NOTES\n",
        "\n",
        "# What is Machine Learning? f(x) = y\n",
        "\n",
        "# Features and Scikit-Learn\n",
        "\n",
        "## Methods of construction features\n",
        "\n",
        "### DictVectorizer (Tabular Data)\n",
        "\n",
        "### CountVectorizer (Text Data)\n",
        "\n",
        "### Special Note: Manual Feature Matrix Construction\n",
        "\n",
        "# ML Models in scikit-learn , i.e., f()\n",
        "\n",
        "## Classification\n",
        "\n",
        "## Regression\n",
        "\n",
        "# General Notes and Tips\n",
        "\n",
        "## .fit(), .fit_transform(), and .transform()"
      ]
    },
    {
      "cell_type": "code",
      "execution_count": null,
      "id": "813622a7-7625-4f78-820a-afaec339a89f",
      "metadata": {
        "id": "813622a7-7625-4f78-820a-afaec339a89f"
      },
      "outputs": [],
      "source": [
        "# Evaluation\n",
        "\n",
        "## Model Selection\n",
        "\n",
        "## Model Assessment \n",
        "\n",
        "## Training Dataset\n",
        "\n",
        "## Validation (Development) Dataset\n",
        "\n",
        "## Testing Dataset\n",
        "\n",
        "# Evaluation Metrics\n",
        "\n",
        "## Classification\n",
        "\n",
        "## Regression"
      ]
    },
    {
      "cell_type": "markdown",
      "id": "55092adc-e62f-4c46-86c9-79eb1166977a",
      "metadata": {
        "id": "55092adc-e62f-4c46-86c9-79eb1166977a"
      },
      "source": [
        "# Exercise 1\n",
        "\n",
        "You work as a Data Scientist for the New York Times. They are doing a story titled, \"Which Factors Influence the Price of Health Insurance?\". Many factors that affect how much you pay for health insurance are not within your control. Nonetheless, it's good to have an understanding of what they are. Hence, you have collected data about individuals for the new story. Your data contains basic factors about the \n",
        "\n",
        "Overall, you want to find how well the factors you collected can predict the individual insurance costs billed by the health insurance company.\n",
        "\n",
        "**Your Task:** The first step of any machine learning project is to *understand your data*. The dataset contains the variables/features below. You should look at each feature to understand what type of feature it is, i.e., is it a categorical feature, binary, numeric, etc?\n",
        "\n",
        "- age: age of primary beneficiary, e.g., 41\n",
        "   - What is this data type? (e.g., categorical, numeric, binary, ordinal, etc.)\n",
        "   - ANSWER HERE:  Numerical\n",
        "- sex: dislosed gender by customer, female/male\n",
        "   - What is this data type? (e.g., categorical, numeric, binary, ordinal, etc.)\n",
        "   - ANSWER HERE: binary\n",
        "- bmi: Body mass index, providing an understanding of body, weights that are relatively high or low relative to height, objective index of body weight (kg / m ^ 2) using the ratio of height to weight, ideally 18.5 to 24.9\n",
        "   - What is this data type? (e.g., categorical, numeric, binary, ordinal, etc.)\n",
        "   - ANSWER HERE : categorical\n",
        "- children: Number of children covered by health insurance / Number of dependents \n",
        "   - What is this data type? (e.g., categorical, numeric, binary, ordinal, etc.)\n",
        "   - ANSWER HERE : Numerical\n",
        "- smoker: Smoking\n",
        "   - What is this data type? (e.g., categorical, numeric, binary, ordinal, etc.)\n",
        "   - ANSWER HERE binary\n",
        "- region: the beneficiary's residential area in the US, northeast, southeast, southwest, northwest.\n",
        "   - What is this data type? (e.g., categorical, numeric, binary, ordinal, etc.)\n",
        "   - ANSWER HERE : categorical\n",
        "   \n",
        "This is what you will predict:\n",
        "- charges: Individual medical costs billed by health insurance\n",
        "   - What type of item are you predicting? (e.g., categorical, numeric, binary, ordinal, etc.)\n",
        "   - ANSWER HERE : numeric\n",
        "   \n",
        "**TIME:** 10 minutes"
      ]
    },
    {
      "cell_type": "markdown",
      "id": "c0295a25-9ded-42da-a16d-8982936aaec2",
      "metadata": {
        "id": "c0295a25-9ded-42da-a16d-8982936aaec2"
      },
      "source": [
        "# Exercise 2\n",
        "\n",
        "Now that you understand the data, you want to fit a linear regression model to the data. Remember linear regression is defined as \n",
        "$$ y = f(x) = \\sum_{i=1}^F x_i w_i = x_1 w_1 + x_2 w_2 + \\cdots + x_F w_F$$\n",
        "where $x_i$ is a feature (e.g., age) and $w_i$ is a weigt that will be learned by the model.\n",
        "\n",
        "**TIME:** 10 minutes"
      ]
    },
    {
      "cell_type": "code",
      "source": [
        "from google.colab import drive\n",
        "drive.mount('/content/drive')"
      ],
      "metadata": {
        "colab": {
          "base_uri": "https://localhost:8080/"
        },
        "id": "VQe5lxo5gz0x",
        "outputId": "fcc82107-6faa-4e2b-f7b8-78eea3345d06"
      },
      "id": "VQe5lxo5gz0x",
      "execution_count": null,
      "outputs": [
        {
          "output_type": "stream",
          "name": "stdout",
          "text": [
            "Mounted at /content/drive\n"
          ]
        }
      ]
    },
    {
      "cell_type": "code",
      "execution_count": null,
      "id": "2e361fc0-35df-4642-a7db-091218472137",
      "metadata": {
        "colab": {
          "base_uri": "https://localhost:8080/"
        },
        "id": "2e361fc0-35df-4642-a7db-091218472137",
        "outputId": "2cc836a9-acdc-40b8-c5fe-00bb1cdcf788"
      },
      "outputs": [
        {
          "output_type": "stream",
          "name": "stdout",
          "text": [
            "item= {'age': 61.0, 'sex': 'female', 'bmi': 29.07, 'children': 0.0, 'smoker': 'yes', 'region': 'northwest'}\n",
            "1338\n"
          ]
        }
      ],
      "source": [
        "# I load the data for you here. You do NOT need to modify this cell.\n",
        "import csv\n",
        "from sklearn.feature_extraction import DictVectorizer\n",
        "from sklearn.model_selection import train_test_split\n",
        "\n",
        "dataset = [] # Features go here\n",
        "y = [] # What you want to predict goes here\n",
        "with open('/content/drive/MyDrive/Colab Notebooks/insurance.csv') as iFile:\n",
        "    iCSV = csv.reader(iFile, delimiter=',')\n",
        "\n",
        "    header = next(iCSV)\n",
        "    for row in iCSV:\n",
        "        item = {}\n",
        "        item['age'] = float(row[0])\n",
        "        item['sex'] = row[1]\n",
        "        item['bmi'] = float(row[2])\n",
        "        item['children'] = float(row[3])\n",
        "        item['smoker'] = row[4]\n",
        "        item['region'] = (row[5])\n",
        "        dataset.append(item)\n",
        "        y.append(float(row[6]))\n",
        "        \n",
        "\n",
        "print(\"item=\",item)\n",
        "print(len(dataset))\n",
        "\n"
      ]
    },
    {
      "cell_type": "code",
      "source": [
        "\n",
        "# Here the lists are split into a 80% training portion and a 20% validation protion\n",
        "\n",
        "train_dataset, val_dataset, train_y, val_y = train_test_split(dataset, y, test_size=0.2, random_state=42)\n",
        "\n",
        "# DictVectorizer will take a list of dictionaries and convert it into a matrix\n",
        "vec = DictVectorizer()\n",
        "\n",
        "train_matrix = vec.fit_transform(train_dataset) # .fit_transform() should only be applied to the training dataset\n",
        "\n",
        "val_matrix = vec.transform(val_dataset) # .transform() should only be aplied to the testing and validation datasets (validation in this cas\n",
        "\n",
        "\n"
      ],
      "metadata": {
        "id": "cdp4rluZhHtB"
      },
      "id": "cdp4rluZhHtB",
      "execution_count": null,
      "outputs": []
    },
    {
      "cell_type": "code",
      "source": [],
      "metadata": {
        "id": "aWXrxbo1gXRY"
      },
      "id": "aWXrxbo1gXRY",
      "execution_count": null,
      "outputs": []
    },
    {
      "cell_type": "code",
      "execution_count": null,
      "id": "2de1f631-52bf-447d-9f5e-6bc4596a8f38",
      "metadata": {
        "id": "2de1f631-52bf-447d-9f5e-6bc4596a8f38",
        "outputId": "3cb86667-e466-4b8d-91a5-08e907a6d883",
        "colab": {
          "base_uri": "https://localhost:8080/"
        }
      },
      "outputs": [
        {
          "output_type": "execute_result",
          "data": {
            "text/plain": [
              "{'age': 19.0,\n",
              " 'sex': 'female',\n",
              " 'bmi': 27.9,\n",
              " 'children': 0.0,\n",
              " 'smoker': 'yes',\n",
              " 'region': 'southwest'}"
            ]
          },
          "metadata": {},
          "execution_count": 6
        }
      ],
      "source": [
        "# Here is what one dictionary looks like in the dataset\n",
        "dataset[0]"
      ]
    },
    {
      "cell_type": "code",
      "execution_count": null,
      "id": "0c4b6b21-ae71-4859-8c22-2d542af9c57b",
      "metadata": {
        "id": "0c4b6b21-ae71-4859-8c22-2d542af9c57b",
        "outputId": "e11e88d8-d007-4244-d99e-1a6972d16867",
        "colab": {
          "base_uri": "https://localhost:8080/"
        }
      },
      "outputs": [
        {
          "output_type": "stream",
          "name": "stdout",
          "text": [
            "['age', 'bmi', 'children', 'region=northeast', 'region=northwest', 'region=southeast', 'region=southwest', 'sex=female', 'sex=male', 'smoker=no', 'smoker=yes']\n"
          ]
        }
      ],
      "source": [
        "print(vec.feature_names_) # This list contains the feature names for each column in the feature matrix, i.e., age is the first column of train_matrix"
      ]
    },
    {
      "cell_type": "code",
      "execution_count": null,
      "id": "3fb0f9e2-6be1-4eee-addb-ae7b2d02f01f",
      "metadata": {
        "id": "3fb0f9e2-6be1-4eee-addb-ae7b2d02f01f",
        "outputId": "a254835e-315f-4042-f57e-4c5f29210d63",
        "colab": {
          "base_uri": "https://localhost:8080/"
        }
      },
      "outputs": [
        {
          "output_type": "stream",
          "name": "stdout",
          "text": [
            "[[46.   19.95  2.    0.    1.    0.    0.    1.    0.    1.    0.  ]\n",
            " [47.   24.32  0.    1.    0.    0.    0.    1.    0.    1.    0.  ]]\n"
          ]
        }
      ],
      "source": [
        "print(train_matrix.toarray()[0:2,:]) # This prints the first two rows of the dataset"
      ]
    },
    {
      "cell_type": "code",
      "execution_count": null,
      "id": "dd7e828e-2852-435d-8969-3690fac813ba",
      "metadata": {
        "id": "dd7e828e-2852-435d-8969-3690fac813ba"
      },
      "outputs": [],
      "source": [
        "import numpy as np\n",
        "# YOUR TASK: Modify the weights below to achieve the LOWEST MSE as possible.\n",
        "weights = np.array([0., # 'age'\n",
        "                    0., # 'bmi'\n",
        "                    0., # 'children'\n",
        "                    0., # 'region=northeast'\n",
        "                    0., # 'region=northwest'\n",
        "                    0., # 'region=southeast'\n",
        "                    0., # 'region=southwest'\n",
        "                    0., # 'sex=female'\n",
        "                    0., # 'sex=male',\n",
        "                    0., # 'smoker=no'\n",
        "                    0.]) # 'smoker=yes' "
      ]
    },
    {
      "cell_type": "code",
      "execution_count": null,
      "id": "5fcaed57-9c75-4eb6-ba08-178b7259af6c",
      "metadata": {
        "id": "5fcaed57-9c75-4eb6-ba08-178b7259af6c",
        "outputId": "021d57dd-87f5-4ed3-e161-9c85fa3eee60",
        "colab": {
          "base_uri": "https://localhost:8080/"
        }
      },
      "outputs": [
        {
          "output_type": "stream",
          "name": "stdout",
          "text": [
            "MSE: 323425978.93488324\n"
          ]
        }
      ],
      "source": [
        "from sklearn.metrics import mean_squared_error\n",
        "predictions = val_matrix.dot(weights)\n",
        "\n",
        "print(\"MSE:\", mean_squared_error(val_y, predictions))"
      ]
    },
    {
      "cell_type": "code",
      "execution_count": null,
      "id": "ad9b7e95-1771-402d-9e7b-e47d58d02920",
      "metadata": {
        "id": "ad9b7e95-1771-402d-9e7b-e47d58d02920",
        "outputId": "41ab0815-3a93-4d4f-aff0-c026d11321ab",
        "colab": {
          "base_uri": "https://localhost:8080/"
        }
      },
      "outputs": [
        {
          "output_type": "stream",
          "name": "stdout",
          "text": [
            "MSE: 33596915.85134941\n"
          ]
        }
      ],
      "source": [
        "# Finding the weights manually is HARD.\n",
        "# Here we will use scikit-learn to find the weights for us. We are training a machine learning model!\n",
        "# Run the cells below to see how well it performs and what weights it finds.\n",
        "from sklearn.linear_model import LinearRegression\n",
        "\n",
        "clf = LinearRegression(fit_intercept=False)\n",
        "\n",
        "clf.fit(train_matrix, train_y)\n",
        "\n",
        "lr_predictions = clf.predict(val_matrix)\n",
        "print(\"MSE:\", mean_squared_error(val_y, lr_predictions))"
      ]
    },
    {
      "cell_type": "code",
      "execution_count": null,
      "id": "bdc9356c-b9cf-4417-9b96-7905c736aea8",
      "metadata": {
        "id": "bdc9356c-b9cf-4417-9b96-7905c736aea8",
        "outputId": "f6b08b8b-7cfc-4835-ae39-2857df0e0cab",
        "colab": {
          "base_uri": "https://localhost:8080/"
        }
      },
      "outputs": [
        {
          "output_type": "stream",
          "name": "stdout",
          "text": [
            "LR Weights:\n",
            " 256.97571\n",
            "337.09255\n",
            "425.27878\n",
            "344.67810\n",
            "-25.99922\n",
            "-313.18619\n",
            "-465.12125\n",
            "-220.51844\n",
            "-239.11013\n",
            "-12055.37871\n",
            "11595.75014\n"
          ]
        }
      ],
      "source": [
        "print(\"LR Weights:\\n\", \"\\n\".join([f\"{x:.5f}\" for x in clf.coef_]))"
      ]
    },
    {
      "cell_type": "markdown",
      "id": "e85780cd-7eb8-4aa4-876a-84874f50a6d3",
      "metadata": {
        "id": "e85780cd-7eb8-4aa4-876a-84874f50a6d3"
      },
      "source": [
        "Note that a lower MSE means the model is better (i.e., your prediction is closer to the real amount), How"
      ]
    },
    {
      "cell_type": "markdown",
      "id": "3cd1f484-81bf-4abe-91ac-f4fed58224c7",
      "metadata": {
        "id": "3cd1f484-81bf-4abe-91ac-f4fed58224c7"
      },
      "source": [
        "# Exercise 3\n",
        "\n",
        "You suspect that the Linear Regression model is overfitting (e.g., weights are too large). Moreover, you think other models may provide better predictive ability. Choosing a model is only half the battle. In scikit-learn trying a different model is as simple as importing and using a different classifier object. But, to get the best performance from any given model, you need to tune all of the \"knobs\" availble within the model. You can find all the \"knobs\" a model contains by looking at the scikit learn documentation under the section \"Parameters\". See the example below:\n",
        "\n",
        "\n",
        "https://scikit-learn.org/stable/modules/generated/sklearn.linear_model.Ridge.html\n",
        "\n",
        "**YOUR TASK:** You are going to experiment with the \"alpha\" parameter. The alpha parameter will control overfitting in the Ridge Regression model. Try the values 0, .00001, .0001, .001, .01, .1, 1, 10, 100. Which value gives the best results. You should try this manually, by setting the alpha value to the different values and seeing the results. **What do you find?**  Specifically, how does the alpha value impact the parameters? Also, what alpha gives the best performance?\n"
      ]
    },
    {
      "cell_type": "code",
      "execution_count": null,
      "id": "e4710c33-371e-42b8-a051-e6074a9ea94a",
      "metadata": {
        "id": "e4710c33-371e-42b8-a051-e6074a9ea94a",
        "outputId": "1af148a3-7163-4dce-e32b-751ce12d4710",
        "colab": {
          "base_uri": "https://localhost:8080/"
        }
      },
      "outputs": [
        {
          "output_type": "stream",
          "name": "stdout",
          "text": [
            "MSE: 35516055.0927728\n",
            "\n",
            "Ridge Weights:\n",
            " 262.40381\n",
            "331.86322\n",
            "325.48535\n",
            "173.70912\n",
            "-474.11913\n",
            "469.62882\n",
            "-707.97476\n",
            "-912.67017\n",
            "373.91421\n",
            "-11921.84742\n",
            "11383.09146\n"
          ]
        }
      ],
      "source": [
        "# Try the different alphas in this cell\n",
        "from sklearn.linear_model import Ridge\n",
        "\n",
        "clf = Ridge(alpha=0, fit_intercept=False)\n",
        "\n",
        "clf.fit(train_matrix, train_y)\n",
        "\n",
        "rr_predictions = clf.predict(val_matrix)\n",
        "print(\"MSE:\", mean_squared_error(val_y, rr_predictions))\n",
        "print(\"\\nRidge Weights:\\n\", \"\\n\".join([f\"{x:.5f}\" for x in clf.coef_]))"
      ]
    },
    {
      "cell_type": "markdown",
      "id": "7d57b9a7-3772-454a-984e-dfea0447e311",
      "metadata": {
        "id": "7d57b9a7-3772-454a-984e-dfea0447e311"
      },
      "source": [
        "Trying every hyper parameter one-by-one is time consuming. Instead, let us do it using GridSearchCV. Note that GridSearchCV will use cross-validation applied to the training dataset. So, the exact results may be different that what was found in the previous cell. **Why is that?**"
      ]
    },
    {
      "cell_type": "code",
      "execution_count": null,
      "id": "21d5222a-e580-4e32-ad83-912425e3e09f",
      "metadata": {
        "id": "21d5222a-e580-4e32-ad83-912425e3e09f",
        "outputId": "8ad1571f-b834-419c-a432-ce0043337309",
        "colab": {
          "base_uri": "https://localhost:8080/"
        }
      },
      "outputs": [
        {
          "output_type": "stream",
          "name": "stdout",
          "text": [
            "MSE: 35516054.80993609\n",
            "Best Alpha: 1e-05\n",
            "Cross-Validation Score: 38399017.57406919\n",
            "\n",
            "Ridge Weights:\n",
            " 262.40380\n",
            "331.86321\n",
            "325.48535\n",
            "173.70911\n",
            "-474.11912\n",
            "469.62880\n",
            "-707.97474\n",
            "-912.67014\n",
            "373.91420\n",
            "-11921.84709\n",
            "11383.09115\n"
          ]
        }
      ],
      "source": [
        "from sklearn.model_selection import GridSearchCV\n",
        "\n",
        "params = {\"alpha\": [0, .00001, .0001, .001, .01, .1, 1, 10, 100, 1000]}\n",
        "\n",
        "rr = Ridge(fit_intercept=False)\n",
        "\n",
        "clf = GridSearchCV(rr, param_grid=params, cv=10, scoring='neg_mean_squared_error')\n",
        "\n",
        "clf.fit(train_matrix, train_y)\n",
        "\n",
        "rr_predictions = clf.predict(val_matrix)\n",
        "print(\"MSE:\", mean_squared_error(val_y, rr_predictions))\n",
        "print(\"Best Alpha:\", clf.best_params_['alpha'])\n",
        "print(\"Cross-Validation Score:\", -clf.best_score_)\n",
        "print(\"\\nRidge Weights:\\n\", \"\\n\".join([f\"{x:.5f}\" for x in clf.best_estimator_.coef_]))"
      ]
    },
    {
      "cell_type": "markdown",
      "id": "38d9fd43-8be3-450a-9dd9-7ff638f0c99e",
      "metadata": {
        "id": "38d9fd43-8be3-450a-9dd9-7ff638f0c99e"
      },
      "source": [
        "# Final Notes\n",
        "\n",
        "So, where do you go from here? You can try different models such as:\n",
        "- Lasso: https://scikit-learn.org/stable/modules/generated/sklearn.linear_model.Lasso.html\n",
        "- ElasticNet: https://scikit-learn.org/stable/modules/generated/sklearn.linear_model.ElasticNet.html\n",
        "- Random Forest Regression: https://scikit-learn.org/stable/modules/generated/sklearn.ensemble.RandomForestRegressor.html\n",
        "- SVM Regression: https://scikit-learn.org/stable/modules/generated/sklearn.svm.SVR.html\n",
        "\n",
        "Each method has its own hyperparameters you must test to find what works best. Another option is to explore the use of \"Feature Engineering\". How will the model perform if you remove one or more features (columns)? What if you transform columns in some non-trival way, e.g., square the values in a column (e.g., age = age$^2$) or combine values via interaction terms (e.g., age*gender=Male). Overall, the combintions are endless. If you had access to the data at a specific company, then you could also try to collect more specific data, e.g., income, family history, etc. In the end, this is a creative endevor as much as it is a technical one."
      ]
    },
    {
      "cell_type": "code",
      "execution_count": null,
      "id": "0951c118-4d6b-4062-9c70-dea3ac4063af",
      "metadata": {
        "id": "0951c118-4d6b-4062-9c70-dea3ac4063af"
      },
      "outputs": [],
      "source": []
    }
  ],
  "metadata": {
    "kernelspec": {
      "display_name": "Python 3 (ipykernel)",
      "language": "python",
      "name": "python3"
    },
    "language_info": {
      "codemirror_mode": {
        "name": "ipython",
        "version": 3
      },
      "file_extension": ".py",
      "mimetype": "text/x-python",
      "name": "python",
      "nbconvert_exporter": "python",
      "pygments_lexer": "ipython3",
      "version": "3.8.12"
    },
    "colab": {
      "provenance": [],
      "collapsed_sections": [],
      "include_colab_link": true
    }
  },
  "nbformat": 4,
  "nbformat_minor": 5
}