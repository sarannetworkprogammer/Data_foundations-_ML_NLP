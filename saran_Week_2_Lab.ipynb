{
  "cells": [
    {
      "cell_type": "markdown",
      "metadata": {
        "id": "view-in-github",
        "colab_type": "text"
      },
      "source": [
        "<a href=\"https://colab.research.google.com/github/sarannetworkprogammer/Data_foundations/blob/main/saran_Week_2_Lab.ipynb\" target=\"_parent\"><img src=\"https://colab.research.google.com/assets/colab-badge.svg\" alt=\"Open In Colab\"/></a>"
      ]
    },
    {
      "cell_type": "markdown",
      "metadata": {
        "id": "hVrbXL-zO47E"
      },
      "source": [
        "# Python as a Programming Language\n",
        "\n",
        "Blank notebook to be used for lab\n",
        "exercises.\n",
        "\n",
        "**Name**: Malakalapalli Saranchowdary\n",
        "\n",
        "**abc123**:pkb378"
      ]
    },
    {
      "cell_type": "markdown",
      "metadata": {
        "id": "bsMPHjjOO47H"
      },
      "source": [
        "## Exercise 1: Putting it all together\n",
        "\n",
        "Write a program that does the following:\n",
        "\n",
        "- Prints the numbers 1 to 100\n",
        "- For the  numbers 10 to 25 (including 10 and 25), instead of printing the number, print the word \"cheese\".\n",
        "- For numbers 55 to 100 (including 55, but not including 100), instead of printing the number, print the word \"cake\".\n",
        "- For 100 print the word \"Done!\".\n",
        "\n",
        "**Important Python concepts:** print(), if, elif, else, for"
      ]
    },
    {
      "cell_type": "code",
      "execution_count": null,
      "metadata": {
        "colab": {
          "base_uri": "https://localhost:8080/"
        },
        "id": "uw-_zilwO47I",
        "outputId": "c226eb1a-67b7-4861-8b7e-b943fff7183b"
      },
      "outputs": [
        {
          "output_type": "stream",
          "name": "stdout",
          "text": [
            "1\n",
            "2\n",
            "3\n",
            "4\n",
            "5\n",
            "6\n",
            "7\n",
            "8\n",
            "9\n",
            "cheese\n",
            "cheese\n",
            "cheese\n",
            "cheese\n",
            "cheese\n",
            "cheese\n",
            "cheese\n",
            "cheese\n",
            "cheese\n",
            "cheese\n",
            "cheese\n",
            "cheese\n",
            "cheese\n",
            "cheese\n",
            "cheese\n",
            "cheese\n",
            "26\n",
            "27\n",
            "28\n",
            "29\n",
            "30\n",
            "31\n",
            "32\n",
            "33\n",
            "34\n",
            "35\n",
            "36\n",
            "37\n",
            "38\n",
            "39\n",
            "40\n",
            "41\n",
            "42\n",
            "43\n",
            "44\n",
            "45\n",
            "46\n",
            "47\n",
            "48\n",
            "49\n",
            "50\n",
            "51\n",
            "52\n",
            "53\n",
            "54\n",
            "cake\n",
            "cake\n",
            "cake\n",
            "cake\n",
            "cake\n",
            "cake\n",
            "cake\n",
            "cake\n",
            "cake\n",
            "cake\n",
            "cake\n",
            "cake\n",
            "cake\n",
            "cake\n",
            "cake\n",
            "cake\n",
            "cake\n",
            "cake\n",
            "cake\n",
            "cake\n",
            "cake\n",
            "cake\n",
            "cake\n",
            "cake\n",
            "cake\n",
            "cake\n",
            "cake\n",
            "cake\n",
            "cake\n",
            "cake\n",
            "cake\n",
            "cake\n",
            "cake\n",
            "cake\n",
            "cake\n",
            "cake\n",
            "cake\n",
            "cake\n",
            "cake\n",
            "cake\n",
            "cake\n",
            "cake\n",
            "cake\n",
            "cake\n",
            "cake\n",
            "Done!\n"
          ]
        }
      ],
      "source": [
        "# Write code here\n",
        "\n",
        "\n",
        "for i in range(1,101):\n",
        "  if i in range(10,26):\n",
        "    print(\"cheese\")\n",
        "  elif i in range(55,100):\n",
        "    print(\"cake\")\n",
        "  elif i == 100:\n",
        "    print(\"Done!\")\n",
        "  else:\n",
        "    print(i)"
      ]
    },
    {
      "cell_type": "markdown",
      "metadata": {
        "id": "-ISa5WWHO47J"
      },
      "source": [
        "## Exercise 2\n",
        "\n",
        "Write a program which repeatedly reads numbers until the user enters “done”. Once “done” is entered, print out the total, count, and average of the numbers. If the user enters anything other than a number, detect their mistake using try and except and print an error message and skip to the next number.\n",
        "\n",
        "What the code should look like when running:\n",
        "```\n",
        "Enter a number: 4\n",
        "Enter a number: 5\n",
        "Enter a number: bad data\n",
        "Invalid input\n",
        "Enter a number: 7\n",
        "Enter a number: done\n",
        "16 3 5.33333333333\n",
        "```\n",
        "\n",
        "**Important Python concepts:** print(), try, except, break, while"
      ]
    },
    {
      "cell_type": "code",
      "execution_count": null,
      "metadata": {
        "colab": {
          "base_uri": "https://localhost:8080/"
        },
        "id": "F8haahI9O47S",
        "outputId": "5c259d98-f088-4da3-9fca-775a4b7154d0"
      },
      "outputs": [
        {
          "output_type": "stream",
          "name": "stdout",
          "text": [
            "Enter a number: 1\n",
            "Enter a number: a\n",
            "invalid data\n",
            "Enter a number: 3\n",
            "Enter a number: done\n",
            "sum 4\n",
            "count 2\n",
            "avg 2.0\n"
          ]
        }
      ],
      "source": [
        "\n",
        "sum=0\n",
        "count = 0\n",
        "while True:\n",
        "  try:\n",
        "    x = input(\"Enter a number: \")\n",
        "    if x == \"done\":\n",
        "      break\n",
        "    else:\n",
        "      sum = sum + int(x)\n",
        "\n",
        "    count = count + 1\n",
        "  except:\n",
        "    print(\"invalid data\")\n",
        "    pass\n",
        "\n",
        "print(f\"sum {sum}\")\n",
        "print(f\"count {count}\")\n",
        "print(f\"avg {sum/count}\")\n",
        "\n",
        "\n",
        "\n",
        "\n",
        "\n",
        "\n",
        "\n",
        "\n",
        "\n"
      ]
    },
    {
      "cell_type": "markdown",
      "metadata": {
        "id": "-LcPfHzOO47T"
      },
      "source": [
        "## Exercise 3\n",
        "\n",
        "Write a program that counts how many times each letter appears in a string. The counts for each character should be stored in a dictionary where the character is the key and the value is the count. Print the dictionary at the end.\n",
        "\n",
        "Given the string **'aaabbc'**, the output should be a dictionary **{'a':3, 'b':2, 'c':1}**.\n",
        "\n",
        "We are effectively computing a histogram, which is a statistical term for a set of counters (or frequencies).\n",
        "\n",
        "**Important Python concepts:** dict ({}), for"
      ]
    },
    {
      "cell_type": "code",
      "execution_count": null,
      "metadata": {
        "id": "AFJMq_X3O47T"
      },
      "outputs": [],
      "source": [
        "word = 'brontosaurus'"
      ]
    },
    {
      "cell_type": "code",
      "execution_count": null,
      "metadata": {
        "colab": {
          "base_uri": "https://localhost:8080/"
        },
        "id": "I-QEFrnUO47T",
        "outputId": "e7832f10-7564-4a94-93c4-e584b928397d"
      },
      "outputs": [
        {
          "output_type": "stream",
          "name": "stdout",
          "text": [
            "b\n",
            "r\n",
            "o\n",
            "n\n",
            "t\n",
            "o\n",
            "s\n",
            "a\n",
            "u\n",
            "r\n",
            "u\n",
            "s\n"
          ]
        }
      ],
      "source": [
        "# Write code to count the number of times each character appears in \"brontosaurus\" here\n",
        "dict1 = {}\n",
        "count = 0\n",
        "for letter in word:\n",
        "  print(letter)\n",
        "  if not letter in dict1:\n",
        "    count = 0\n",
        "    count = count + 1\n",
        "    dict1[letter] = count\n",
        "  else:\n",
        "    \n",
        "    dict1[letter] = dict1[letter] + 1\n",
        "\n"
      ]
    },
    {
      "cell_type": "code",
      "execution_count": null,
      "metadata": {
        "colab": {
          "base_uri": "https://localhost:8080/"
        },
        "id": "1It7t7ThO47U",
        "outputId": "14f6e243-25f9-4294-b45e-3e5c7ceb0084"
      },
      "outputs": [
        {
          "output_type": "stream",
          "name": "stdout",
          "text": [
            "{'b': 1, 'r': 2, 'o': 2, 'n': 1, 't': 1, 's': 2, 'a': 1, 'u': 2}\n"
          ]
        }
      ],
      "source": [
        "# Print dictionary here\n",
        "print(dict1)\n"
      ]
    }
  ],
  "metadata": {
    "kernelspec": {
      "display_name": "Python 3",
      "language": "python",
      "name": "python3"
    },
    "language_info": {
      "codemirror_mode": {
        "name": "ipython",
        "version": 3
      },
      "file_extension": ".py",
      "mimetype": "text/x-python",
      "name": "python",
      "nbconvert_exporter": "python",
      "pygments_lexer": "ipython3",
      "version": "3.8.3"
    },
    "colab": {
      "provenance": [],
      "include_colab_link": true
    }
  },
  "nbformat": 4,
  "nbformat_minor": 0
}