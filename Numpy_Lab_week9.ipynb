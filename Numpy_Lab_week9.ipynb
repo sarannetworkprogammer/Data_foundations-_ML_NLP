{
  "cells": [
    {
      "cell_type": "markdown",
      "metadata": {
        "id": "view-in-github",
        "colab_type": "text"
      },
      "source": [
        "<a href=\"https://colab.research.google.com/github/sarannetworkprogammer/Data_foundations/blob/main/Numpy_Lab_week9.ipynb\" target=\"_parent\"><img src=\"https://colab.research.google.com/assets/colab-badge.svg\" alt=\"Open In Colab\"/></a>"
      ]
    },
    {
      "cell_type": "code",
      "execution_count": null,
      "id": "5d7a6edc-437b-4463-bc98-52d2d3848066",
      "metadata": {
        "id": "5d7a6edc-437b-4463-bc98-52d2d3848066",
        "outputId": "2fe77dac-68bd-47bd-b806-84baab5dfc4c"
      },
      "outputs": [
        {
          "ename": "NameError",
          "evalue": "name 'yes' is not defined",
          "output_type": "error",
          "traceback": [
            "\u001b[0;31m---------------------------------------------------------------------------\u001b[0m",
            "\u001b[0;31mNameError\u001b[0m                                 Traceback (most recent call last)",
            "\u001b[0;32m/var/folders/62/0gnm2g1d22n5555snz1v7yyc0000gn/T/ipykernel_35347/3707806554.py\u001b[0m in \u001b[0;36m<module>\u001b[0;34m\u001b[0m\n\u001b[1;32m     26\u001b[0m \u001b[0;31m# brown [0, 0, 0]\u001b[0m\u001b[0;34m\u001b[0m\u001b[0;34m\u001b[0m\u001b[0;34m\u001b[0m\u001b[0m\n\u001b[1;32m     27\u001b[0m \u001b[0;34m\u001b[0m\u001b[0m\n\u001b[0;32m---> 28\u001b[0;31m \u001b[0;36m3\u001b[0m\u001b[0;34m,\u001b[0m \u001b[0myes\u001b[0m\u001b[0;34m,\u001b[0m \u001b[0mA\u001b[0m\u001b[0;34m,\u001b[0m \u001b[0;36m3\u001b[0m\u001b[0;34m,\u001b[0m \u001b[0mlarge\u001b[0m\u001b[0;34m\u001b[0m\u001b[0;34m\u001b[0m\u001b[0m\n\u001b[0m\u001b[1;32m     29\u001b[0m \u001b[0;34m[\u001b[0m\u001b[0;36m3\u001b[0m\u001b[0;34m,\u001b[0m \u001b[0;36m1\u001b[0m\u001b[0;34m,\u001b[0m \u001b[0;36m1\u001b[0m\u001b[0;34m,\u001b[0m \u001b[0;36m0\u001b[0m\u001b[0;34m,\u001b[0m \u001b[0;36m0\u001b[0m\u001b[0;34m,\u001b[0m \u001b[0;36m3\u001b[0m\u001b[0;34m,\u001b[0m \u001b[0;36m0\u001b[0m\u001b[0;34m,\u001b[0m \u001b[0;36m0\u001b[0m\u001b[0;34m,\u001b[0m \u001b[0;36m1\u001b[0m\u001b[0;34m]\u001b[0m\u001b[0;34m\u001b[0m\u001b[0;34m\u001b[0m\u001b[0m\n\u001b[1;32m     30\u001b[0m \u001b[0;34m\u001b[0m\u001b[0m\n",
            "\u001b[0;31mNameError\u001b[0m: name 'yes' is not defined"
          ]
        }
      ],
      "source": [
        "# QUESTIONS?\n",
        "\n",
        "# Features\n",
        "\n",
        "# Machine Learining -> f(x) = y, question: What is x?\n",
        "\n",
        "# GOAL -> Define a function that takes some x as input and predicts some y\n",
        "\n",
        "# To learn f(x) automatically from data\n",
        "\n",
        "# What is x?\n",
        "\n",
        "# Task Get an A in Data Foundations\n",
        "\n",
        "# How many hours did they study each week? 3 Numeric (Number)\n",
        "# Did they take a programming class in the past? Yes or No -> 1 or 0 (binary)\n",
        "# {A, B, C} -> categorical A [1, 0, 0] , B [0, 1, 0], C [0, 0, 1]\n",
        "# What if someone majored in A AND B? (multi-hot encoding) -> [1, 1, 0] (categorical)\n",
        "# What is their GPA (1, 2, 3, or 4) -> Ordinal -> Number 3 -> [1, 0, 0, 0] (number)\n",
        "# Class Size (small, medium, large) (0-10, 11-50, > 50) -> [0, 0, 1] (cat)\n",
        "\n",
        "\n",
        "# Ordinal (tall, grande, vente) -> 2 -> [2, 0, 1, 0]\n",
        "\n",
        "# Categorical (blue, purple, pink) -> [1, 0, 0]\n",
        "# brown [0, 0, 0]\n",
        "\n",
        "3, yes, A, 3, large\n",
        "[3, 1, 1, 0, 0, 3, 0, 0, 1]\n",
        "\n",
        "# N number of subjects (rows)\n",
        "# F number of features (columns)\n",
        "\n",
        "\n",
        "# Example 1: Customer Churn (e.g., predict when a customer will stop being a customer at a bank)\n",
        "\n",
        "## Features\n",
        "# Where do they live (categorical)\n",
        "# Credit score (number)\n",
        "# How long have they been a customer at this bank? (number)\n",
        "# Have they referred someone in the past? (binary)\n",
        "\n",
        "# Example 2: Forecasting (e.g., predict uber usage at a given time in a given city)\n",
        "\n",
        "## Features\n",
        "# Is there a big event? Spurs game? Binary\n",
        "# Population of the city? Number\n",
        "# How many people used the service last weekend? Number\n",
        "# how many people used hte serv. last year (same day)? Number\n",
        "\n",
        "\n",
        "# Example 3: General Prediction: Predict how fast someone will run a 5k race.\n",
        "\n",
        "\n",
        "## Features"
      ]
    },
    {
      "cell_type": "code",
      "execution_count": null,
      "id": "b59591fc-c476-4441-893c-d2f83ff085ef",
      "metadata": {
        "id": "b59591fc-c476-4441-893c-d2f83ff085ef"
      },
      "outputs": [],
      "source": []
    },
    {
      "cell_type": "code",
      "execution_count": 1,
      "id": "97b8fa2c-a3dc-4ac0-bd26-90876da04589",
      "metadata": {
        "colab": {
          "base_uri": "https://localhost:8080/"
        },
        "id": "97b8fa2c-a3dc-4ac0-bd26-90876da04589",
        "outputId": "7377186a-d28a-475e-8261-4eceb6f712c2"
      },
      "outputs": [
        {
          "output_type": "stream",
          "name": "stdout",
          "text": [
            "[1 2 3]\n",
            "(3,)\n",
            "6\n",
            "2.0\n",
            "1\n",
            "[20 75 18]\n",
            "(2, 3)\n"
          ]
        },
        {
          "output_type": "execute_result",
          "data": {
            "text/plain": [
              "array([3, 6])"
            ]
          },
          "metadata": {},
          "execution_count": 1
        }
      ],
      "source": [
        "# Numpy\n",
        "\n",
        "import numpy as np\n",
        "\n",
        "# Vectors\n",
        "\n",
        "## Creating\n",
        "\n",
        "my_array = np.array([1,2,3])\n",
        "\n",
        "print(my_array)\n",
        "\n",
        "## Get Size\n",
        "\n",
        "print(my_array.shape)\n",
        "\n",
        "## Sum/Average\n",
        "\n",
        "print(my_array.sum())\n",
        "\n",
        "print(my_array.mean())\n",
        "\n",
        "print(my_array.min())\n",
        "\n",
        "## Addition/Subtraction\n",
        "\n",
        "coef = np.array([.5, .5])\n",
        "\n",
        "feats = np.array([10, 20, 5, 75, 18])\n",
        "\n",
        "#print(feats.dot(coef)) # 10*.5 +  20 * .5\n",
        "\n",
        "\n",
        "\n",
        "## Fancy indexing\n",
        "\n",
        "print(feats[feats > 15])\n",
        "\n",
        "\n",
        "## Dot (inner) product\n",
        "\n",
        "#print(feats.dot(coef)) # 10*.5 +  20 * .5\n",
        "\n",
        "feats.argmax()\n",
        "\n",
        "## Arggggggg (argmax)\n",
        "\n",
        "# Matricies\n",
        "\n",
        "matrix = np.array([[1,2,3],[4,5,6]])\n",
        "\n",
        "print(matrix.shape)\n",
        "\n",
        "matrix.max(axis=1)\n",
        "\n",
        "## Similar operations as Vectors\n",
        "\n",
        "\n"
      ]
    },
    {
      "cell_type": "code",
      "execution_count": null,
      "id": "d6730961-49fe-4db1-afaf-2423b88da30d",
      "metadata": {
        "id": "d6730961-49fe-4db1-afaf-2423b88da30d",
        "outputId": "7b83a9d6-c735-4f2c-e4da-66ae160856a1"
      },
      "outputs": [
        {
          "data": {
            "text/plain": [
              "array([3. , 7.5])"
            ]
          },
          "execution_count": 38,
          "metadata": {},
          "output_type": "execute_result"
        }
      ],
      "source": [
        "matrix = np.array([[1,2,3],[4,5,6]])\n",
        "\n",
        "coef = np.array([.5, .5, .5])\n",
        "matrix.dot(coef)"
      ]
    },
    {
      "cell_type": "markdown",
      "id": "9e8906c5-5414-428e-93e9-ab2b5bcac800",
      "metadata": {
        "id": "9e8906c5-5414-428e-93e9-ab2b5bcac800"
      },
      "source": [
        "# Exercise 1\n",
        "\n",
        "For this exercise you get to use your imagination. Think of three potential \"predictive tasks\" (i.e., applications of machine learning). Then, for each task, come up with at least 5 features that are useful for the task. Then, for each feature, think about what type of feature it would be (boolean, Numeric, Ordinal, Categorical, multi-category, etc.) See the example below:\n",
        "\n",
        "**TASK 1**: Predict customer churn at Facebook (i..e, predicting yes or no if a user will delete their account in the next 6 months)\n",
        "\n",
        "**Features for Task 1**:\n",
        "1. How often have they logged into Facebook in the last month?\n",
        "    1. Numeric, e.g., 7 days\n",
        "2. How many comments have they made in the last month?\n",
        "    1. Numeric, e.g., 24 comments\n",
        "3. How many likes have they given in the last month?\n",
        "    1. Numeric, e.g., 120 likes\n",
        "4. How many friends does the user have?\n",
        "    1. Numeric, e.g., 1 friend\n",
        "5. What is the longest period of inactivity of the user since creating an account?\n",
        "    1. Numeric, e.g., 92 days\n",
        "6. What is the age of the user?\n",
        "    1. Numeric, e.g., 50 years old\n",
        "7. Is the user a \"verified account\"?\n",
        "    1. boolean, e.g., \"yes\" or \"no\"\n",
        "    \n",
        "**TIME:** 15 minutes"
      ]
    },
    {
      "cell_type": "code",
      "execution_count": null,
      "id": "a18509f5-db6d-4015-952e-a7c189056988",
      "metadata": {
        "id": "a18509f5-db6d-4015-952e-a7c189056988"
      },
      "outputs": [],
      "source": [
        "# Overall compensation after master degree (> 0)\n",
        "\n",
        "\n",
        "# Major? categorical\n",
        "# How many certs? numerical\n",
        "# How many research papers? numerical\n",
        "# Final GPA? numerical\n",
        "# Does degree match job specifications?\n",
        "\n",
        "\n",
        "# Customer churn Netflix\n",
        "# which year they started as cust. (numerical)\n",
        "# Age of user (numerical)\n",
        "# Sex of user (binary)\n",
        "# How often user logs in per week (numerical)\n",
        "# What categorical of content (categorical)\n",
        "# Screen user time\n",
        "# Device type"
      ]
    },
    {
      "cell_type": "markdown",
      "id": "8ddb59ca-33cd-4f95-a3de-ca7a89dd40a9",
      "metadata": {
        "id": "8ddb59ca-33cd-4f95-a3de-ca7a89dd40a9"
      },
      "source": [
        "# Exercise 2\n",
        "\n",
        "You have a dataset containg test grades for each student in a 5th grade class. There were 3 tests in the course. Using the matrix\n",
        "\n",
        "**YOUR TASK**: The matrix ```grades``` has 3 columns and 20 rows. Using this matrix, complete the following tasks:\n",
        "\n",
        "1. What is the max test grade for each test? HINT: Use \".max(axis=0)\".\n",
        "2. Which row (user) contains the max test grade for each test? i.e., find the user with the max test grade for each test. HINT: First, select a column, then use \".argmax()\".\n",
        "2. Which user (row) had the highest average grade? HINT: First, calculate use \".mean(axis=1)\", then use \".argmax()\"\n",
        "3. Find how many students achived an average score greater than 50. HINT: Calculate average (.mean(axis=1)), then use \"fancy indexing\" to find scores > 50. \n",
        "4. The students performed terribly on each test. Unfortunately, for the students, you (the teacher) are in a bad mood. Instead of curving the students grade up in the class, you want to reduce the students grade by 10\\% for not listening to your instruction. HINT: You should use \"matrix subtraction\" combined with \"scalar-matrix\" multiplication, i.e., X = A - A*b\n",
        "\n",
        "**TIME**: 15 minutes"
      ]
    },
    {
      "cell_type": "code",
      "execution_count": 4,
      "id": "e9cb7063-2c3e-4c66-a471-9bba83369e46",
      "metadata": {
        "id": "e9cb7063-2c3e-4c66-a471-9bba83369e46"
      },
      "outputs": [],
      "source": [
        "import numpy as np\n",
        "\n",
        "grades = np.array([[66, 63, 40],\n",
        "       [65, 32, 28],\n",
        "       [47, 43, 69],\n",
        "       [51, 40, 30],\n",
        "       [39, 32, 60],\n",
        "       [32, 49, 67],\n",
        "       [61, 63, 63],\n",
        "       [45, 39, 29],\n",
        "       [35, 64, 36],\n",
        "       [47, 55, 61],\n",
        "       [34, 21, 40],\n",
        "       [29, 33, 21],\n",
        "       [58, 65, 27],\n",
        "       [44, 57, 40],\n",
        "       [47, 68, 23],\n",
        "       [23, 68, 62],\n",
        "       [22, 33, 31],\n",
        "       [62, 57, 27],\n",
        "       [46, 37, 29],\n",
        "       [35, 62, 25]])"
      ]
    },
    {
      "cell_type": "code",
      "execution_count": 5,
      "id": "b47dd90a-68b3-4d2f-8826-d3733ec4c18f",
      "metadata": {
        "colab": {
          "base_uri": "https://localhost:8080/"
        },
        "id": "b47dd90a-68b3-4d2f-8826-d3733ec4c18f",
        "outputId": "f1c55bc4-09fd-4588-dac3-932e2f285881"
      },
      "outputs": [
        {
          "output_type": "stream",
          "name": "stdout",
          "text": [
            "Ex. 1 [ 0 14  2]\n",
            "Ex. 2 Test 0 0\n",
            "Ex. 2 Test 1 14\n",
            "Ex. 2 Test 2 2\n",
            "Ex. 3 6\n",
            "Ex. 4 5\n",
            "Ex. 5 [[59.4 56.7 36. ]\n",
            " [58.5 28.8 25.2]\n",
            " [42.3 38.7 62.1]\n",
            " [45.9 36.  27. ]\n",
            " [35.1 28.8 54. ]\n",
            " [28.8 44.1 60.3]\n",
            " [54.9 56.7 56.7]\n",
            " [40.5 35.1 26.1]\n",
            " [31.5 57.6 32.4]\n",
            " [42.3 49.5 54.9]\n",
            " [30.6 18.9 36. ]\n",
            " [26.1 29.7 18.9]\n",
            " [52.2 58.5 24.3]\n",
            " [39.6 51.3 36. ]\n",
            " [42.3 61.2 20.7]\n",
            " [20.7 61.2 55.8]\n",
            " [19.8 29.7 27.9]\n",
            " [55.8 51.3 24.3]\n",
            " [41.4 33.3 26.1]\n",
            " [31.5 55.8 22.5]]\n"
          ]
        }
      ],
      "source": [
        "# 1.\n",
        "\n",
        "print('Ex. 1', grades.argmax(axis=0))\n",
        "\n",
        "print('Ex. 2 Test 0', grades[:,0].argmax())\n",
        "print('Ex. 2 Test 1', grades[:,1].argmax())\n",
        "print('Ex. 2 Test 2', grades[:,2].argmax())\n",
        "\n",
        "print('Ex. 3', grades.mean(axis=1).argmax())\n",
        "\n",
        "print('Ex. 4', grades.mean(axis=1)[grades.mean(axis=1) > 50.].shape[0])\n",
        "\n",
        "print('Ex. 5', grades - grades*.1)"
      ]
    },
    {
      "cell_type": "markdown",
      "id": "612b5273-c6f3-477e-9eb3-d83b49860bec",
      "metadata": {
        "id": "612b5273-c6f3-477e-9eb3-d83b49860bec"
      },
      "source": [
        "# Exercise 3\n",
        "\n",
        "Linear regression is fundamental to many areas of data science, including machine learning. Linear regression is defined as\n",
        "$$ y = \\sum_{i=1}^F x_i c_i $$\n",
        "where $x_i$ is a feature and $c_i$ is a learned coefficient. Intuitively, this is making a prediction for a single instance. We can expand this to many examples in a dataset. This expansion can be rewritten using matricies and vectors as\n",
        "$$ \\mathbf{y} = \\mathbf{X} \\mathbf{c}$$\n",
        "where $\\mathbf{X}$ is a matrix with $N$ rows and $k$ columns, and $\\mathbf{c}$ is a vector with $k$ elements. Building on Exercise 2, the rows of $\\mathbf{X}$ represent students and the columns represent tests. We are going to play with the weights of $\\mathbf{c}$ to gain intuition of what is happening.\n",
        "\n",
        "Assume that the 3 tests each student has taken are going to be used to predict what they will get on the final exam. We are going to play with the weights to gain intuition about about linear regression.\n",
        "\n",
        "**YOUR TASK:** Modify the variable ```weights``` to accomplish the following tasks:\n",
        "1. Modify the weights such that the final exam score prediction is equal to their last exam (i.e., the last column of ```grades```).\n",
        "2. Modify the weights such that all students have a score greater than 100.\n",
        "3. Modify the weights such that all students have a score less than -100.\n",
        "4. Modify the weights such that all students have predicted grad of 0.\n",
        "\n",
        "**TIME**: Remainder of class."
      ]
    },
    {
      "cell_type": "code",
      "execution_count": 2,
      "id": "203d6d91-b456-47c5-a389-050a9fa96248",
      "metadata": {
        "id": "203d6d91-b456-47c5-a389-050a9fa96248"
      },
      "outputs": [],
      "source": [
        "weights = np.array([.3333, .3333, .3333]) # MODIFY THE WEIGHTS HERE"
      ]
    },
    {
      "cell_type": "code",
      "execution_count": 6,
      "id": "522625b7-5567-42ee-9313-4ca7412dfd77",
      "metadata": {
        "colab": {
          "base_uri": "https://localhost:8080/"
        },
        "id": "522625b7-5567-42ee-9313-4ca7412dfd77",
        "outputId": "71aac8fc-8016-444e-adee-98c5f53280da"
      },
      "outputs": [
        {
          "output_type": "stream",
          "name": "stdout",
          "text": [
            "[56.3277 41.6625 52.9947 40.3293 43.6623 49.3284 62.3271 37.6629 44.9955\n",
            " 54.3279 31.6635 27.6639 49.995  46.9953 45.9954 50.9949 28.6638 48.6618\n",
            " 37.3296 40.6626]\n",
            "20\n"
          ]
        }
      ],
      "source": [
        "predictions = grades.dot(weights) # This is the predictions of the linear regression model.\n",
        "print(predictions) # This prints the predictions\n",
        "print(len(predictions))"
      ]
    },
    {
      "cell_type": "code",
      "execution_count": 7,
      "id": "1aacac4d-23f9-4055-aa6a-2a708c781ad6",
      "metadata": {
        "colab": {
          "base_uri": "https://localhost:8080/"
        },
        "id": "1aacac4d-23f9-4055-aa6a-2a708c781ad6",
        "outputId": "9043a3c8-7343-4c4b-ed0c-d5ff964ed897"
      },
      "outputs": [
        {
          "output_type": "stream",
          "name": "stdout",
          "text": [
            "[40 28 69 30 60 67 63 29 36 61 40 21 27 40 23 62 31 27 29 25]\n"
          ]
        }
      ],
      "source": [
        "# Ex 1\n",
        "\n",
        "weights = np.array([0, 0, 1]) \n",
        "\n",
        "predictions = grades.dot(weights) \n",
        "print(predictions)"
      ]
    },
    {
      "cell_type": "code",
      "execution_count": 8,
      "id": "4bec1672-cb19-447c-bf7f-0cc52fef340e",
      "metadata": {
        "colab": {
          "base_uri": "https://localhost:8080/"
        },
        "id": "4bec1672-cb19-447c-bf7f-0cc52fef340e",
        "outputId": "3c1551c5-24f6-4297-daf2-dd91b5431f10"
      },
      "outputs": [
        {
          "output_type": "stream",
          "name": "stdout",
          "text": [
            "[1690 1250 1590 1210 1310 1480 1870 1130 1350 1630  950  830 1500 1410\n",
            " 1380 1530  860 1460 1120 1220]\n"
          ]
        }
      ],
      "source": [
        "# Ex 2\n",
        "\n",
        "weights = np.array([10, 10, 10]) \n",
        "\n",
        "predictions = grades.dot(weights) \n",
        "print(predictions)"
      ]
    },
    {
      "cell_type": "code",
      "execution_count": 9,
      "id": "810cc84c-6ddf-4d46-8ec6-1c16b97e7bfa",
      "metadata": {
        "colab": {
          "base_uri": "https://localhost:8080/"
        },
        "id": "810cc84c-6ddf-4d46-8ec6-1c16b97e7bfa",
        "outputId": "a175ea15-08d3-44af-efc8-422b0782c3ea"
      },
      "outputs": [
        {
          "output_type": "stream",
          "name": "stdout",
          "text": [
            "[-1690 -1250 -1590 -1210 -1310 -1480 -1870 -1130 -1350 -1630  -950  -830\n",
            " -1500 -1410 -1380 -1530  -860 -1460 -1120 -1220]\n"
          ]
        }
      ],
      "source": [
        "# Ex 3\n",
        "\n",
        "weights = np.array([-10, -10, -10]) \n",
        "\n",
        "predictions = grades.dot(weights) \n",
        "print(predictions)"
      ]
    },
    {
      "cell_type": "code",
      "execution_count": 10,
      "id": "55ead52c-b97c-4935-b9e4-d3916c8b9eaa",
      "metadata": {
        "colab": {
          "base_uri": "https://localhost:8080/"
        },
        "id": "55ead52c-b97c-4935-b9e4-d3916c8b9eaa",
        "outputId": "d87c596f-1783-4ce9-b1da-9d43a279ad53"
      },
      "outputs": [
        {
          "output_type": "stream",
          "name": "stdout",
          "text": [
            "[0 0 0 0 0 0 0 0 0 0 0 0 0 0 0 0 0 0 0 0]\n"
          ]
        }
      ],
      "source": [
        "# Ex 2\n",
        "\n",
        "weights = np.array([0,0,0]) \n",
        "\n",
        "predictions = grades.dot(weights) \n",
        "print(predictions)"
      ]
    },
    {
      "cell_type": "code",
      "execution_count": null,
      "id": "a3192815-4b00-4f0d-baa1-6eee82e51d89",
      "metadata": {
        "id": "a3192815-4b00-4f0d-baa1-6eee82e51d89"
      },
      "outputs": [],
      "source": []
    }
  ],
  "metadata": {
    "kernelspec": {
      "display_name": "Python 3 (ipykernel)",
      "language": "python",
      "name": "python3"
    },
    "language_info": {
      "codemirror_mode": {
        "name": "ipython",
        "version": 3
      },
      "file_extension": ".py",
      "mimetype": "text/x-python",
      "name": "python",
      "nbconvert_exporter": "python",
      "pygments_lexer": "ipython3",
      "version": "3.8.12"
    },
    "colab": {
      "provenance": [],
      "include_colab_link": true
    }
  },
  "nbformat": 4,
  "nbformat_minor": 5
}