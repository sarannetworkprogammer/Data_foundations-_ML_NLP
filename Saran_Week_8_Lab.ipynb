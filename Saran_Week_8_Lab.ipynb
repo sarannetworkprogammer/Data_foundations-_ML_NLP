{
  "cells": [
    {
      "cell_type": "markdown",
      "metadata": {
        "id": "view-in-github",
        "colab_type": "text"
      },
      "source": [
        "<a href=\"https://colab.research.google.com/github/sarannetworkprogammer/Data_foundations/blob/main/Saran_Week_8_Lab.ipynb\" target=\"_parent\"><img src=\"https://colab.research.google.com/assets/colab-badge.svg\" alt=\"Open In Colab\"/></a>"
      ]
    },
    {
      "cell_type": "markdown",
      "metadata": {
        "id": "xhlHVtBo4nSJ"
      },
      "source": [
        "# Python: More Data Annotation and Numpy\n",
        "\n",
        "Name: \n",
        "abc123:\n",
        "Blank notebook to be used for class exercises."
      ]
    },
    {
      "cell_type": "markdown",
      "metadata": {
        "id": "Si6SHehR4nSX"
      },
      "source": [
        "## Exercise 1\n",
        "\n",
        "Given the provided numpy array, write code that prints the following:\n",
        "    \n",
        "- Print the third row of the array\n",
        "- Print the second column of the array\n",
        "- Print the fourth row's third column (this should print a single number)."
      ]
    },
    {
      "cell_type": "code",
      "execution_count": 25,
      "metadata": {
        "colab": {
          "base_uri": "https://localhost:8080/",
          "height": 0
        },
        "id": "y93Gb3LO4nSb",
        "outputId": "0a9be8ba-5856-4ef0-8c56-85321bb06bb6"
      },
      "outputs": [
        {
          "output_type": "stream",
          "name": "stdout",
          "text": [
            "[[79 95 60]\n",
            " [95 60 61]\n",
            " [99 67 84]\n",
            " [76 76 97]\n",
            " [91 84 98]\n",
            " [70 69 96]\n",
            " [88 65 76]\n",
            " [67 73 80]\n",
            " [82 89 61]\n",
            " [94 67 88]]\n"
          ]
        }
      ],
      "source": [
        "import numpy as np\n",
        "\n",
        "grades = [[79, 95, 60],\n",
        "          [95, 60, 61],\n",
        "          [99, 67, 84],\n",
        "          [76, 76, 97],\n",
        "          [91, 84, 98],\n",
        "          [70, 69, 96],\n",
        "          [88, 65, 76],\n",
        "          [67, 73, 80],\n",
        "          [82, 89, 61],\n",
        "          [94, 67, 88]] # \"grades\" is a list of lists.\n",
        "\n",
        "grades = np.array(grades) # Converts \"grades\" into a numpy array\n",
        "\n",
        "print(grades)\n",
        "\n"
      ]
    },
    {
      "cell_type": "code",
      "execution_count": 26,
      "metadata": {
        "colab": {
          "base_uri": "https://localhost:8080/",
          "height": 0
        },
        "id": "vVlFu4Xr4nSm",
        "outputId": "6485c6c5-325b-4d9c-8a2a-a6253d9fe860"
      },
      "outputs": [
        {
          "output_type": "stream",
          "name": "stdout",
          "text": [
            "[99 67 84]\n",
            "second column of the arrary =[95 60 67 76 84 69 65 73 89 67]\n",
            "fourthrow , 3rd column =97\n",
            "int64\n",
            "2\n"
          ]
        }
      ],
      "source": [
        "# Write Code Here\n",
        "\n",
        "print(grades[2,:])  # printig 2nd row of the arry\n",
        "\n",
        "# printing column of the arry \n",
        "\n",
        "print(f\"second column of the arrary ={grades[:,1]}\")\n",
        "\n",
        "\n",
        "print(f\"fourthrow , 3rd column ={grades[3,2]}\")\n",
        "\n",
        "\n",
        "print(grades.dtype)\n",
        "print(grades.ndim)\n",
        "\n",
        "\n",
        "\n",
        "\n",
        "\n"
      ]
    },
    {
      "cell_type": "code",
      "source": [
        "# array operations \n",
        "\n",
        "\n",
        "a1 = np.array([[1,2,3], [4,5,6]])\n",
        "\n",
        "print(a1.shape)\n",
        "\n",
        "\n",
        "a2 = np.array([[1,1,1],[1,1,1]])\n",
        "\n",
        "print(a2.shape)\n",
        "\n",
        "print(a1 *a2)\n",
        "\n",
        "print(a1/a2)"
      ],
      "metadata": {
        "colab": {
          "base_uri": "https://localhost:8080/",
          "height": 0
        },
        "id": "McV_1n2A_GpU",
        "outputId": "504d81ec-67dd-4c71-85d6-6a28c1af1d95"
      },
      "execution_count": 27,
      "outputs": [
        {
          "output_type": "stream",
          "name": "stdout",
          "text": [
            "(2, 3)\n",
            "(2, 3)\n",
            "[[1 2 3]\n",
            " [4 5 6]]\n",
            "[[1. 2. 3.]\n",
            " [4. 5. 6.]]\n"
          ]
        }
      ]
    },
    {
      "cell_type": "markdown",
      "metadata": {
        "id": "5sk7QQnd4nSr"
      },
      "source": [
        "## Exercise 2\n",
        "\n",
        "Given the provided array in the Lab file, write code the prints the following:\n",
        "\n",
        "- The average grade per test (column) (this should print an array with 3 items)\n",
        "- The average grade per row, i.e., the average test grade per student\n",
        "- Print the max grade per test\n",
        "- Print the average across all students (rows) and tests (columns)"
      ]
    },
    {
      "cell_type": "code",
      "execution_count": 28,
      "metadata": {
        "id": "ONe6LT8H4nSu"
      },
      "outputs": [],
      "source": [
        "import numpy as np\n",
        "\n",
        "grades = [[79, 95, 60],\n",
        "          [95, 60, 61],\n",
        "          [99, 67, 84],\n",
        "          [76, 76, 97],\n",
        "          [91, 84, 98],\n",
        "          [70, 69, 96],\n",
        "          [88, 65, 76],\n",
        "          [67, 73, 80],\n",
        "          [82, 89, 61],\n",
        "          [94, 67, 88]] # \"grades\" is a list of lists.\n",
        "\n",
        "grades = np.array(grades) # Converts \"grades\" into a numpy array"
      ]
    },
    {
      "cell_type": "code",
      "execution_count": 29,
      "metadata": {
        "colab": {
          "base_uri": "https://localhost:8080/",
          "height": 0
        },
        "id": "O2f0pQtd4nS0",
        "outputId": "6a4d24e5-2ccc-4470-b9fa-08ede9fc2516"
      },
      "outputs": [
        {
          "output_type": "stream",
          "name": "stdout",
          "text": [
            "calculating mean of every column = [84.1 74.5 80.1]\n",
            "calculatin mean of every row =[78.         72.         83.33333333 83.         91.         78.33333333\n",
            " 76.33333333 73.33333333 77.33333333 83.        ]\n",
            "maxgrade per test = [99 95 98]\n",
            "Total mean =79.56666666666666\n"
          ]
        }
      ],
      "source": [
        "# Write Code Here\n",
        "\n",
        "#print(grades[:,0].mean(), (grades[:,1]).mean(), (grades[:,2]).mean())\n",
        "\n",
        "\n",
        "print(f\"calculating mean of every column = {grades.mean(axis=0)}\")\n",
        "\n",
        "print(f\"calculatin mean of every row ={grades.mean(axis=1)}\")\n",
        "\n",
        "print(f\"maxgrade per test = {grades.max(axis=0)}\")\n",
        "\n",
        "print(f\"Total mean ={grades.mean()}\")\n",
        "\n",
        "\n",
        "\n"
      ]
    },
    {
      "cell_type": "markdown",
      "metadata": {
        "id": "3l94-gBA4nS4"
      },
      "source": [
        "## Exercise 3\n",
        "\n",
        "Write code that prints the grades of all students that have an average grade less than 90."
      ]
    },
    {
      "cell_type": "code",
      "execution_count": 30,
      "metadata": {
        "id": "Gg_ykGHp4nS8"
      },
      "outputs": [],
      "source": [
        "\n",
        "import numpy as np\n",
        "\n",
        "grades = [[79, 95, 60],\n",
        "          [95, 60, 61],\n",
        "          [99, 67, 84],\n",
        "          [76, 76, 97],\n",
        "          [91, 84, 98],\n",
        "          [70, 69, 96],\n",
        "          [88, 65, 76],\n",
        "          [67, 73, 80],\n",
        "          [82, 89, 61],\n",
        "          [94, 67, 88]] # \"grades\" is a list of lists.\n",
        "\n",
        "grades = np.array(grades) # Converts \"grades\" into a numpy array\n",
        "\n"
      ]
    },
    {
      "cell_type": "code",
      "execution_count": 31,
      "metadata": {
        "id": "EoUZcRVz4nS_",
        "colab": {
          "base_uri": "https://localhost:8080/",
          "height": 0
        },
        "outputId": "a0fff5e6-8295-4831-ebf4-3be6a6ad8c1a"
      },
      "outputs": [
        {
          "output_type": "stream",
          "name": "stdout",
          "text": [
            "[78.         72.         83.33333333 83.         91.         78.33333333\n",
            " 76.33333333 73.33333333 77.33333333 83.        ]\n",
            "[ True  True  True  True False  True  True  True  True  True]\n",
            "[[79 95 60]\n",
            " [95 60 61]\n",
            " [99 67 84]\n",
            " [76 76 97]\n",
            " [70 69 96]\n",
            " [88 65 76]\n",
            " [67 73 80]\n",
            " [82 89 61]\n",
            " [94 67 88]]\n"
          ]
        }
      ],
      "source": [
        "# Write Code Here\n",
        "\n",
        "\n",
        "avg = grades.mean(axis=1)\n",
        "print(avg)\n",
        "\n",
        "bool_index = avg < 90\n",
        "\n",
        "print(bool_index)\n",
        "\n",
        "print(grades[bool_index,:])\n"
      ]
    },
    {
      "cell_type": "markdown",
      "metadata": {
        "id": "81ITG2Yf4nTC"
      },
      "source": [
        "## Exercise 4\n",
        "\n",
        "Write code to adds 10 points every student's test grade **if** their average test grade is greater than 90."
      ]
    },
    {
      "cell_type": "code",
      "execution_count": 32,
      "metadata": {
        "id": "sRI1JDI54nTI"
      },
      "outputs": [],
      "source": [
        "import numpy as np\n",
        "\n",
        "grades = [[79, 95, 60],\n",
        "          [95, 60, 61],\n",
        "          [99, 67, 84],\n",
        "          [76, 76, 97],\n",
        "          [91, 84, 98],\n",
        "          [70, 69, 96],\n",
        "          [88, 65, 76],\n",
        "          [67, 73, 80],\n",
        "          [82, 89, 61],\n",
        "          [94, 67, 88]] # \"grades\" is a list of lists.\n",
        "\n",
        "grades = np.array(grades) # Converts \"grades\" into a numpy array\n",
        "\n",
        "\n",
        "\n",
        "\n"
      ]
    },
    {
      "cell_type": "code",
      "execution_count": 33,
      "metadata": {
        "id": "YMhOWqX94nTK",
        "colab": {
          "base_uri": "https://localhost:8080/",
          "height": 0
        },
        "outputId": "ff7aea16-d2fd-49ed-9d79-3097e10efa2c"
      },
      "outputs": [
        {
          "output_type": "stream",
          "name": "stdout",
          "text": [
            "[False False False False  True False False False False False]\n"
          ]
        },
        {
          "output_type": "execute_result",
          "data": {
            "text/plain": [
              "array([[ 79,  95,  60],\n",
              "       [ 95,  60,  61],\n",
              "       [ 99,  67,  84],\n",
              "       [ 76,  76,  97],\n",
              "       [101,  94, 108],\n",
              "       [ 70,  69,  96],\n",
              "       [ 88,  65,  76],\n",
              "       [ 67,  73,  80],\n",
              "       [ 82,  89,  61],\n",
              "       [ 94,  67,  88]])"
            ]
          },
          "metadata": {},
          "execution_count": 33
        }
      ],
      "source": [
        "# Write Code Here\n",
        "\n",
        "newgrades = grades.copy()\n",
        "\n",
        "index_bool = grades.mean(axis=1) > 90\n",
        "\n",
        "\n",
        "print(index_bool)\n",
        "\n",
        "newgrades[index_bool] += 10\n",
        "\n",
        "newgrades"
      ]
    },
    {
      "cell_type": "markdown",
      "metadata": {
        "id": "klUKxOZY4nTO"
      },
      "source": [
        "## Exercise 5\n",
        "\n",
        "Write a function that takes two 1-dimensional arrays as input and returns the euclidean distance between the two arrays.\n",
        "\n",
        "Euclidean distance is defined as\n",
        "\n",
        "$EDist = \\sqrt{(x_0 - v_0)^2 + (x_1 - v_1)^2 + \\dots + (x_{D-1} - v_{D-1})^2}$\n",
        "\n",
        "The square root of a number in numpy can be calculated as np.sqrt(x), where x is a number or array.\n",
        "\n",
        "Try to complete this exercise with for loops and with vector notation."
      ]
    },
    {
      "cell_type": "code",
      "execution_count": 34,
      "metadata": {
        "id": "vHaNx-hS4nTW",
        "colab": {
          "base_uri": "https://localhost:8080/",
          "height": 0
        },
        "outputId": "c5e5cfc5-d299-46d2-c7b1-3446d34a26bc"
      },
      "outputs": [
        {
          "output_type": "stream",
          "name": "stdout",
          "text": [
            "result =1.7320508075688772\n"
          ]
        }
      ],
      "source": [
        "# Write Code Here METHOD 1  Traditional method with list method 2 descirbed in below block\n",
        "\n",
        "def cal(X,V):\n",
        "  \n",
        "  sum = 0\n",
        "\n",
        "  for x,v in zip(X,V):\n",
        "    sum = sum + (x-v)**2\n",
        "  \n",
        "  result = sum **0.5\n",
        "  return result\n",
        "\n",
        "\n",
        "X = [1,1,1]\n",
        "V = [2,2,2]\n",
        "\n",
        "result = cal(X,V)\n",
        "\n",
        "print(f\"result ={result}\")"
      ]
    },
    {
      "cell_type": "code",
      "source": [
        "# METHOD 2 \n",
        "import numpy as np\n",
        "def edist1(X,V):\n",
        "\n",
        "  return np.sqrt(((X-V)**2).sum())\n",
        "\n",
        "X = np.array([1,2,3,4])\n",
        "V = np.array ([5,6,7,8])\n",
        "\n",
        "result = edist1(X,V)\n",
        "\n",
        "print(result)\n",
        "\n",
        "\n",
        "\n",
        "\n",
        "\n"
      ],
      "metadata": {
        "id": "9kbxBuSgsDjl",
        "colab": {
          "base_uri": "https://localhost:8080/",
          "height": 0
        },
        "outputId": "99760630-209e-4cf5-c42e-ed1ddc4dc0d0"
      },
      "execution_count": 35,
      "outputs": [
        {
          "output_type": "stream",
          "name": "stdout",
          "text": [
            "8.0\n"
          ]
        }
      ]
    },
    {
      "cell_type": "markdown",
      "metadata": {
        "id": "87-UqHfk4nTY"
      },
      "source": [
        "## Exercise 6\n",
        "\n",
        "Write code to load the data in the \"iris.csv\" into numpy arrays.\n",
        "\n",
        "The frst 4 columns are the features/attributes. The last column is the\n",
        "class. Simply load the class as a list of strings. Don't forget to convert the\n",
        "dataset into a numpy array. You can use either DictVectorizer or the CSV\n",
        "method on the previous slide to load the features."
      ]
    },
    {
      "cell_type": "code",
      "source": [
        "from google.colab import drive\n",
        "drive.mount('/content/drive')"
      ],
      "metadata": {
        "colab": {
          "base_uri": "https://localhost:8080/",
          "height": 0
        },
        "id": "Juy900depVyi",
        "outputId": "240dfcfb-41a4-47e1-d82e-18d437b79649"
      },
      "execution_count": 36,
      "outputs": [
        {
          "output_type": "stream",
          "name": "stdout",
          "text": [
            "Drive already mounted at /content/drive; to attempt to forcibly remount, call drive.mount(\"/content/drive\", force_remount=True).\n"
          ]
        }
      ]
    },
    {
      "cell_type": "code",
      "execution_count": 37,
      "metadata": {
        "id": "8dJxKx274nTZ",
        "outputId": "7ca0f452-9103-4ad7-c78c-cf69e47749a5",
        "colab": {
          "base_uri": "https://localhost:8080/",
          "height": 0
        }
      },
      "outputs": [
        {
          "output_type": "stream",
          "name": "stdout",
          "text": [
            "5.1,3.5,1.4,0.2,Iris-setosa\n",
            "4.9,3.0,1.4,0.2,Iris-setosa\n",
            "4.7,3.2,1.3,0.2,Iris-setosa\n",
            "4.6,3.1,1.5,0.2,Iris-setosa\n",
            "5.0,3.6,1.4,0.2,Iris-setosa\n",
            "5.4,3.9,1.7,0.4,Iris-setosa\n",
            "4.6,3.4,1.4,0.3,Iris-setosa\n",
            "5.0,3.4,1.5,0.2,Iris-setosa\n",
            "4.4,2.9,1.4,0.2,Iris-setosa\n",
            "4.9,3.1,1.5,0.1,Iris-setosa\n"
          ]
        }
      ],
      "source": [
        "with open(\"/content/drive/MyDrive/Colab Notebooks/iris.csv\") as in_file:\n",
        "    count = 0\n",
        "    for row in in_file:\n",
        "      print(row.strip())\n",
        "      count += 1\n",
        "      if count == 10:\n",
        "          break"
      ]
    },
    {
      "cell_type": "code",
      "source": [
        "import numpy as np\n",
        "import csv\n",
        "\n",
        "X = []\n",
        "Y= []\n",
        "with open(\"/content/drive/MyDrive/Colab Notebooks/iris.csv\") as in_file:\n",
        "  iCSV = csv.reader(in_file, delimiter=\",\")\n",
        "\n",
        "  for row in iCSV:\n",
        "    X.append([float(x) for x in row[:-1]])\n",
        "    Y.append(row[-1])\n",
        "\n",
        "X = np.array(X)\n",
        "Y = np.array(Y)\n",
        "\n",
        "print(X.shape)\n",
        "print(Y.shape)"
      ],
      "metadata": {
        "colab": {
          "base_uri": "https://localhost:8080/",
          "height": 0
        },
        "id": "8-kX9jPYqQJC",
        "outputId": "b38cf7bf-1663-426f-e47d-7e42b5978736"
      },
      "execution_count": 38,
      "outputs": [
        {
          "output_type": "stream",
          "name": "stdout",
          "text": [
            "(150, 4)\n",
            "(150,)\n"
          ]
        }
      ]
    },
    {
      "cell_type": "code",
      "source": [
        "from sklearn.feature_extraction import DictVectorizer\n",
        "\n",
        "\n",
        "X_list_dict =[]\n",
        "\n",
        "Y= []\n",
        "with open(\"/content/drive/MyDrive/Colab Notebooks/iris.csv\") as in_file:\n",
        "  iCSV = csv.reader(in_file, delimiter=\",\")\n",
        "\n",
        "  for row in iCSV:\n",
        "\n",
        "    features = {\"col_1\":float(row[0]),\n",
        "                \"col_2\":float(row[0]),\n",
        "                \"col_3\":float(row[0]),\n",
        "                \"col_4\":float(row[0]),\n",
        "                }\n",
        "    X_list_dict.append(features)\n",
        "    Y.append(row[-1])\n",
        "\n",
        "vec = DictVectorizer(sparse=False)\n",
        "\n",
        "X = vec.fit_transform(X_list_dict)\n",
        "\n",
        "  \n",
        "Y = np.array(Y)\n",
        "\n",
        "print(X.shape)\n",
        "print(Y.shape)\n"
      ],
      "metadata": {
        "id": "iKWixbSVpISX",
        "colab": {
          "base_uri": "https://localhost:8080/",
          "height": 0
        },
        "outputId": "ccb4a383-c5a8-4a33-846e-15404e095431"
      },
      "execution_count": 39,
      "outputs": [
        {
          "output_type": "stream",
          "name": "stdout",
          "text": [
            "(150, 4)\n",
            "(150,)\n"
          ]
        }
      ]
    },
    {
      "cell_type": "code",
      "execution_count": 40,
      "metadata": {
        "id": "j_bMlQSP4nTj"
      },
      "outputs": [],
      "source": [
        "# Write code here"
      ]
    }
  ],
  "metadata": {
    "kernelspec": {
      "display_name": "Python 3",
      "language": "python",
      "name": "python3"
    },
    "language_info": {
      "codemirror_mode": {
        "name": "ipython",
        "version": 3
      },
      "file_extension": ".py",
      "mimetype": "text/x-python",
      "name": "python",
      "nbconvert_exporter": "python",
      "pygments_lexer": "ipython3",
      "version": "3.8.3"
    },
    "colab": {
      "provenance": [],
      "collapsed_sections": [],
      "include_colab_link": true
    }
  },
  "nbformat": 4,
  "nbformat_minor": 0
}