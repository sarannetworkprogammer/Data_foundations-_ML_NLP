{
  "nbformat": 4,
  "nbformat_minor": 0,
  "metadata": {
    "colab": {
      "provenance": [],
      "authorship_tag": "ABX9TyMmUd1IBRMqPgr/1ljD9WFB",
      "include_colab_link": true
    },
    "kernelspec": {
      "name": "python3",
      "display_name": "Python 3"
    },
    "language_info": {
      "name": "python"
    }
  },
  "cells": [
    {
      "cell_type": "markdown",
      "metadata": {
        "id": "view-in-github",
        "colab_type": "text"
      },
      "source": [
        "<a href=\"https://colab.research.google.com/github/sarannetworkprogammer/Data_foundations/blob/main/week8_practise.ipynb\" target=\"_parent\"><img src=\"https://colab.research.google.com/assets/colab-badge.svg\" alt=\"Open In Colab\"/></a>"
      ]
    },
    {
      "cell_type": "code",
      "execution_count": null,
      "metadata": {
        "id": "WbqgIQXpMFQJ"
      },
      "outputs": [],
      "source": [
        "# Reshaping and transposing\n",
        "\"\"\"\n",
        "np.arange(6).reshape(2,3)\n",
        "order columns\n",
        "\n",
        "\n",
        "np.arange(6).reshape(2,3).T\n",
        "\n",
        "Fast element wise functions\n",
        "\n",
        "abs, fasb\n",
        "sqrt\n",
        "\n",
        "np.sqrt\n",
        "\n",
        "np.square\n",
        "\n",
        "\n",
        "np.abs\n",
        "\n",
        "np.exp\n",
        "\n",
        "np.sign\n",
        "\n",
        "np\n",
        "\n",
        "we are converting tabular data to matrices for mathematical computation like csv files to tabular data ------> Matrices\n",
        "\n",
        "\n",
        "\"\"\""
      ]
    },
    {
      "cell_type": "code",
      "source": [],
      "metadata": {
        "id": "5vGsESETNUx_"
      },
      "execution_count": null,
      "outputs": []
    },
    {
      "cell_type": "code",
      "source": [
        "import numpy as np\n",
        "\n",
        "grades = [[79, 95, 60],\n",
        "          [95, 60, 61],\n",
        "          [99, 67, 84],\n",
        "          [76, 76, 97],\n",
        "          [91, 84, 98],\n",
        "          [70, 69, 96],\n",
        "          [88, 65, 76],\n",
        "          [67, 73, 80],\n",
        "          [82, 89, 61],\n",
        "          [94, 67, 88]] # \"grades\" is a list of lists.\n",
        "\n",
        "grades = np.array(grades) # Converts \"grades\" into a numpy array\n",
        "\n",
        "grades.T\n"
      ],
      "metadata": {
        "colab": {
          "base_uri": "https://localhost:8080/"
        },
        "id": "fFNLzfXIM-RC",
        "outputId": "fead093f-4d61-43e4-f9c7-477a2249b0cd"
      },
      "execution_count": 1,
      "outputs": [
        {
          "output_type": "execute_result",
          "data": {
            "text/plain": [
              "array([[79, 95, 99, 76, 91, 70, 88, 67, 82, 94],\n",
              "       [95, 60, 67, 76, 84, 69, 65, 73, 89, 67],\n",
              "       [60, 61, 84, 97, 98, 96, 76, 80, 61, 88]])"
            ]
          },
          "metadata": {},
          "execution_count": 1
        }
      ]
    },
    {
      "cell_type": "code",
      "source": [
        "np.exp(grades)   # e^79\n",
        "\n",
        "\n",
        "print(np.sqrt(grades))"
      ],
      "metadata": {
        "colab": {
          "base_uri": "https://localhost:8080/"
        },
        "id": "jErndarINW3M",
        "outputId": "37779458-4011-49c2-a8c6-d2c95b6dfbeb"
      },
      "execution_count": 3,
      "outputs": [
        {
          "output_type": "stream",
          "name": "stdout",
          "text": [
            "[[8.88819442 9.74679434 7.74596669]\n",
            " [9.74679434 7.74596669 7.81024968]\n",
            " [9.94987437 8.18535277 9.16515139]\n",
            " [8.71779789 8.71779789 9.8488578 ]\n",
            " [9.53939201 9.16515139 9.89949494]\n",
            " [8.36660027 8.30662386 9.79795897]\n",
            " [9.38083152 8.06225775 8.71779789]\n",
            " [8.18535277 8.54400375 8.94427191]\n",
            " [9.05538514 9.43398113 7.81024968]\n",
            " [9.69535971 8.18535277 9.38083152]]\n"
          ]
        }
      ]
    },
    {
      "cell_type": "code",
      "source": [
        "np.ceil(np.sqrt(grades))"
      ],
      "metadata": {
        "colab": {
          "base_uri": "https://localhost:8080/"
        },
        "id": "G-yzu-PnNjf_",
        "outputId": "5d7c3290-58ec-40df-91ef-2a4a5f86e184"
      },
      "execution_count": 5,
      "outputs": [
        {
          "output_type": "execute_result",
          "data": {
            "text/plain": [
              "array([[ 9., 10.,  8.],\n",
              "       [10.,  8.,  8.],\n",
              "       [10.,  9., 10.],\n",
              "       [ 9.,  9., 10.],\n",
              "       [10., 10., 10.],\n",
              "       [ 9.,  9., 10.],\n",
              "       [10.,  9.,  9.],\n",
              "       [ 9.,  9.,  9.],\n",
              "       [10., 10.,  8.],\n",
              "       [10.,  9., 10.]])"
            ]
          },
          "metadata": {},
          "execution_count": 5
        }
      ]
    },
    {
      "cell_type": "code",
      "source": [
        "# matrix multiplication  no of columns = no of rows\n",
        "# row, vector ,column vector, Diagonla matrix, vector product ----scalar logistic regression \n",
        "\n",
        "a = b = np.arange(5)\n",
        "a\n",
        "print(a.dot(b))  # dot prduct \n",
        "\n",
        "\n",
        "\n",
        "\n",
        "\n",
        "\n",
        "\n",
        "\n"
      ],
      "metadata": {
        "colab": {
          "base_uri": "https://localhost:8080/"
        },
        "id": "jPqwJqW_SGBJ",
        "outputId": "d4fc64f9-5a98-46b8-c613-b9a2b7ea660a"
      },
      "execution_count": 9,
      "outputs": [
        {
          "output_type": "stream",
          "name": "stdout",
          "text": [
            "30\n"
          ]
        }
      ]
    },
    {
      "cell_type": "code",
      "source": [
        "a = np.array([[1,0,1],[0,1,0]])\n",
        "\n",
        "b = np.random.randint(0,5,(3,2))\n",
        "\n",
        "print(a)\n",
        "print(b)\n",
        "\n",
        "\n",
        "a.dot(b)"
      ],
      "metadata": {
        "colab": {
          "base_uri": "https://localhost:8080/"
        },
        "id": "If6vG5O9TFe2",
        "outputId": "e91a6530-787e-4e01-f7d6-470d8f8b62f6"
      },
      "execution_count": 13,
      "outputs": [
        {
          "output_type": "stream",
          "name": "stdout",
          "text": [
            "[[1 0 1]\n",
            " [0 1 0]]\n",
            "[[0 3]\n",
            " [3 4]\n",
            " [2 2]]\n"
          ]
        },
        {
          "output_type": "execute_result",
          "data": {
            "text/plain": [
              "array([[2, 5],\n",
              "       [3, 4]])"
            ]
          },
          "metadata": {},
          "execution_count": 13
        }
      ]
    },
    {
      "cell_type": "code",
      "source": [
        "# scaling diagonal matrix by making daigonal matrix \n",
        "import numpy as np\n",
        "scaling = [1.1, 1.05, 1.03]\n",
        "\"\"\"\n",
        "latency of numpy optmized algorimthms\n",
        "arg, arg max \n",
        "\n",
        "which gives indices of the min max\n",
        "\n",
        "a.sort()\n",
        "\n",
        "\n",
        "\"\"\"\n"
      ],
      "metadata": {
        "id": "EWUuWhx7TggR"
      },
      "execution_count": 16,
      "outputs": []
    },
    {
      "cell_type": "markdown",
      "source": [
        "Every thing is avector\n",
        "\n",
        "\n",
        "Data objects , Attribute types\n",
        "\n",
        "Customers\n",
        "Students,professors, Courses\n",
        "Tweets\n",
        "Images\n",
        "Genes, Drugs, Procedures\n",
        "Attribute\n",
        "\n",
        "\n",
        "Data object represents entity \n",
        "\n",
        "Attribute is data field (synonyms dimensions, /features/variables \n",
        "\n",
        "Types of attributes\n",
        "\n",
        "Nominal : one feature hair color, reg green , cycling one category\n",
        "\n",
        "Binary : yes or no \n",
        "\n",
        "ordinal : drink_size, which coffe is sell the most , professional rank short tall or samll or medium or large\n",
        "\n",
        "Grade (A, B, C , ) Professional rank (assistant, tenure, associate , Full professor)\n",
        "\n",
        "Numerical : Things (70F )\n",
        "Speed\n",
        "\n",
        "\n",
        "Goal data object transform to a vector , nominal \n",
        "\n",
        "eg hair_color (black = 0 , blonde =1, red =2)\n",
        "\n",
        "no inherent order of categoires\n",
        "\n",
        "\n",
        "One hot encoding\n",
        "\n",
        "hair_color \n",
        "\n",
        "black = [1,0,0]\n",
        "blonde = [0,1,0]\n",
        "red = [0,0,1]\n",
        "\n",
        "when there is two unique classes we will go to binary\n",
        "\n",
        "\n",
        "sklearn sckit \n",
        "\n",
        "dict vecotrizes -----numpy array  using one hot encoding\n",
        "\n",
        "data set for the people\n",
        "\n",
        "\n",
        "\n",
        "\n",
        "\n",
        "\n",
        "\n",
        "\n",
        "\n",
        "\n"
      ],
      "metadata": {
        "id": "J99vRUXPXmzU"
      }
    },
    {
      "cell_type": "code",
      "source": [
        "import numpy as np\n",
        "\n",
        "vec = np.zeros((3))\n",
        "print(vec)"
      ],
      "metadata": {
        "colab": {
          "base_uri": "https://localhost:8080/"
        },
        "id": "BBEQvNFaVExH",
        "outputId": "e6fe2923-7d1f-4bf2-b859-cd54d5f638e6"
      },
      "execution_count": 18,
      "outputs": [
        {
          "output_type": "stream",
          "name": "stdout",
          "text": [
            "[0. 0. 0.]\n"
          ]
        }
      ]
    },
    {
      "cell_type": "code",
      "source": [
        "from sklearn.feature_extraction import DictVectorizer\n",
        "\n",
        "datasetDicts =[{\"age\":1,\"hair_color\":\"blue\"},\n",
        "               {\"age\":2,\"hair_color\":\"green\"},\n",
        "               {\"age\":5,\"hair_color\":\"red\"}]\n",
        " \n",
        "vec = DictVectorizer(sparse=False)   # take list of dicts and converts matrices\n",
        "\n",
        "dataset = vec.fit_transform(datasetDicts)\n",
        "\n",
        "print(dataset)\n",
        "\n",
        "print(vec.feature_names_)\n",
        "\n",
        "\n",
        "new_data = [{\"age\":1,\"hair_color\":\"purple\"},]\n",
        "\n",
        "new_x = vec.transform(new_data)"
      ],
      "metadata": {
        "colab": {
          "base_uri": "https://localhost:8080/"
        },
        "id": "14frcf4lR5U7",
        "outputId": "704c1311-10fb-4566-8524-933e7ab7555f"
      },
      "execution_count": 25,
      "outputs": [
        {
          "output_type": "stream",
          "name": "stdout",
          "text": [
            "[[1. 1. 0. 0.]\n",
            " [2. 0. 1. 0.]\n",
            " [5. 0. 0. 1.]]\n",
            "['age', 'hair_color=blue', 'hair_color=green', 'hair_color=red']\n"
          ]
        }
      ]
    },
    {
      "cell_type": "markdown",
      "source": [
        "what if someone has multiple hair colors\n",
        "\n",
        "multi hot encoding\n",
        "\n",
        "\n",
        "multi label binarizer\n",
        "\n",
        " np.hstack horizonal stack merge them add it no of colours"
      ],
      "metadata": {
        "id": "Q1Vnhf2xlj2Z"
      }
    },
    {
      "cell_type": "code",
      "source": [
        "vec = np.zeros(3)"
      ],
      "metadata": {
        "id": "3btA0K5klzY8"
      },
      "execution_count": null,
      "outputs": []
    }
  ]
}