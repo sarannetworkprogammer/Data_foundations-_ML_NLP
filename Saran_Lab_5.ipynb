{
  "cells": [
    {
      "cell_type": "markdown",
      "metadata": {
        "id": "view-in-github",
        "colab_type": "text"
      },
      "source": [
        "<a href=\"https://colab.research.google.com/github/sarannetworkprogammer/Data_foundations/blob/main/Saran_Lab_5.ipynb\" target=\"_parent\"><img src=\"https://colab.research.google.com/assets/colab-badge.svg\" alt=\"Open In Colab\"/></a>"
      ]
    },
    {
      "cell_type": "markdown",
      "metadata": {
        "id": "ovxcntb1ZuVC"
      },
      "source": [
        "# Python: Objects\n",
        "\n",
        "Blank notebook to be used for class exercises.\n",
        "\n",
        "Name: Malakalapalli Saranchowdary\n",
        "\n",
        "abc123: pkb378"
      ]
    },
    {
      "cell_type": "markdown",
      "metadata": {
        "id": "iuNi3T9MZuVJ"
      },
      "source": [
        "## Exercise 1\n",
        "\n",
        "This exercise has two parts. First, answer the following questions:\n",
        "\n",
        "- What is the division **method** called for float objects?    __truediv__()\n",
        "- How many methods and attributes are there for float objects?    57\n",
        "- How many methods and attributes are there for list objects?     46\n",
        "\n",
        "Second, write code that uses the division **METHOD** (don't use \"/\", but the result should be the same as using \"/\") to divide a float object with the value 42 by 7."
      ]
    },
    {
      "cell_type": "markdown",
      "source": [],
      "metadata": {
        "id": "ST3ogMVhfQBM"
      }
    },
    {
      "cell_type": "code",
      "execution_count": null,
      "metadata": {
        "colab": {
          "base_uri": "https://localhost:8080/"
        },
        "id": "YLO2AZFnZuVK",
        "outputId": "b424a0c0-2539-4f9c-be90-754f33f2827d"
      },
      "outputs": [
        {
          "output_type": "execute_result",
          "data": {
            "text/plain": [
              "6.0"
            ]
          },
          "metadata": {},
          "execution_count": 40
        }
      ],
      "source": [
        "a = 42 \n",
        "a.__truediv__(7)"
      ]
    },
    {
      "cell_type": "code",
      "source": [
        "a =3.0\n",
        "b =[1,2]\n",
        "\n",
        "len(dir(a))\n",
        "\n"
      ],
      "metadata": {
        "colab": {
          "base_uri": "https://localhost:8080/"
        },
        "id": "u59BFqOqlSMa",
        "outputId": "5676d059-d232-44c8-b293-3367195b8dd6"
      },
      "execution_count": null,
      "outputs": [
        {
          "output_type": "execute_result",
          "data": {
            "text/plain": [
              "57"
            ]
          },
          "metadata": {},
          "execution_count": 48
        }
      ]
    },
    {
      "cell_type": "code",
      "source": [
        "len(dir(b))"
      ],
      "metadata": {
        "colab": {
          "base_uri": "https://localhost:8080/"
        },
        "id": "IsHG_0_Ys4_O",
        "outputId": "6afc838b-a15c-4062-8020-cd714ca207f5"
      },
      "execution_count": null,
      "outputs": [
        {
          "output_type": "execute_result",
          "data": {
            "text/plain": [
              "46"
            ]
          },
          "metadata": {},
          "execution_count": 49
        }
      ]
    },
    {
      "cell_type": "markdown",
      "metadata": {
        "id": "OMZqBuggZuVN"
      },
      "source": [
        "## Exercise 2\n",
        "\n",
        "Write a class named “CheckingAccount” that contains the current balance of the account (an int) and the following methods:\n",
        "\n",
        "- **init** - takes a “balance” parameter to initialize the data (balance)of the object.\n",
        "- **withdraw** - takes an input parameter “amount” and modifies thedata by reducing the balance.  If “amount” results in an overdraw,subtract an extra 20 dollars.  This method should return the balance.\n",
        "- **deposit** - takes an input parameter “amount” and modifies the databy increasing the balance by “amount”.\n",
        "\n",
        "Write a few test cases to check your work (Use assert)"
      ]
    },
    {
      "cell_type": "code",
      "execution_count": null,
      "metadata": {
        "colab": {
          "base_uri": "https://localhost:8080/"
        },
        "id": "i1bVmT-nZuVZ",
        "outputId": "b7b3a47a-0154-4001-a7d9-203beddf27fa"
      },
      "outputs": [
        {
          "output_type": "stream",
          "name": "stdout",
          "text": [
            "Asserts worked\n"
          ]
        }
      ],
      "source": [
        "# CODE HERE\n",
        "\n",
        "\n",
        "class CheckingAccount:\n",
        "  current_balance = 0\n",
        "\n",
        "  def __init__(self, amount):\n",
        "    self.current_balance = amount\n",
        "  \n",
        "  def withdraw(self,amount):\n",
        "\n",
        "    self.current_balance = self.current_balance - amount\n",
        "\n",
        "    if self.current_balance < 0:\n",
        "      self.current_balance -= 20\n",
        "  \n",
        "  def deposit(self,amount):\n",
        "\n",
        "    self.current_balance += amount\n",
        "\n",
        "\n",
        "start = 30\n",
        "\n",
        "check = CheckingAccount(30)\n",
        "\n",
        "assert(check.current_balance == 30)\n",
        "\n",
        "check.withdraw(31)\n",
        "\n",
        "\n",
        "assert(check.current_balance == -21)\n",
        "\n",
        "check.deposit(51)\n",
        "\n",
        "assert(check.current_balance == 30)\n",
        "\n",
        "\n",
        "\n",
        "print(\"Asserts worked\")\n",
        "\n",
        "\n",
        "\n"
      ]
    },
    {
      "cell_type": "markdown",
      "metadata": {
        "id": "GsQsOePeZuVa"
      },
      "source": [
        "## Exercise 3\n",
        "\n",
        "Answer the following questions before running the code below:\n",
        "\n",
        "- What are the parent and child classes here? parentclass - Spell, Childclass- Accio, Confundo, \n",
        "- What does the code print out?  (Try figuring it out without running itin Python)\n",
        "\n",
        "Accio\n",
        "Summoning Charm Accio\n",
        "No description\n",
        "Confundus Charm Confundo\n",
        "Causes the victim to become confused and befuddled\n",
        "\n",
        "- Which get description method is called when ‘studyspell(Confundo())’ is executed?  Why?\n",
        "\n",
        "Confundo class get description method called when ‘studyspell(Confundo())’ is executed. That over writes description method from parent class\n",
        "\n",
        "\n",
        "- What do we need to do so that ‘print(Accio())’ will print the appropriate description (‘This charm summons an object to the caster,potentially over a significant distance’)?  Change to code to do this.\n",
        "\n",
        "In Spell class change the return satement of get description method"
      ]
    },
    {
      "cell_type": "code",
      "execution_count": null,
      "metadata": {
        "id": "j51Zox5KZuVb"
      },
      "outputs": [],
      "source": [
        "class Spell:\n",
        "    name = ''\n",
        "    incantation = ''\n",
        "    \n",
        "    def __init__(self, incantation, name): # \"Accio\" and \"Summoning Charm\"\n",
        "        self.name = name\n",
        "        self.incantation = incantation\n",
        "        \n",
        "    def __str__(self):\n",
        "        return self.name + \" \" + self.incantation + \"\\n\" + self.get_description()\n",
        "    \n",
        "    def get_description(self):\n",
        "        return \"This charm summons an object to the caster,potentially over a significant distance\"\n",
        "    \n",
        "    def execute(self):\n",
        "        print(self.incantation)\n",
        "        \n",
        "class Accio(Spell):\n",
        "    def __init__(self):\n",
        "        Spell.__init__(self, \"Accio\", \"Summoning Charm\")\n",
        "        \n",
        "        \n",
        "class Confundo(Spell):\n",
        "    def __init__(self):\n",
        "        Spell.__init__(self, \"Confundo\", \"Confundus Charm\")\n",
        "        \n",
        "    def get_description(self):\n",
        "        return \"Causes the victim to become confused and befuddled.\"\n",
        "    \n",
        "def study_spell(spell):\n",
        "    print(spell)"
      ]
    },
    {
      "cell_type": "code",
      "execution_count": null,
      "metadata": {
        "colab": {
          "base_uri": "https://localhost:8080/"
        },
        "id": "7i2X4j2hZuVb",
        "outputId": "fabd2e0e-a74d-4b34-c780-a7d44227ae97"
      },
      "outputs": [
        {
          "output_type": "stream",
          "name": "stdout",
          "text": [
            "Accio\n",
            "Summoning Charm Accio\n",
            "This charm summons an object to the caster,potentially over a significant distance\n",
            "Confundus Charm Confundo\n",
            "Causes the victim to become confused and befuddled.\n"
          ]
        }
      ],
      "source": [
        "# DO NOT RUN THIS CELL UNTIL YOU ANSWER THE QUESTIONS ABOVE!\n",
        "spell = Accio()\n",
        "spell.execute()\n",
        "study_spell(spell)\n",
        "study_spell(Confundo())"
      ]
    },
    {
      "cell_type": "markdown",
      "metadata": {
        "id": "RpgMYeP7ZuVc"
      },
      "source": [
        "PUT YOUR ANSWERS TO THE QUESTIONS HERE IN THIS MARKDOWN CELL"
      ]
    },
    {
      "cell_type": "markdown",
      "metadata": {
        "id": "dyUF0DB4ZuVd"
      },
      "source": [
        "## Exercise 4\n",
        "\n",
        "Expand on the Point class presented above by overloading the following operators:\n",
        "\n",
        "- Equality (== / \\_\\_eq\\_\\_) – Two points should be equal if all the values are equal (i.e., x in self is equal to x in other)\n",
        "    - This method should return either True or False\n",
        "- Greater than (> / \\_\\_gt\\_\\_) – One point is greater than another if the magnitude of self is greater than other.\n",
        "    - This method should return True or False.\n",
        "    - Calculate magnitude as $x^2+y^2$ (hint 1: self.x ** 2 hint 2: other.x ** 2)\n",
        "    \n",
        "Write a few test cases for your code (use assert)"
      ]
    },
    {
      "cell_type": "code",
      "execution_count": null,
      "metadata": {
        "id": "YhXCTOXLZuVd"
      },
      "outputs": [],
      "source": [
        "class Point:\n",
        "    def __init__(self, x=0, y=0):\n",
        "        self.x = x\n",
        "        self.y = y\n",
        "\n",
        "    def __str__(self):\n",
        "        return \"({0},{1})\".format(self.x, self.y)\n",
        "\n",
        "    def __add__(self, other):\n",
        "        x = self.x + other.x\n",
        "        y = self.y + other.y\n",
        "        return Point(x, y)\n",
        "\n",
        "    # WRITE CODE HERE\n",
        "\n",
        "\n",
        "    def __eq__(self,other):\n",
        "      if self.x == other.x and self.y == other.y:\n",
        "        return True\n",
        "      \n",
        "      return False\n",
        "\n",
        "    \n",
        "    def __gt__(self,other):\n",
        "      self_mag = self.x**2 + self.y**2\n",
        "      other_mag = other.x**2 + other.y**2\n",
        "\n",
        "      if self_mag > other_mag:\n",
        "        return True\n",
        "\n",
        "      return False"
      ]
    },
    {
      "cell_type": "code",
      "execution_count": null,
      "metadata": {
        "colab": {
          "base_uri": "https://localhost:8080/"
        },
        "outputId": "d7c61c68-564a-4e1e-b3db-10a5de2346e9",
        "id": "iOM9h1B5qWKR"
      },
      "outputs": [
        {
          "output_type": "stream",
          "name": "stdout",
          "text": [
            "False\n",
            "True\n"
          ]
        }
      ],
      "source": [
        "# WRITE TEST CODE HERE\n",
        "\n",
        "p1 = Point(1,1)\n",
        "p2 = Point(1,2)\n",
        "p3 = Point(2,2)\n",
        "p4 = Point(2,2)\n",
        "print(p1 > p2)\n",
        "print(p3 == p4)"
      ]
    },
    {
      "cell_type": "code",
      "execution_count": null,
      "metadata": {
        "id": "a4q60Mm9ZuVe"
      },
      "outputs": [],
      "source": []
    }
  ],
  "metadata": {
    "kernelspec": {
      "display_name": "Python 3",
      "language": "python",
      "name": "python3"
    },
    "language_info": {
      "codemirror_mode": {
        "name": "ipython",
        "version": 3
      },
      "file_extension": ".py",
      "mimetype": "text/x-python",
      "name": "python",
      "nbconvert_exporter": "python",
      "pygments_lexer": "ipython3",
      "version": "3.8.3"
    },
    "colab": {
      "provenance": [],
      "include_colab_link": true
    }
  },
  "nbformat": 4,
  "nbformat_minor": 0
}