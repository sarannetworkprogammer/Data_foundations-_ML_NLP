{
  "cells": [
    {
      "cell_type": "markdown",
      "metadata": {
        "id": "view-in-github",
        "colab_type": "text"
      },
      "source": [
        "<a href=\"https://colab.research.google.com/github/sarannetworkprogammer/Data_foundations/blob/main/Saran_Week_10_Lab.ipynb\" target=\"_parent\"><img src=\"https://colab.research.google.com/assets/colab-badge.svg\" alt=\"Open In Colab\"/></a>"
      ]
    },
    {
      "cell_type": "markdown",
      "metadata": {
        "id": "tS_JnqOK53nQ"
      },
      "source": [
        "# Machine Learning Case Study\n",
        "\n",
        "Name: \n",
        "abc123: \n",
        "\n",
        "Blank notebook to be used for class exercises."
      ]
    },
    {
      "cell_type": "markdown",
      "metadata": {
        "id": "8XFyLzPE53nS"
      },
      "source": [
        "## Real Example using Week 8's Material"
      ]
    },
    {
      "cell_type": "code",
      "source": [
        "from google.colab import drive\n",
        "drive.mount('/content/drive')"
      ],
      "metadata": {
        "id": "T6PlJDQb58SF",
        "outputId": "ee350dd2-14fd-4608-ba6a-80fdbd782109",
        "colab": {
          "base_uri": "https://localhost:8080/"
        }
      },
      "execution_count": 63,
      "outputs": [
        {
          "output_type": "stream",
          "name": "stdout",
          "text": [
            "Drive already mounted at /content/drive; to attempt to forcibly remount, call drive.mount(\"/content/drive\", force_remount=True).\n"
          ]
        }
      ]
    },
    {
      "cell_type": "code",
      "execution_count": 64,
      "metadata": {
        "id": "JiIY1Q3953nS"
      },
      "outputs": [],
      "source": [
        "# Read the data and convert data to matrix\n",
        "\n",
        "# Explore Data\n",
        "\n",
        "# Train model on Data\n",
        "\n",
        "# Evaluate model\n",
        "# /content/drive/MyDrive/Colab Notebooks/insurance.csv"
      ]
    },
    {
      "cell_type": "code",
      "source": [
        "import csv\n",
        "import numpy as np\n",
        "from sklearn.feature_extraction import DictVectorizer\n",
        "from sklearn.model_selection import train_test_split\n",
        "\n",
        "np.random.seed(42)\n",
        "\n",
        "import random\n",
        "random.seed(42)\n",
        "\n",
        "X_dicts =[]\n",
        "\n",
        "y =[]\n",
        "\n",
        "\n",
        "myfile = open(\"/content/drive/MyDrive/Colab Notebooks/week10/churn.csv\")\n",
        "\n",
        "iCsv = csv.reader(myfile, delimiter=',')\n",
        "\n",
        "header = next(iCsv)\n",
        "\n",
        "\n",
        "for row in iCsv:\n",
        "\n",
        "  y.append(int(row[-1]))\n",
        "\n",
        "  new_dict = {}\n",
        "  new_dict[header[3]] = float(row[3])\n",
        "  new_dict[header[4]] = row[4]\n",
        "  new_dict[header[5]] = row[5]\n",
        "\n",
        "  for h, i in zip(header[6:-1], row[6:-1]):\n",
        "    new_dict[h] = float(i)\n",
        "\n",
        "  X_dicts.append(new_dict)\n",
        "\n",
        "\n",
        "\n",
        "\n",
        "\n",
        "#print(y)\n",
        "#print(header)\n",
        "\n",
        "\n",
        "myfile.close()\n",
        "\n",
        "print(len(y), len(X_dicts))\n",
        "\n",
        "\n",
        "# here we read the file and save the data as list of dictionaries and used dict vectorizer to convert into matrix \n",
        "# converting to matrix X and y \n",
        "\n",
        "vec = DictVectorizer(sparse=False)\n",
        "\n",
        "X = vec.fit_transform(X_dicts)\n",
        "y = np.array(y)\n",
        "\n",
        "\n",
        "#print(X.shape)  # it has 10k samples and 13 features\n",
        "\n",
        "#print(vec.feature_names_)\n",
        "\n",
        "# explore the data\n",
        "\n",
        "# axis = 0 take the mean of column names\n",
        "\n",
        "stats = X.mean(axis=0)\n",
        "\n",
        "\n",
        "#stats = X.max(axis=0)\n",
        "\n",
        "for f, x in zip(vec.feature_names_, stats):\n",
        "  print(f,x)\n",
        "\n",
        "print()\n",
        "\n",
        "print(y.mean()) # here it is only 20% there is class imbalance\n",
        "\n",
        "# splitting into training sets and test sets\n",
        "\n",
        "\n",
        "X_train, X_test, y_train, y_test = train_test_split(X, y, test_size =0.2, random_state=42)\n",
        "\n",
        "\n",
        "print(f\"X_train:{X_train.shape}\\nX_test:{X_test.shape}\")\n"
      ],
      "metadata": {
        "colab": {
          "base_uri": "https://localhost:8080/"
        },
        "id": "b4H6tQWg-obM",
        "outputId": "64f7c316-6e5c-466b-ebad-5fcbb0381c72"
      },
      "execution_count": 65,
      "outputs": [
        {
          "output_type": "stream",
          "name": "stdout",
          "text": [
            "10000 10000\n",
            "Age 38.9218\n",
            "Balance 76485.88928799961\n",
            "CreditScore 650.5288\n",
            "EstimatedSalary 100090.2398809998\n",
            "Gender=Female 0.4543\n",
            "Gender=Male 0.5457\n",
            "Geography=France 0.5014\n",
            "Geography=Germany 0.2509\n",
            "Geography=Spain 0.2477\n",
            "HasCrCard 0.7055\n",
            "IsActiveMember 0.5151\n",
            "NumOfProducts 1.5302\n",
            "Tenure 5.0128\n",
            "\n",
            "0.2037\n",
            "X_train:(8000, 13)\n",
            "X_test:(2000, 13)\n"
          ]
        }
      ]
    },
    {
      "cell_type": "code",
      "source": [
        "# Train model on Data\n",
        "# Here model we are using is svc\n",
        "\n",
        "from sklearn.ensemble import RandomForestClassifier\n",
        "from sklearn.metrics import f1_score\n",
        "from sklearn.model_selection import GridSearchCV\n",
        "\n",
        "params = {'n_estimators':[10,100, 200, 300, 400]}\n",
        "\n",
        "svc = RandomForestClassifier()\n",
        "\n",
        "rf_clf = GridSearchCV(svc,params, scoring='f1',cv=2)\n",
        "\n",
        "rf_clf.fit(X_train, y_train)\n",
        "\n"
      ],
      "metadata": {
        "colab": {
          "base_uri": "https://localhost:8080/"
        },
        "id": "xBJezurqGgDZ",
        "outputId": "9c344992-4a3d-46c1-b04b-39af1fe55106"
      },
      "execution_count": 66,
      "outputs": [
        {
          "output_type": "execute_result",
          "data": {
            "text/plain": [
              "GridSearchCV(cv=2, estimator=RandomForestClassifier(),\n",
              "             param_grid={'n_estimators': [10, 100, 200, 300, 400]},\n",
              "             scoring='f1')"
            ]
          },
          "metadata": {},
          "execution_count": 66
        }
      ]
    },
    {
      "cell_type": "code",
      "source": [
        "rf_clf.best_score_"
      ],
      "metadata": {
        "colab": {
          "base_uri": "https://localhost:8080/"
        },
        "id": "I-4UtfRvMvd4",
        "outputId": "160823db-f26e-4d00-8ae0-f50640b1a482"
      },
      "execution_count": 67,
      "outputs": [
        {
          "output_type": "execute_result",
          "data": {
            "text/plain": [
              "0.5674510165305189"
            ]
          },
          "metadata": {},
          "execution_count": 67
        }
      ]
    },
    {
      "cell_type": "code",
      "source": [
        "rf_clf.best_params_"
      ],
      "metadata": {
        "colab": {
          "base_uri": "https://localhost:8080/"
        },
        "id": "MBbVyN65Mxui",
        "outputId": "c72159f7-6f1e-466c-8de8-33b75ce61a27"
      },
      "execution_count": 68,
      "outputs": [
        {
          "output_type": "execute_result",
          "data": {
            "text/plain": [
              "{'n_estimators': 400}"
            ]
          },
          "metadata": {},
          "execution_count": 68
        }
      ]
    },
    {
      "cell_type": "code",
      "source": [
        "\n",
        "from sklearn.ensemble import RandomForestClassifier\n",
        "from sklearn.svm import LinearSVC\n",
        "from sklearn.metrics import f1_score\n",
        "from sklearn.model_selection import GridSearchCV\n",
        "\n",
        "params = {'C':[0.1,0.0001, 0.01, 1.0]}\n",
        "\n",
        "svc = LinearSVC()\n",
        "\n",
        "clf = GridSearchCV(svc,params, scoring='f1',cv=2)\n",
        "\n",
        "clf.fit(X_train, y_train)\n"
      ],
      "metadata": {
        "colab": {
          "base_uri": "https://localhost:8080/"
        },
        "id": "xb6DsGMXMz7C",
        "outputId": "47a6cc67-65a2-447b-83bf-c784a1e0506c"
      },
      "execution_count": 73,
      "outputs": [
        {
          "output_type": "stream",
          "name": "stderr",
          "text": [
            "/usr/local/lib/python3.7/dist-packages/sklearn/svm/_base.py:1208: ConvergenceWarning: Liblinear failed to converge, increase the number of iterations.\n",
            "  ConvergenceWarning,\n",
            "/usr/local/lib/python3.7/dist-packages/sklearn/svm/_base.py:1208: ConvergenceWarning: Liblinear failed to converge, increase the number of iterations.\n",
            "  ConvergenceWarning,\n",
            "/usr/local/lib/python3.7/dist-packages/sklearn/svm/_base.py:1208: ConvergenceWarning: Liblinear failed to converge, increase the number of iterations.\n",
            "  ConvergenceWarning,\n",
            "/usr/local/lib/python3.7/dist-packages/sklearn/svm/_base.py:1208: ConvergenceWarning: Liblinear failed to converge, increase the number of iterations.\n",
            "  ConvergenceWarning,\n",
            "/usr/local/lib/python3.7/dist-packages/sklearn/svm/_base.py:1208: ConvergenceWarning: Liblinear failed to converge, increase the number of iterations.\n",
            "  ConvergenceWarning,\n",
            "/usr/local/lib/python3.7/dist-packages/sklearn/svm/_base.py:1208: ConvergenceWarning: Liblinear failed to converge, increase the number of iterations.\n",
            "  ConvergenceWarning,\n",
            "/usr/local/lib/python3.7/dist-packages/sklearn/svm/_base.py:1208: ConvergenceWarning: Liblinear failed to converge, increase the number of iterations.\n",
            "  ConvergenceWarning,\n",
            "/usr/local/lib/python3.7/dist-packages/sklearn/svm/_base.py:1208: ConvergenceWarning: Liblinear failed to converge, increase the number of iterations.\n",
            "  ConvergenceWarning,\n",
            "/usr/local/lib/python3.7/dist-packages/sklearn/svm/_base.py:1208: ConvergenceWarning: Liblinear failed to converge, increase the number of iterations.\n",
            "  ConvergenceWarning,\n"
          ]
        },
        {
          "output_type": "execute_result",
          "data": {
            "text/plain": [
              "GridSearchCV(cv=2, estimator=LinearSVC(),\n",
              "             param_grid={'C': [0.1, 0.0001, 0.01, 1.0]}, scoring='f1')"
            ]
          },
          "metadata": {},
          "execution_count": 73
        }
      ]
    },
    {
      "cell_type": "code",
      "source": [
        "clf.best_params_"
      ],
      "metadata": {
        "colab": {
          "base_uri": "https://localhost:8080/"
        },
        "id": "T4olPZXfNh9B",
        "outputId": "b3565742-9075-4fab-defe-f2705daa4972"
      },
      "execution_count": 74,
      "outputs": [
        {
          "output_type": "execute_result",
          "data": {
            "text/plain": [
              "{'C': 0.0001}"
            ]
          },
          "metadata": {},
          "execution_count": 74
        }
      ]
    },
    {
      "cell_type": "code",
      "source": [
        "clf.best_score_"
      ],
      "metadata": {
        "colab": {
          "base_uri": "https://localhost:8080/"
        },
        "id": "KBO62DSANltd",
        "outputId": "61dac5d2-3d14-44c5-c17e-363a6e6f07c6"
      },
      "execution_count": 75,
      "outputs": [
        {
          "output_type": "execute_result",
          "data": {
            "text/plain": [
              "0.1261737089201878"
            ]
          },
          "metadata": {},
          "execution_count": 75
        }
      ]
    },
    {
      "cell_type": "code",
      "source": [
        "# Evaluate the model held on out on test data set\n",
        "# previously we done applied models on training data and got the scores\n",
        "\n",
        "# now we are using test data\n",
        "\n",
        "\n",
        "rf_preds = rf_clf.predict(X_test)\n",
        "\n",
        "svm_preds = clf.predict(X_test)\n",
        "\n",
        "print(rf_preds)\n",
        "print(svm_preds)\n",
        "rf_f1  = f1_score(y_test,rf_preds)\n",
        "svm_f1  = f1_score(y_test,svm_preds)\n",
        "\n",
        "\n",
        "print(f\"Randomforest f1score ={rf_f1}\")\n",
        "\n",
        "\n",
        "print(f\"SVM  f1score ={svm_f1}\")"
      ],
      "metadata": {
        "colab": {
          "base_uri": "https://localhost:8080/"
        },
        "id": "d4r_Rq9IObPY",
        "outputId": "70a0366e-2f20-4b67-cd1f-e8510b4b5831"
      },
      "execution_count": 76,
      "outputs": [
        {
          "output_type": "stream",
          "name": "stdout",
          "text": [
            "[0 0 0 ... 1 0 0]\n",
            "[0 1 0 ... 0 1 1]\n",
            "Randomforest f1score =0.584375\n",
            "SVM  f1score =0.2837465564738292\n"
          ]
        }
      ]
    },
    {
      "cell_type": "code",
      "source": [
        "# what are observations we derive from this\n",
        "# F1-score is more for Random forest classifier, than lInear svc\n",
        "# So Random forest is preffered"
      ],
      "metadata": {
        "id": "DouNXY8aR07A"
      },
      "execution_count": null,
      "outputs": []
    }
  ],
  "metadata": {
    "kernelspec": {
      "display_name": "Python 3",
      "language": "python",
      "name": "python3"
    },
    "language_info": {
      "codemirror_mode": {
        "name": "ipython",
        "version": 3
      },
      "file_extension": ".py",
      "mimetype": "text/x-python",
      "name": "python",
      "nbconvert_exporter": "python",
      "pygments_lexer": "ipython3",
      "version": "3.8.3"
    },
    "colab": {
      "provenance": [],
      "collapsed_sections": [],
      "include_colab_link": true
    }
  },
  "nbformat": 4,
  "nbformat_minor": 0
}