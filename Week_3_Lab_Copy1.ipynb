{
  "cells": [
    {
      "cell_type": "markdown",
      "metadata": {
        "id": "view-in-github",
        "colab_type": "text"
      },
      "source": [
        "<a href=\"https://colab.research.google.com/github/sarannetworkprogammer/Data_foundations/blob/main/Week_3_Lab_Copy1.ipynb\" target=\"_parent\"><img src=\"https://colab.research.google.com/assets/colab-badge.svg\" alt=\"Open In Colab\"/></a>"
      ]
    },
    {
      "cell_type": "markdown",
      "metadata": {
        "id": "sW_bLK-Oe_dU"
      },
      "source": [
        "# Week 3 Lab Exercises\n",
        "\n",
        "Blank notebook to be used for class exercises."
      ]
    },
    {
      "cell_type": "markdown",
      "metadata": {
        "id": "z3NXn7t6e_dX"
      },
      "source": [
        "## Exercise 1\n",
        "\n",
        "Read the file “mbox.txt” line-by-line and calculate and print the following:\n",
        "\n",
        "- The total number of lines in the file.\n",
        "- The number of lines that contain the substring “From:”"
      ]
    },
    {
      "cell_type": "code",
      "source": [
        "from google.colab import drive\n",
        "drive.mount('/content/drive')"
      ],
      "metadata": {
        "colab": {
          "base_uri": "https://localhost:8080/"
        },
        "id": "6QdIZvcUffwH",
        "outputId": "a5b30436-0413-4cad-b38e-06a9ff4abbc9"
      },
      "execution_count": null,
      "outputs": [
        {
          "output_type": "stream",
          "name": "stdout",
          "text": [
            "Drive already mounted at /content/drive; to attempt to forcibly remount, call drive.mount(\"/content/drive\", force_remount=True).\n"
          ]
        }
      ]
    },
    {
      "cell_type": "code",
      "execution_count": null,
      "metadata": {
        "colab": {
          "base_uri": "https://localhost:8080/"
        },
        "id": "RgBHMgTWe_dY",
        "outputId": "f7c87fbe-68b7-4290-cfe1-874952ffcc86"
      },
      "outputs": [
        {
          "output_type": "stream",
          "name": "stdout",
          "text": [
            "Total lines =132045\n",
            "substringcount = 3599\n"
          ]
        }
      ],
      "source": [
        "# Write code here\n",
        "\n",
        "with open('/content/drive/My Drive/FALL_2022/Data_Foundations/mbox.txt', 'r') as file:\n",
        "  line_count = 0\n",
        "  sub_count=0\n",
        "  str1= \"From\"\n",
        "  for line in file:\n",
        "    line_count = line_count + 1\n",
        "    if str1 in line:\n",
        "      sub_count = sub_count + 1\n",
        "\n",
        "  \n",
        "  print(f\"Total lines ={line_count}\")\n",
        "  print(f\"substringcount = {sub_count}\")\n",
        "\n",
        " \n",
        " \n",
        "\n",
        "\n",
        "\n"
      ]
    },
    {
      "cell_type": "markdown",
      "metadata": {
        "id": "_JwcnTife_dZ"
      },
      "source": [
        "## Exercise 2\n",
        "\n",
        "Write code that reads the file line-by-line numbers.txt, then does thefollowing:\n",
        "- Sum all the numbers in numbers.txt, then prints the numbers to thescreen.\n",
        "\n",
        "Next, append the string \"SUM: k\", wherekis the calculated sum. to the end of numbers.txt as a new line.\n",
        "\n",
        "Finally, print the entire file to make sure you appended to the file correctly.\n",
        "\n",
        "The absolute path for the file is \"../data/numbers.txt\"\n",
        "\n",
        "**Important Python concepts:** for, open ('a' and 'r'), write(), print()"
      ]
    },
    {
      "cell_type": "code",
      "execution_count": null,
      "metadata": {
        "id": "o_bKyZWUe_dZ",
        "outputId": "37e7e075-64d3-4477-a629-b79df160f04c",
        "colab": {
          "base_uri": "https://localhost:8080/"
        }
      },
      "outputs": [
        {
          "output_type": "stream",
          "name": "stdout",
          "text": [
            "42\n",
            "18\n",
            "22\n",
            "18\n"
          ]
        }
      ],
      "source": [
        "# If you mess up the file and need to try again, run this cell again to recreate the file\n",
        "with open('./numbers.txt', 'w') as out_file:\n",
        "    out_file.write('42\\n18\\n22\\n18')\n",
        "    \n",
        "with open('numbers.txt', 'r') as in_file:\n",
        "  for row in in_file:\n",
        "      print(row.strip())\n",
        "      \n"
      ]
    },
    {
      "cell_type": "code",
      "execution_count": null,
      "metadata": {
        "id": "7lDAZt0Be_da",
        "colab": {
          "base_uri": "https://localhost:8080/"
        },
        "outputId": "6d78e7bd-aa70-40d7-a5c2-fb5657868f28"
      },
      "outputs": [
        {
          "output_type": "stream",
          "name": "stdout",
          "text": [
            "SUM = 100\n",
            "After appending\n",
            "42\n",
            "18\n",
            "22\n",
            "18\n",
            "SUM=100\n"
          ]
        }
      ],
      "source": [
        "# WRITE CODE HERE\n",
        "\n",
        "with open(\"numbers.txt\", \"r\") as in_file:\n",
        "  k = 0\n",
        "  for row in in_file:\n",
        "      k = k + int(row.strip())\n",
        "  SUM =str(k)\n",
        "  print(f\"SUM = {str(k)}\")\n",
        "\n",
        "with open(\"numbers.txt\", \"a\") as in_file:\n",
        "  in_file.write(f\"\\nSUM={SUM}\")\n",
        "\n",
        "with open(\"numbers.txt\", \"r\") as in_file:\n",
        "  print(\"After appending\")\n",
        "  print(in_file.read())"
      ]
    },
    {
      "cell_type": "markdown",
      "metadata": {
        "id": "erYkSYtNe_da"
      },
      "source": [
        "Run the line below to check your work"
      ]
    },
    {
      "cell_type": "code",
      "execution_count": null,
      "metadata": {
        "id": "z8ksOa4ge_db",
        "outputId": "a8fdde77-3fb8-4ea5-e5b1-b9c5b4c53c60",
        "colab": {
          "base_uri": "https://localhost:8080/"
        }
      },
      "outputs": [
        {
          "output_type": "stream",
          "name": "stdout",
          "text": [
            "42\n",
            "18\n",
            "22\n",
            "18\n",
            "SUM=100\n"
          ]
        }
      ],
      "source": [
        "with open('numbers.txt', 'r') as in_file:\n",
        "    for row in in_file:\n",
        "        print(row.strip())"
      ]
    },
    {
      "cell_type": "markdown",
      "metadata": {
        "id": "V5iKiI3ce_dc"
      },
      "source": [
        "## Exercise 3\n",
        "\n",
        "Write a function to calculate your pay given two arguments: hoursWorks and dollarsPerHour. The function should return how much you should be paid. When calculating the final amount, give the employee 1.5 times the hourly rate for hours worked above 40 hours.\n"
      ]
    },
    {
      "cell_type": "code",
      "execution_count": null,
      "metadata": {
        "id": "4vxgG1bRe_dc"
      },
      "outputs": [],
      "source": [
        "# Test arguments\n",
        "hours = 45 # You worked for 45 hours\n",
        "pay = 10 # You make 10 dollars and hour"
      ]
    },
    {
      "cell_type": "code",
      "execution_count": null,
      "metadata": {
        "id": "uXTuX2Voe_dc"
      },
      "outputs": [],
      "source": [
        "# Write function here\n",
        "\n",
        "def pay_calc(hours, pay):\n",
        "  if int(hours) > 40:\n",
        "    extra = int(hours) - 40\n",
        "    working_hrs = 40\n",
        "    \n",
        "  else:\n",
        "    extra = 0\n",
        "    working_hrs = int(hours)\n",
        "   \n",
        "\n",
        "  final_amount = working_hrs * int(pay) + extra * (1.5 * int(pay))\n",
        "\n",
        "  return final_amount\n",
        "\n",
        "\n"
      ]
    },
    {
      "cell_type": "code",
      "execution_count": null,
      "metadata": {
        "id": "Sv-22SXee_dd",
        "colab": {
          "base_uri": "https://localhost:8080/"
        },
        "outputId": "602037cd-0973-4151-cd5f-60fef8b6122f"
      },
      "outputs": [
        {
          "output_type": "stream",
          "name": "stdout",
          "text": [
            "Final_amount = 475.0\n"
          ]
        }
      ],
      "source": [
        "# Call and print output of function here\n",
        "final_amount = pay_calc(hours, pay)\n",
        "print(f\"Final_amount = {final_amount}\")\n",
        "\n"
      ]
    },
    {
      "cell_type": "markdown",
      "metadata": {
        "id": "KZr8qtYHe_dd"
      },
      "source": [
        "## Exercise 4\n",
        "\n",
        "Create Asserts to test your code from Exercise 2. Specifically, test the following test cases:\n",
        "\n",
        "- Check whether the functions outputs 20 with inputs hoursWorks = 2 and dollarsPerHour = 10.\n",
        "- Check whether the function does **not** output 410 if hoursWorks = 41 and dollarsPerHour = 10.\n",
        "\n",
        "After all cases are passed successfully, print \"Asserts Completed Successfully\"."
      ]
    },
    {
      "cell_type": "code",
      "execution_count": null,
      "metadata": {
        "id": "6ei8vd8ge_dd",
        "colab": {
          "base_uri": "https://localhost:8080/"
        },
        "outputId": "0f6e86a8-4d04-4a0d-efc3-0c19e451826f"
      },
      "outputs": [
        {
          "output_type": "stream",
          "name": "stdout",
          "text": [
            "Asserts Completed successfully\n"
          ]
        }
      ],
      "source": [
        "# WRITE CODE HERE\n",
        "assert pay_calc(2,10) == 20\n",
        "assert pay_calc(41,10) != 410\n",
        "print(\"Asserts Completed successfully\")"
      ]
    },
    {
      "cell_type": "markdown",
      "metadata": {
        "id": "aHGPDvtJe_de"
      },
      "source": [
        "## Exercise 5\n",
        "\n",
        "Write code to count the number of times a \"risk\" word appears from the \"risk_lexicon\" in the string variable named \"text.\" Please ignore case (i.e., you should lowercase everything). Lexicon-based analysis is popular because it quantifies various aspects of language.\n",
        "\n",
        "The output of your code should look like the following:\n",
        "\n",
        "```\n",
        "Risk Count: 2\n",
        "```\n",
        "\n",
        "**HINT:** This exercise will require the use of a **for loop**, an **if statement**, and the string operations **.lower() and .split(\" \")**."
      ]
    },
    {
      "cell_type": "code",
      "execution_count": null,
      "metadata": {
        "id": "3Ts0Ifdee_de",
        "colab": {
          "base_uri": "https://localhost:8080/"
        },
        "outputId": "0877317a-36df-4c56-bc5c-21e009a40256"
      },
      "outputs": [
        {
          "output_type": "stream",
          "name": "stdout",
          "text": [
            "Risk Count = 2\n"
          ]
        }
      ],
      "source": [
        "risk_lexicon = set(['danger', 'concern', 'risk', 'risky', 'doubt'])\n",
        "text = \"CocaCola is a risky RISKY investment !!!!\"\n",
        "count = 0\n",
        "text_split =  text.lower().split()\n",
        "for element in text_split:\n",
        "  if element in risk_lexicon:\n",
        "    count = count+1\n",
        "\n",
        "print(f\"Risk Count = {count}\")\n",
        "# Write code here"
      ]
    }
  ],
  "metadata": {
    "kernelspec": {
      "display_name": "Python 3",
      "language": "python",
      "name": "python3"
    },
    "language_info": {
      "codemirror_mode": {
        "name": "ipython",
        "version": 3
      },
      "file_extension": ".py",
      "mimetype": "text/x-python",
      "name": "python",
      "nbconvert_exporter": "python",
      "pygments_lexer": "ipython3",
      "version": "3.8.3"
    },
    "colab": {
      "provenance": [],
      "include_colab_link": true
    }
  },
  "nbformat": 4,
  "nbformat_minor": 0
}