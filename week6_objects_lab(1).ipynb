{
  "cells": [
    {
      "cell_type": "markdown",
      "metadata": {
        "id": "view-in-github",
        "colab_type": "text"
      },
      "source": [
        "<a href=\"https://colab.research.google.com/github/sarannetworkprogammer/Data_foundations/blob/main/week6_objects_lab(1).ipynb\" target=\"_parent\"><img src=\"https://colab.research.google.com/assets/colab-badge.svg\" alt=\"Open In Colab\"/></a>"
      ]
    },
    {
      "cell_type": "markdown",
      "id": "0f6469e1-be60-472b-9333-66c920aa83ef",
      "metadata": {
        "id": "0f6469e1-be60-472b-9333-66c920aa83ef"
      },
      "source": [
        "# NOTES"
      ]
    },
    {
      "cell_type": "code",
      "execution_count": 72,
      "id": "b59c4235-ae91-4c96-9eb9-372059e5d70b",
      "metadata": {
        "colab": {
          "base_uri": "https://localhost:8080/"
        },
        "id": "b59c4235-ae91-4c96-9eb9-372059e5d70b",
        "outputId": "91308b3c-3bba-4bf1-e33a-62d2f27e6e91"
      },
      "outputs": [
        {
          "output_type": "stream",
          "name": "stdout",
          "text": [
            "<class '__main__.Person'>\n",
            "anthony Jumps\n",
            "John Jumps\n",
            "Tony Jumps\n"
          ]
        }
      ],
      "source": [
        "# Midterm\n",
        "\n",
        "# Classes\n",
        "\n",
        "class Person:\n",
        "\n",
        "\n",
        "  def __init__(self,name):\n",
        "    self.name = name\n",
        "\n",
        "  \n",
        "  \n",
        "  def jump(self):\n",
        "    print(self.name ,\"Jumps\")\n",
        "\n",
        "\n",
        "\n",
        "anthony = Person(\"anthony\")\n",
        "\n",
        "\n",
        "print(type(anthony))\n",
        "anthony.jump()\n",
        "\n",
        "john = Person(\"John\")\n",
        "john.jump()\n",
        "\n",
        "anthony.name = \"Tony\"\n",
        "\n",
        "anthony.jump()\n",
        "  \n",
        "\n",
        "## Defining Classes Attributes and Methods\n",
        "\n",
        "## Using Classes\n",
        "\n",
        "## Operator Overloading\n",
        "\n",
        "# why do we need operator overloading \n",
        "\n",
        "\n",
        "\n",
        "\n",
        "\n",
        "## Special Methods"
      ]
    },
    {
      "cell_type": "code",
      "source": [
        "my_string = \"abc\"\n",
        "\n",
        "for i in my_string:\n",
        "  print(i)\n",
        "\n",
        "for i in range(len(my_string)):\n",
        "  print(i)"
      ],
      "metadata": {
        "colab": {
          "base_uri": "https://localhost:8080/"
        },
        "id": "Ujboh2MKfGPQ",
        "outputId": "93b62140-e852-4df1-b9ab-91690c240bcb"
      },
      "id": "Ujboh2MKfGPQ",
      "execution_count": 73,
      "outputs": [
        {
          "output_type": "stream",
          "name": "stdout",
          "text": [
            "a\n",
            "b\n",
            "c\n",
            "0\n",
            "1\n",
            "2\n"
          ]
        }
      ]
    },
    {
      "cell_type": "markdown",
      "id": "bff54cb7-4a2a-4f5c-bd4e-1cb783852e61",
      "metadata": {
        "id": "bff54cb7-4a2a-4f5c-bd4e-1cb783852e61"
      },
      "source": [
        "# In-Class Exercises"
      ]
    },
    {
      "cell_type": "markdown",
      "id": "059ab0a3-fc94-4ad3-aa9e-5dd35154e8e2",
      "metadata": {
        "tags": [],
        "id": "059ab0a3-fc94-4ad3-aa9e-5dd35154e8e2"
      },
      "source": [
        "## Exercise 1\n",
        "\n",
        "For today's exercies, we will implement a class representing a vector. Vectors are essential for all things in data science, whether it is statistical analysis using linear regression or neural networks. All modern statistical and machine learning packages require that the input be a vector (or matrix) of numbers. Hence, having a basic understanding of how they work is important when developing new real-world systems.\n",
        "\n",
        "For Exercise 1, you will complete the method \"size()\" and \"magnitude()\". The method \"size()\" should return an integer indicating how many items are in the vector. For instance, a vector [1,1,1] has a size of 3, while the vector [1,1] has a size of 2. **HINT:** We are using lists to store items in a vector, you can get size with len().\n",
        "\n",
        "The magnitude() method should return a float indicating the magnitude of the vector. Magnitude is defined as\n",
        "$$\\text{magnitude} = \\sqrt{\\sum_i^N x_i^2} $$\n",
        "where $N$ is the total number of items in the vector. Hence, given the vector [1,2,3], the magnitude would be calculated as\n",
        "$$ \\sqrt{1^2 + 2^2 + 3^2} = \\sqrt{1 + 4 + 9} = \\sqrt{14} \\approx 3.74 $$\n",
        "\n",
        "**TIME**: 15 minutes\n"
      ]
    },
    {
      "cell_type": "code",
      "execution_count": 74,
      "id": "f9a9df53-ba62-4860-9603-b37eb67bbddc",
      "metadata": {
        "id": "f9a9df53-ba62-4860-9603-b37eb67bbddc"
      },
      "outputs": [],
      "source": [
        "# NO NEED TO MODIFY THIS CELL\n",
        "def sqrt(x):\n",
        "    return x**.5"
      ]
    },
    {
      "cell_type": "code",
      "execution_count": 75,
      "id": "5bdc909e-c28c-46bd-b62d-144fa59ec2f3",
      "metadata": {
        "id": "5bdc909e-c28c-46bd-b62d-144fa59ec2f3"
      },
      "outputs": [],
      "source": [
        "class Vector:    \n",
        "    def __init__(self, items):\n",
        "        # YOU DO NOT NEED TO MODIFY THIS METHOD\n",
        "        # Checks if all items in list are int or float\n",
        "        assert(all([isinstance(x, int) or\n",
        "                    isinstance(x, float)\n",
        "                    for x in items]))\n",
        "        \n",
        "        self.items = items # Assigns items as an instance variable\n",
        "        print(self.items)\n",
        "    \n",
        "    def size(self):\n",
        "\n",
        "      return len(self.items)\n",
        "        # COMPLETE THIS CODE FOR EX 1\n",
        "        # HINT: Take the \"len\" of self.items\n",
        "       # Remove this line when you code this\n",
        "\n",
        "      \n",
        "    \n",
        "    def magnitude(self):\n",
        "        # COMPLETE THIS CODE FOR EX 1\n",
        "        # HINT: Use self.items\n",
        "        # Remove this line when you code this\n",
        "        mag =0\n",
        "        for x in self.items:\n",
        "          mag = mag + x**2\n",
        "        \n",
        "        result = mag**0.5\n",
        "        \n",
        "        return result\n",
        "\n",
        "    \n",
        "    def dot(self, v2):\n",
        "\n",
        "      sum = 0\n",
        "\n",
        "      for i in range(len(self.items)):\n",
        "        sum = sum + self.items[i] * v2.items[i]\n",
        "\n",
        "      return sum\n",
        "        # COMPLETE THIS CODE FOR EX 2\n",
        "        # Start here, then do the __mul__ method\n",
        "        # Remove this line when you code this\n",
        "\n",
        "\n",
        "\n",
        "\n",
        "\n",
        "    def __mul__(self, v2):\n",
        "      return self.dot(v2)\n",
        "      \n"
      ]
    },
    {
      "cell_type": "code",
      "source": [],
      "metadata": {
        "id": "N1ocxsuNtGUe"
      },
      "id": "N1ocxsuNtGUe",
      "execution_count": 75,
      "outputs": []
    },
    {
      "cell_type": "code",
      "execution_count": 76,
      "id": "3542c1f7-0ec5-4841-91f3-5f530382d42d",
      "metadata": {
        "colab": {
          "base_uri": "https://localhost:8080/"
        },
        "id": "3542c1f7-0ec5-4841-91f3-5f530382d42d",
        "outputId": "03c734e7-03a1-4627-a9b8-b4992f61375d"
      },
      "outputs": [
        {
          "output_type": "stream",
          "name": "stdout",
          "text": [
            "[1, 2, 3]\n",
            "[1, 2, 3, 4]\n",
            "Test Cases Completed Successfully\n"
          ]
        }
      ],
      "source": [
        "v1 = Vector([1,2,3])\n",
        "v2 = Vector([1,2,3,4])\n",
        "\n",
        "\n",
        "assert(v1.size() == 3) # Check if size is correct.\n",
        "\n",
        "\n",
        "assert(v2.size() == 4) # Check if size is correct.\n",
        "\n",
        "\n",
        "\n",
        "assert(sqrt(1+4+9) == v1.magnitude()) # Check if magnitude is correct.\n",
        "assert(sqrt(1+4+9+16) == v2.magnitude()) # Check if magnitude is correct.\n",
        "print(\"Test Cases Completed Successfully\")"
      ]
    },
    {
      "cell_type": "code",
      "source": [
        "result = v1.dot(v2)\n",
        "print(result)"
      ],
      "metadata": {
        "colab": {
          "base_uri": "https://localhost:8080/"
        },
        "id": "5jwdIR8TfFBk",
        "outputId": "81ba7803-6939-432b-e417-0ffc0c48f1e3"
      },
      "id": "5jwdIR8TfFBk",
      "execution_count": 77,
      "outputs": [
        {
          "output_type": "stream",
          "name": "stdout",
          "text": [
            "14\n"
          ]
        }
      ]
    },
    {
      "cell_type": "markdown",
      "id": "eaa6a3b1-0468-4844-ba00-f86d64d62814",
      "metadata": {
        "id": "eaa6a3b1-0468-4844-ba00-f86d64d62814"
      },
      "source": [
        "## Exercise 2\n",
        "\n",
        "\n",
        "For this exercise, you should implement the \"dot()\" and \"\\_\\_mul\\_\\_()\" methods to perform a dot (inner) preduct. The inner prodcut is important for models such as Linear Regression, Logistic Regression, and Neural Networks. Formally, the dot product is defined as\n",
        "$$ dot(\\mathbf{x}, \\mathbf{y}) = \\mathbf{x}^T \\mathbf{y} = \\sum_i^N x_i y_i$$\n",
        "where $N$ is the number of items (size) of $\\mathbf{x}$ and $\\mathbf{y}$. For example, given two vectors $x = [1,2,3]$ and $y = [4,5,6]$, we can calcuate the dot product as\n",
        "$$1*4 + 2*5 + 6*3 = 4 + 10 + 18 = 32 $$\n",
        "Intuively, we are just multiplying and summing each corresponding element in both vectors. This will be important to know after the Midterm when we start using machine learning packages :) \n",
        "\n",
        "**TIME**: 15 minutes"
      ]
    },
    {
      "cell_type": "code",
      "execution_count": 78,
      "id": "438629ec-7a38-4e8c-9592-544a1aced2a2",
      "metadata": {
        "colab": {
          "base_uri": "https://localhost:8080/"
        },
        "id": "438629ec-7a38-4e8c-9592-544a1aced2a2",
        "outputId": "7ef0d014-de76-4046-b692-815bd2037ef8"
      },
      "outputs": [
        {
          "output_type": "stream",
          "name": "stdout",
          "text": [
            "[3, 3, 3]\n",
            "[2, 2, 2]\n",
            "18\n",
            "Test Cases Completed Successfully\n"
          ]
        }
      ],
      "source": [
        "\n",
        "# Test cases. You can modify the code in the Vector class defined above.\n",
        "v1 = Vector([3,3,3])\n",
        "v2 = Vector([2,2,2])\n",
        "\n",
        "\n",
        "print(v1.dot(v2))\n",
        "\n",
        "assert(v1.dot(v2) == 18)\n",
        "assert(v2.dot(v2) == 12)\n",
        "assert(v1 * v2 == 18)\n",
        "assert(v2 * v2 == 12)\n",
        "print(\"Test Cases Completed Successfully\")\n"
      ]
    }
  ],
  "metadata": {
    "kernelspec": {
      "display_name": "Python 3 (ipykernel)",
      "language": "python",
      "name": "python3"
    },
    "language_info": {
      "codemirror_mode": {
        "name": "ipython",
        "version": 3
      },
      "file_extension": ".py",
      "mimetype": "text/x-python",
      "name": "python",
      "nbconvert_exporter": "python",
      "pygments_lexer": "ipython3",
      "version": "3.8.12"
    },
    "colab": {
      "provenance": [],
      "include_colab_link": true
    }
  },
  "nbformat": 4,
  "nbformat_minor": 5
}