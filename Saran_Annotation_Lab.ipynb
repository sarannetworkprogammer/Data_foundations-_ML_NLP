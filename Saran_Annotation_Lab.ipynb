{
  "cells": [
    {
      "cell_type": "markdown",
      "metadata": {
        "id": "view-in-github",
        "colab_type": "text"
      },
      "source": [
        "<a href=\"https://colab.research.google.com/github/sarannetworkprogammer/Data_foundations/blob/main/Saran_Annotation_Lab.ipynb\" target=\"_parent\"><img src=\"https://colab.research.google.com/assets/colab-badge.svg\" alt=\"Open In Colab\"/></a>"
      ]
    },
    {
      "cell_type": "markdown",
      "metadata": {
        "id": "-JyCgtZjmEMs"
      },
      "source": [
        "# Python: Annotation\n",
        "\n",
        "Blank notebook to be used for class exercises."
      ]
    },
    {
      "cell_type": "markdown",
      "metadata": {
        "id": "qJeZeh0EmEMx"
      },
      "source": [
        "## Exercise 1\n",
        "\n",
        "Complete the Sentiment Annotation Survey on Blackboard. \n"
      ]
    },
    {
      "cell_type": "markdown",
      "metadata": {
        "id": "zdHOii71mEMy"
      },
      "source": [
        "## Exercise 2\n",
        "\n",
        "Judge the annotations in following Data:\n",
        "\n",
        "sentiment.txt\n",
        "\n",
        "You are the judge. Look over the annotations and come up with the following:\n",
        "- What is your judgment for the correct entity + sentiment annotation?\n",
        "- How would you amend the annotation guidelines to solicit more consistent annotations?\n",
        "\n",
        "While judging the annotations, keep track of them below:\n",
        "\n",
        "1. target: ISIS sentiment: Negative\n",
        "2. target: US.senate sentiment : Unknown\n",
        "3.\n",
        "\n",
        "\n",
        "How many of your judgements match the majority view?"
      ]
    },
    {
      "cell_type": "markdown",
      "metadata": {
        "id": "dtEQPvkrmv3W"
      },
      "source": [
        "## Exercise 2\n",
        "\n",
        "Judge the annotations in following Data:\n",
        "\n",
        "sentiment.txt\n",
        "\n",
        "You are the judge. Look over the annotations and come up with the following:\n",
        "- What is your judgment for the correct entity + sentiment annotation?\n",
        "- How would you amend the annotation guidelines to solicit more consistent annotations?\n",
        "\n",
        "While judging the annotations, keep track of them below:\n",
        "\n",
        "1. target: ISIS                         sentiment: Negative\n",
        "2. target: US.senate                    sentiment : Unknown\n",
        "3. target: Military\t                    sentiment:Positive\n",
        "3. target: Military\t                    sentiment: Positive          \n",
        "4. target:Sean Spicer                   sentiment: Positive           \n",
        "5. target:West                          sentiment:  Unknown         \n",
        "6. target: Fakenews media               sentiment:Negative     \n",
        "7. target: Cincinnati\t                  sentiment: Negative\n",
        "8. target: Ohio                         sentiment: Positive                 \n",
        "9. target:Ivanka                        sentiment: Positive         \n",
        "10. target: Emmanuel Macron             sentiment: Positive   \n",
        "11. VA State Police                     sentiment: Positive\n",
        "12. USS Fitzgerald\tpositive            sentiment: Positive\n",
        "13. target :Putin                       sentiment: Negative\n",
        "14. President Trump                      sentiment: Postive\n",
        "15. Jon Ossoff\t                               negative\n",
        "16. United States Department of Veterans Affairs\t     unknown\n",
        "17. SecretaryPerry\t                        unknown\n",
        "18. Secretary Zinke\t                        unknown\n",
        "19. USA\t                                    positive\n",
        "20. Corning, Merck &amp; Pfizer\t            positive\n",
        "21. Congress\tunknown\n",
        "22. NABTU2017\t                              positive\n",
        "\n",
        "\n",
        "How many of your judgements match the majority view?\n",
        "\n",
        "Here most of them matched , some of them are differed, here out of 23 , 21 are matched two are differed.\n"
      ]
    },
    {
      "cell_type": "markdown",
      "metadata": {
        "id": "Z3usBwvwmEMz"
      },
      "source": [
        "## Exercise 3\n",
        "\n",
        "Manually calculate Cohen's kappa for the tables in the slides and put your answers below:\n",
        "\n",
        "Answers here"
      ]
    },
    {
      "cell_type": "code",
      "execution_count": null,
      "metadata": {
        "id": "puuZBnljmEM0",
        "outputId": "2873d047-05ad-49dd-8fb1-ef507c2d8cc9",
        "colab": {
          "base_uri": "https://localhost:8080/"
        }
      },
      "outputs": [
        {
          "output_type": "stream",
          "name": "stdout",
          "text": [
            "kappa=0.0\n"
          ]
        }
      ],
      "source": [
        "# WRITE CODE HERE\n",
        "\n",
        "p_a_puppy =50/100\n",
        "p_a_chicken = 50/100\n",
        "\n",
        "p_b_puppy = 50/100\n",
        "p_b_chicken = 50/100\n",
        "\n",
        "\n",
        "p_o = 50/100\n",
        "\n",
        "p_e =  p_a_puppy * p_b_puppy + p_a_chicken * p_b_chicken\n",
        "\n",
        "kappa = (p_o-p_e)/(1-p_e)\n",
        "\n",
        "print(f\"kappa={kappa}\")\n",
        "\n",
        "\n",
        "\n"
      ]
    },
    {
      "cell_type": "code",
      "source": [
        "# 2nd problem\n",
        "\n",
        "p_a_puppy = 50/100\n",
        "p_a_chicken = 50/100\n",
        "\n",
        "p_b_puppy = 50/100\n",
        "p_b_chicken = 50/100\n",
        "\n",
        "\n",
        "p_o = 100/100\n",
        "\n",
        "p_e =  p_a_puppy * p_b_puppy + p_a_chicken * p_b_chicken\n",
        "\n",
        "kappa = (p_o-p_e)/(1-p_e)\n",
        "\n",
        "print(f\"kappa={kappa}\")\n",
        "\n",
        "\n",
        "\n",
        "\n",
        "\n",
        "\n"
      ],
      "metadata": {
        "colab": {
          "base_uri": "https://localhost:8080/"
        },
        "id": "QgbdAvgrwaRI",
        "outputId": "599ae4e6-028c-466b-c49c-37ecefd0b638"
      },
      "execution_count": null,
      "outputs": [
        {
          "output_type": "stream",
          "name": "stdout",
          "text": [
            "kappa=1.0\n"
          ]
        }
      ]
    },
    {
      "cell_type": "code",
      "source": [
        "# 3 rd problem\n",
        "\n",
        "p_a_puppy = 50/100\n",
        "p_a_chicken = 50/100\n",
        "\n",
        "p_b_puppy = 50/100\n",
        "p_b_chicken = 50/100\n",
        "\n",
        "\n",
        "p_o = 0/100\n",
        "\n",
        "p_e =  p_a_puppy * p_b_puppy + p_a_chicken * p_b_chicken\n",
        "\n",
        "kappa = (p_o-p_e)/(1-p_e)\n",
        "\n",
        "print(f\"kappa={kappa}\")\n",
        "\n",
        "\n",
        "\n",
        "\n",
        "\n"
      ],
      "metadata": {
        "colab": {
          "base_uri": "https://localhost:8080/"
        },
        "id": "4MC6-IE2xVkW",
        "outputId": "5745ed1e-785b-4009-b3f7-7c5327c717f3"
      },
      "execution_count": null,
      "outputs": [
        {
          "output_type": "stream",
          "name": "stdout",
          "text": [
            "kappa=-1.0\n"
          ]
        }
      ]
    },
    {
      "cell_type": "markdown",
      "metadata": {
        "id": "TWTuVzoQmEM3"
      },
      "source": [
        "## Exercise 4\n",
        "\n",
        "Write code to calculate and print the cohen's kappa between rater1 and rater2.\n",
        "\n",
        "Hint: You will need to create the confusion matrix (matrix of how many times each rater agrees for each item)"
      ]
    },
    {
      "cell_type": "code",
      "execution_count": null,
      "metadata": {
        "id": "6fBXSqBbmEM4"
      },
      "outputs": [],
      "source": [
        "rater1 = ['yes','no','yes','yes','yes','yes','no','yes','yes']\n",
        "rater2 = ['yes','no','no','yes','yes','yes','yes','yes','yes']"
      ]
    },
    {
      "cell_type": "code",
      "execution_count": null,
      "metadata": {
        "id": "yfp-pHGhmEM4"
      },
      "outputs": [],
      "source": [
        "# WRITE CODE HERE\n",
        "\n",
        "\n",
        "r1_yes_r2_yes = 0\n",
        "\n",
        "r1_no_r2_no = 0\n",
        "\n",
        "r1_no_r2_yes = 0\n",
        "\n",
        "r1_yes_r2_no = 0\n",
        "\n",
        "\n",
        "\n",
        "for r1, r2 in zip(rater1, rater2):\n",
        "  if r1 == \"yes\" and r2 ==\"yes\":\n",
        "    r1_yes_r2_yes += 1\n",
        "\n",
        "\n",
        "  elif r1 == \"no\" and r2 ==\"no\":\n",
        "    r1_no_r2_no += 1\n",
        "\n",
        "  elif r1 == \"no\" and r2 ==\"yes\":\n",
        "    r1_no_r2_yes += 1\n",
        "\n",
        "  else:\n",
        "    r1_yes_r2_no += 1\n",
        "\n",
        "\n",
        "\n",
        "\n"
      ]
    },
    {
      "cell_type": "code",
      "source": [
        "print(r1_yes_r2_yes, r1_yes_r2_no, r1_no_r2_yes, r1_no_r2_no)"
      ],
      "metadata": {
        "colab": {
          "base_uri": "https://localhost:8080/"
        },
        "id": "x1xE29HPz19s",
        "outputId": "cbc964b5-628b-4bf6-be92-be779849901a"
      },
      "execution_count": null,
      "outputs": [
        {
          "output_type": "stream",
          "name": "stdout",
          "text": [
            "6 1 1 1\n"
          ]
        }
      ]
    },
    {
      "cell_type": "code",
      "source": [
        "p_o =  (r1_yes_r2_yes + r1_no_r2_no) / (r1_yes_r2_yes + r1_yes_r2_no +  r1_no_r2_yes + r1_no_r2_no)\n",
        "\n",
        "p_r1_yes = (r1_yes_r2_yes + r1_yes_r2_no)/ (r1_yes_r2_yes + r1_yes_r2_no +  r1_no_r2_yes + r1_no_r2_no)\n",
        "\n",
        "\n",
        "p_r1_no = (r1_no_r2_no + r1_no_r2_yes)/ (r1_yes_r2_yes + r1_yes_r2_no +  r1_no_r2_yes + r1_no_r2_no)\n",
        "\n",
        "\n",
        "\n",
        "\n",
        "p_r2_yes = (r1_yes_r2_yes + r1_no_r2_yes)/ (r1_yes_r2_yes + r1_yes_r2_no +  r1_no_r2_yes + r1_no_r2_no)\n",
        "\n",
        "\n",
        "p_r2_no = (r1_no_r2_no + r1_yes_r2_no)/ (r1_yes_r2_yes + r1_yes_r2_no +  r1_no_r2_yes + r1_no_r2_no)\n",
        "\n",
        "\n",
        "p_e  = p_r1_yes * p_r2_yes + p_r1_no * p_r2_no \n",
        "\n",
        "\n",
        "\n",
        "\n",
        "kappa = (p_o-p_e) / (1-p_e)\n",
        "\n",
        "\n",
        "print(kappa)\n"
      ],
      "metadata": {
        "colab": {
          "base_uri": "https://localhost:8080/"
        },
        "id": "9tPyMEaT0EuP",
        "outputId": "318ec2dc-bd60-404c-f0e4-f90778e43002"
      },
      "execution_count": null,
      "outputs": [
        {
          "output_type": "stream",
          "name": "stdout",
          "text": [
            "0.35714285714285715\n"
          ]
        }
      ]
    },
    {
      "cell_type": "code",
      "source": [],
      "metadata": {
        "id": "RoT3y-102JRc"
      },
      "execution_count": null,
      "outputs": []
    }
  ],
  "metadata": {
    "kernelspec": {
      "display_name": "Python 3",
      "language": "python",
      "name": "python3"
    },
    "language_info": {
      "codemirror_mode": {
        "name": "ipython",
        "version": 3
      },
      "file_extension": ".py",
      "mimetype": "text/x-python",
      "name": "python",
      "nbconvert_exporter": "python",
      "pygments_lexer": "ipython3",
      "version": "3.8.3"
    },
    "colab": {
      "provenance": [],
      "collapsed_sections": [],
      "include_colab_link": true
    }
  },
  "nbformat": 4,
  "nbformat_minor": 0
}