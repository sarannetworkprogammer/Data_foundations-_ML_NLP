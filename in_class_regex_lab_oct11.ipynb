{
  "cells": [
    {
      "cell_type": "markdown",
      "metadata": {
        "id": "view-in-github",
        "colab_type": "text"
      },
      "source": [
        "<a href=\"https://colab.research.google.com/github/sarannetworkprogammer/Data_foundations/blob/main/in_class_regex_lab_oct11.ipynb\" target=\"_parent\"><img src=\"https://colab.research.google.com/assets/colab-badge.svg\" alt=\"Open In Colab\"/></a>"
      ]
    },
    {
      "cell_type": "code",
      "execution_count": null,
      "id": "34abc875-65ab-442e-84a2-b2c7a4b372c0",
      "metadata": {
        "id": "34abc875-65ab-442e-84a2-b2c7a4b372c0"
      },
      "outputs": [],
      "source": [
        "# QUESTIONS?\n",
        "\n",
        "# Regular Expressions\n",
        "\n",
        "## Basic Patterns\n",
        "\n",
        "### []\n",
        "\n",
        "### ^$\n",
        "\n",
        "### * +\n",
        "\n",
        "### | (regex \"or\")\n",
        "\n",
        "### groups\n",
        "\n",
        "## Advanced Patterns\n",
        "\n",
        "### Unmatched Groups (?: ) (e.g., URLs)\n",
        "\n",
        "### Look Ahead (?=foo) (e.g., passwords)\n",
        "\n",
        "# search, findall, sub"
      ]
    },
    {
      "cell_type": "code",
      "execution_count": null,
      "id": "8185f9e1-116e-4495-851d-b908c6f4c266",
      "metadata": {
        "id": "8185f9e1-116e-4495-851d-b908c6f4c266"
      },
      "outputs": [],
      "source": [
        "# Example: Passwords"
      ]
    },
    {
      "cell_type": "code",
      "source": [
        "import re\n",
        "pattern = r\"th[3e]\"\n",
        "\n",
        "my_string = \"the\"\n",
        "\n",
        "re.search(pattern,my_string)"
      ],
      "metadata": {
        "colab": {
          "base_uri": "https://localhost:8080/"
        },
        "id": "ZPdVuCQqmEPZ",
        "outputId": "ee0bf5f9-98e6-4dda-aa02-468fa1ec22a8"
      },
      "id": "ZPdVuCQqmEPZ",
      "execution_count": null,
      "outputs": [
        {
          "output_type": "execute_result",
          "data": {
            "text/plain": [
              "<re.Match object; span=(0, 3), match='the'>"
            ]
          },
          "metadata": {},
          "execution_count": 2
        }
      ]
    },
    {
      "cell_type": "code",
      "source": [
        "text =\"abc@gmail.com, blah@utsa.com coolman@a07l.com\"\n",
        "\n",
        "regex = r\"[a-z]+@[a-z]+\\.com\"\n",
        "\n",
        "re.findall(regex, text)"
      ],
      "metadata": {
        "colab": {
          "base_uri": "https://localhost:8080/"
        },
        "id": "SyCRmDDGm82w",
        "outputId": "0bf304f4-e783-4b98-8167-1aba6f60f5e4"
      },
      "id": "SyCRmDDGm82w",
      "execution_count": null,
      "outputs": [
        {
          "output_type": "execute_result",
          "data": {
            "text/plain": [
              "['abc@gmail.com', 'blah@utsa.com']"
            ]
          },
          "metadata": {},
          "execution_count": 3
        }
      ]
    },
    {
      "cell_type": "code",
      "source": [
        "# exact match , if every thing is matched\n",
        "\n",
        "\n",
        "# ^ start of the string\n",
        "\n",
        "# $ end of the string\n",
        "email = \"abc@gmail.com\"\n",
        "\n",
        "regex = r\"^[a-z]+@[a-z]+\\.com$\"\n",
        "\n",
        "re.search(regex, email)"
      ],
      "metadata": {
        "colab": {
          "base_uri": "https://localhost:8080/"
        },
        "id": "6NDF-OZen6Om",
        "outputId": "9e85da15-442c-48c1-aeb7-4e0487cf3332"
      },
      "id": "6NDF-OZen6Om",
      "execution_count": null,
      "outputs": [
        {
          "output_type": "execute_result",
          "data": {
            "text/plain": [
              "<re.Match object; span=(0, 13), match='abc@gmail.com'>"
            ]
          },
          "metadata": {},
          "execution_count": 4
        }
      ]
    },
    {
      "cell_type": "code",
      "source": [
        "# * zero or more\n",
        "# (regex or or )\n",
        "\n",
        "\n",
        "# the th3\n",
        "\n",
        "pattern = r\"the|th3\"\n",
        "\n",
        "\n",
        "my_string = \"th3\"\n",
        "\n",
        "re.search(pattern, my_string)"
      ],
      "metadata": {
        "colab": {
          "base_uri": "https://localhost:8080/"
        },
        "id": "uMBJ6IjbozJf",
        "outputId": "e4df2a0b-7325-406e-89de-14eb504f0da4"
      },
      "id": "uMBJ6IjbozJf",
      "execution_count": null,
      "outputs": [
        {
          "output_type": "execute_result",
          "data": {
            "text/plain": [
              "<re.Match object; span=(0, 3), match='th3'>"
            ]
          },
          "metadata": {},
          "execution_count": 10
        }
      ]
    },
    {
      "cell_type": "code",
      "source": [
        "url = r\"reddit.com/r/machinelearning\"\n",
        "\n",
        "pattern = r\"([a-z]+)\\.(com|net)/r/([a-z]+)\"\n",
        "\n",
        "match = re.search(pattern,url)\n",
        "\n",
        "print(match.group(1))\n",
        "print(match.group(2))"
      ],
      "metadata": {
        "colab": {
          "base_uri": "https://localhost:8080/"
        },
        "id": "ejvSaGXMpx7B",
        "outputId": "3539b49a-73e2-42a2-95cf-4d463203c233"
      },
      "id": "ejvSaGXMpx7B",
      "execution_count": null,
      "outputs": [
        {
          "output_type": "stream",
          "name": "stdout",
          "text": [
            "reddit\n",
            "com\n"
          ]
        }
      ]
    },
    {
      "cell_type": "code",
      "source": [
        "url = r\"reddit.com/r/machinelearning\"\n",
        "\n",
        "pattern = r\"([a-z]+)\\.(com|net)/r/([a-z]+)\"\n",
        "\n",
        "re.sub(pattern, r\"\\1@uky.edu, url\")"
      ],
      "metadata": {
        "id": "Q2eACS5Vq8sV"
      },
      "id": "Q2eACS5Vq8sV",
      "execution_count": null,
      "outputs": []
    },
    {
      "cell_type": "code",
      "source": [
        "# password matching\n",
        "\n",
        "# example passwords\n",
        "\n",
        "# must contain atleast one lower case\n",
        "\n",
        "# must contain one upper case\n",
        "\n",
        "# must contain one digit\n",
        "\n",
        "# must contain  6 to 10 \n",
        "\n",
        "\n",
        "password = \"hunter\"\n",
        "\n",
        "pattern = r\"(?=.*[A-Z])(?=.*[A-Z]\")\n",
        "\n",
        "\n",
        "\n"
      ],
      "metadata": {
        "id": "viLeYJwhr4k5"
      },
      "id": "viLeYJwhr4k5",
      "execution_count": null,
      "outputs": []
    },
    {
      "cell_type": "code",
      "source": [
        "pattern = r\"[a-z]+@[a-z]+\\.edu\"\n",
        "\n",
        "my_string =\"blah@utsa.edu\"\n",
        "\n",
        "re.sub(pattern, \"@utsa.edu\", my_string)\n",
        "\n",
        "\n",
        "# replacing substring in string with given "
      ],
      "metadata": {
        "id": "3vQgSnvluH8u"
      },
      "id": "3vQgSnvluH8u",
      "execution_count": null,
      "outputs": []
    },
    {
      "cell_type": "code",
      "source": [],
      "metadata": {
        "id": "PjsuNSVfuDaL"
      },
      "id": "PjsuNSVfuDaL",
      "execution_count": null,
      "outputs": []
    },
    {
      "cell_type": "markdown",
      "id": "84bc674e-a566-4424-af2b-d5956154f7d7",
      "metadata": {
        "id": "84bc674e-a566-4424-af2b-d5956154f7d7"
      },
      "source": [
        "# Exercise 1\n",
        "Write regular expressions for the following languages.\n",
        "1. the set of all alphabetic strings;\n",
        "\n",
        "pattern = r\"[A-Z]+[a-z]+\n",
        "\n",
        "\n",
        "\n",
        "2. the set of all lower case alphabetic strings ending in a b;\n",
        "\n",
        "pattern = r\"[a-z]a|b$\n",
        "\n",
        "\n",
        "\n",
        "3. the set of all strings from the alphabet a,b such that each a is immediately preceded by and immediately followed by a b;\n",
        "\n",
        "\n",
        "\n",
        "\n",
        "\n",
        "\n",
        "\n",
        "**TIME: 10 minutes**"
      ]
    },
    {
      "cell_type": "code",
      "source": [
        "import re\n",
        "\n",
        "text = \"abcdefgth\"\n",
        "pattern = r\"[a-zA-Z]+\"\n",
        "\n",
        "re.search(pattern, text)\n",
        "\n",
        "\n",
        "\n"
      ],
      "metadata": {
        "colab": {
          "base_uri": "https://localhost:8080/"
        },
        "id": "vFHD1KM6w08T",
        "outputId": "5a0b5acf-1219-429e-df3d-b5bf85ec0111"
      },
      "id": "vFHD1KM6w08T",
      "execution_count": null,
      "outputs": [
        {
          "output_type": "execute_result",
          "data": {
            "text/plain": [
              "<re.Match object; span=(0, 9), match='abcdefgth'>"
            ]
          },
          "metadata": {},
          "execution_count": 16
        }
      ]
    },
    {
      "cell_type": "code",
      "source": [
        "import re\n",
        "\n",
        "text = \"abcdefgthab\"\n",
        "pattern = r\"[a-z]+ab$\"\n",
        "\n",
        "re.search(pattern, text)\n",
        "\n"
      ],
      "metadata": {
        "colab": {
          "base_uri": "https://localhost:8080/"
        },
        "id": "gvJFhE2PxJEo",
        "outputId": "6b97fe79-9b49-46b8-8672-700719d08dd2"
      },
      "id": "gvJFhE2PxJEo",
      "execution_count": null,
      "outputs": [
        {
          "output_type": "execute_result",
          "data": {
            "text/plain": [
              "<re.Match object; span=(0, 11), match='abcdefgthab'>"
            ]
          },
          "metadata": {},
          "execution_count": 19
        }
      ]
    },
    {
      "cell_type": "code",
      "source": [
        "import re\n",
        "text =\"bab\"\n",
        "\n",
        "pattern = r\"^b+(ab)*b*$\"\n",
        "\n",
        "re.search(pattern, text)"
      ],
      "metadata": {
        "colab": {
          "base_uri": "https://localhost:8080/"
        },
        "id": "yc2c99pQxaIE",
        "outputId": "8593d2bf-886b-4d4e-c1d9-12b0ba66580e"
      },
      "id": "yc2c99pQxaIE",
      "execution_count": null,
      "outputs": [
        {
          "output_type": "execute_result",
          "data": {
            "text/plain": [
              "<re.Match object; span=(0, 3), match='bab'>"
            ]
          },
          "metadata": {},
          "execution_count": 20
        }
      ]
    },
    {
      "cell_type": "markdown",
      "id": "ac7cff81-e733-4d02-98fa-d6c5eeb723d1",
      "metadata": {
        "id": "ac7cff81-e733-4d02-98fa-d6c5eeb723d1"
      },
      "source": []
    },
    {
      "cell_type": "markdown",
      "id": "58fe0ca7-b9e6-4e71-8c6b-aad4e23b68f3",
      "metadata": {
        "id": "58fe0ca7-b9e6-4e71-8c6b-aad4e23b68f3"
      },
      "source": [
        "# Exercise 2\n",
        "\n",
        "ELIZA is an early natural language processing computer program created from 1964 to 1966 at the MIT Artificial Intelligence Laboratory by Joseph Weizenbaum. Created to demonstrate the superficiality of communication between man and machine, Eliza simulated conversation by using a 'pattern matching' and substitution methodology that gave users an illusion of understanding on the part of the program, but had no built in framework for contextualizing events. Perhaps the most well known variation was called DOCTOR. This was made to respond like a Rogerian psychotherapist. In this instance, the therapist \"reflects\" on questions by turning the questions back at the patient.\n",
        "\n",
        "1. [eliza] Hi, I'm a psychotherapist. What is your name?\n",
        "2. [user] **My name is** Anthony.\n",
        "3. [eliza] Hi Anthony. How can I help you today?\n",
        "4. [user] **I want** to rule the world.\n",
        "5. [eliza] Anthony, why do you want to rule the world? [transform statement into ?]\n",
        "6. [user] I don't know, I think I **crave** power.\n",
        "7. [eliza] Why don't you tell me more about your cravings? [word spot \"crave\" and respond.]\n",
        "\n",
        "Look at the conversation above. Your job is to add two regular expressions that can generate statements 5 and 7. Finally, come up with at least one other expression. Add an extra expressions that can either modify the input from the user (e.g., like \"I want\" above) while keeping some of the original response intact, or an expression that completely changes it (e.g., \"crave\" example above).\n",
        "\n",
        "**HINT:** You will need a re.sub() command that has a regex that looks for \"I want\" and one that looks for \"crave\"\n",
        "\n",
        "**EXTRA:** If you finish early, play with the code! Add extra expressions that both modify the input from the user (e.g., like \"I want\" above) and expressions that completely changes it (e.g., \"crave\" example above). Likewise, what happens if you try to change the bot from being a psychiatrist to an expert on dad jokes, e.g., \"[user] My name is Anthony\" -> \"[eliza] Hi Anthony, I'm Dad. What else should i know about you?\"\n",
        "\n",
        "**TIME: 20+ minutes**"
      ]
    },
    {
      "cell_type": "code",
      "execution_count": null,
      "id": "cda5adf7-c3c9-4053-a278-872bd33e64f3",
      "metadata": {
        "id": "cda5adf7-c3c9-4053-a278-872bd33e64f3"
      },
      "outputs": [],
      "source": [
        "import re\n",
        "\n",
        "def process_text_name(text):\n",
        "    text_0 = text\n",
        "    text = re.sub(r\"(My name is )*([A-Za-z]+)\",\n",
        "                  r\"Hi \\2. How can I help you today?\",\n",
        "                  text_0, flags=re.IGNORECASE)\n",
        "    \n",
        "    name = re.search(r\"My name is ([A-Za-z]+)\", text_0)\n",
        "    return name, text\n",
        "\n",
        "def process_text(text, name):\n",
        "    text_0 = text\n",
        "    ############################################################\n",
        "    # WRITE CODE IN THIS BLOCK\n",
        "    \n",
        "    text = re.sub(r\".*i'm (depressed|sad).*\",\n",
        "                  r\"I am sorry to hear you are \\1. Why do you think you are \\1?\",\n",
        "                  text, flags=re.IGNORECASE)\n",
        "    text = re.sub(r\".*i am (depressed|sad).*\",\n",
        "                  r\"Why do you think you are \\1?\",\n",
        "                  text, flags=re.IGNORECASE)\n",
        "    text = re.sub(r\".*all.*\",\n",
        "                  r\"In what way?\",\n",
        "                  text, flags=re.IGNORECASE)\n",
        "    text = re.sub(r\".* always .*\",\n",
        "                  r\"Can you think of a specific example?\",\n",
        "                  text, flags=re.IGNORECASE)\n",
        "    \n",
        "    # END CODE BLOCK\n",
        "    ############################################################\n",
        "    if text == text_0:\n",
        "        text = 'Can you restate that in a different way?'\n",
        "    return text"
      ]
    },
    {
      "cell_type": "code",
      "execution_count": null,
      "id": "6cbef45e-fea0-4b5d-940b-9458f6176f2c",
      "metadata": {
        "id": "6cbef45e-fea0-4b5d-940b-9458f6176f2c"
      },
      "outputs": [],
      "source": [
        "user_input = input(\"[ELIZA]: Hi, I'm a psychotherapist. What is your name?\\n\\n\")\n",
        "\n",
        "name, output = process_text_name(user_input)\n",
        "\n",
        "user_input = input(\"\\n[ELIZA]: \" + output+\"\\n\\n\")\n",
        "while user_input.lower() != 'end':\n",
        "    output = process_text(user_input, name)\n",
        "    user_input = input(\"\\n[ELIZA]: \" + output+\"\\n\\n\")"
      ]
    },
    {
      "cell_type": "code",
      "execution_count": null,
      "id": "8cf05791-b121-4df3-b25b-83e61a7160b5",
      "metadata": {
        "id": "8cf05791-b121-4df3-b25b-83e61a7160b5"
      },
      "outputs": [],
      "source": []
    }
  ],
  "metadata": {
    "kernelspec": {
      "display_name": "Python 3 (ipykernel)",
      "language": "python",
      "name": "python3"
    },
    "language_info": {
      "codemirror_mode": {
        "name": "ipython",
        "version": 3
      },
      "file_extension": ".py",
      "mimetype": "text/x-python",
      "name": "python",
      "nbconvert_exporter": "python",
      "pygments_lexer": "ipython3",
      "version": "3.8.12"
    },
    "colab": {
      "provenance": [],
      "include_colab_link": true
    }
  },
  "nbformat": 4,
  "nbformat_minor": 5
}