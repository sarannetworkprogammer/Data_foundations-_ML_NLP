{
  "cells": [
    {
      "cell_type": "markdown",
      "metadata": {
        "id": "view-in-github",
        "colab_type": "text"
      },
      "source": [
        "<a href=\"https://colab.research.google.com/github/sarannetworkprogammer/Data_foundations/blob/main/in_class_ex_2.ipynb\" target=\"_parent\"><img src=\"https://colab.research.google.com/assets/colab-badge.svg\" alt=\"Open In Colab\"/></a>"
      ]
    },
    {
      "cell_type": "markdown",
      "id": "16e37db4-35d6-41c0-9d82-fa40c2c1842c",
      "metadata": {
        "id": "16e37db4-35d6-41c0-9d82-fa40c2c1842c"
      },
      "source": [
        "# In-class Exercises\n"
      ]
    },
    {
      "cell_type": "markdown",
      "id": "a7fd069a-dc30-4089-86cc-d5c32da14fa1",
      "metadata": {
        "id": "a7fd069a-dc30-4089-86cc-d5c32da14fa1"
      },
      "source": [
        "## NOTES"
      ]
    },
    {
      "cell_type": "code",
      "execution_count": null,
      "id": "8ae7505a-a1b9-4e63-a84a-831a1d70d499",
      "metadata": {
        "id": "8ae7505a-a1b9-4e63-a84a-831a1d70d499"
      },
      "outputs": [],
      "source": [
        "# REMINDERS\n",
        "\n",
        "# Numbers (Int and Float) vs. String\n",
        "\n",
        "# In-place"
      ]
    },
    {
      "cell_type": "code",
      "execution_count": null,
      "id": "3d95b89b-a807-44ee-9b4f-0439cf7a6e39",
      "metadata": {
        "id": "3d95b89b-a807-44ee-9b4f-0439cf7a6e39"
      },
      "outputs": [],
      "source": [
        "# Lists\n",
        "\n",
        "## Creating Lists\n",
        "\n",
        "## Indexing Lists\n",
        "\n",
        "## Fancy Indexing Lists\n",
        "\n",
        "## Length of a list"
      ]
    },
    {
      "cell_type": "code",
      "execution_count": null,
      "id": "a6e86438-8362-4b18-b7a5-a00051cef555",
      "metadata": {
        "id": "a6e86438-8362-4b18-b7a5-a00051cef555"
      },
      "outputs": [],
      "source": [
        "# range()\n",
        "\n",
        "## Example 1\n",
        "\n",
        "## Example 2\n",
        "\n",
        "## Example 3"
      ]
    },
    {
      "cell_type": "code",
      "execution_count": null,
      "id": "ca0e4cdb-f3f8-4e69-a476-2e6b6e7a9d13",
      "metadata": {
        "id": "ca0e4cdb-f3f8-4e69-a476-2e6b6e7a9d13"
      },
      "outputs": [],
      "source": [
        "# For Loops\n",
        "\n",
        "## Looping over strings\n",
        "\n",
        "## Looping over lists\n",
        "\n",
        "## Looping with range"
      ]
    },
    {
      "cell_type": "code",
      "execution_count": null,
      "id": "2b28099a-7dd8-4e17-a6ef-fc5e2f350a06",
      "metadata": {
        "id": "2b28099a-7dd8-4e17-a6ef-fc5e2f350a06"
      },
      "outputs": [],
      "source": [
        "# While Loops\n",
        "\n",
        "## Example 1\n",
        "\n",
        "## Example 2 (going and going and going)"
      ]
    },
    {
      "cell_type": "code",
      "execution_count": null,
      "id": "6b70dde1-5080-4121-ae61-f80fbaaedcb4",
      "metadata": {
        "id": "6b70dde1-5080-4121-ae61-f80fbaaedcb4"
      },
      "outputs": [],
      "source": [
        "# Dictionaries\n",
        "\n",
        "## Creating Dictionaries\n",
        "\n",
        "## Indexing Dictionaries\n",
        "\n",
        "## Looping over keys\n",
        "\n",
        "## Looping over values\n",
        "\n",
        "## Looping over key-value pairs\n",
        "\n",
        "## Nested Dictionaries (i.e., a dictionary can be a value)"
      ]
    },
    {
      "cell_type": "markdown",
      "id": "cb98ffa5-8d0d-4eec-be42-41a94a4e6c76",
      "metadata": {
        "id": "cb98ffa5-8d0d-4eec-be42-41a94a4e6c76"
      },
      "source": [
        "## Basic Instructions\n",
        "\n",
        "Designate someone to be the \"driver\" in your breakout room. They will share their screen and help facilitate discussion as you work through the problems. As a group you will work through one exercise, then we will all come together to discuss before moving to the next exercise.\n",
        "\n",
        "## Exercise 1\n",
        "\n",
        "For this exercise, you should write code that evaluates each equation below. For part 1.1 and 1.2, you should use **for** loops. For part 1.3, you should use a **while** loop.\n",
        "\n",
        "1. y = $\\sum_{i=1}^{10} x$\n",
        "    - HINT: Use range()\n",
        "2. y = $\\frac{1}{|V|} \\sum_{x \\in V} x,\\, \\text{ where }\\, V = \\{5, 10, 15, 20, 25\\}$\n",
        "    - HINT: |V| is equal to the len() of V.\n",
        "    - EXTRA: If you have time, try solving this without using len() (HINT: Keep track of a count)\n",
        "3. y = $(\\prod_{x \\in V} x)^{\\frac{1}{|V|}},\\, \\text{ where }\\, V = \\{5, 10, 15, 20, 25\\}$\n",
        "    - HINT: You will need to index into V, e.g., V[i]\n",
        "    \n",
        "    \n",
        "**TIME**: 15 minutes"
      ]
    },
    {
      "cell_type": "code",
      "execution_count": null,
      "id": "93a5bd3e-3f34-46f8-861c-0268130e9dff",
      "metadata": {
        "id": "93a5bd3e-3f34-46f8-861c-0268130e9dff"
      },
      "outputs": [],
      "source": [
        "# Part 1.1 Code Here\n",
        "y = 0"
      ]
    },
    {
      "cell_type": "code",
      "execution_count": 5,
      "id": "72387546-8ac7-4f60-8670-08cd90a0495a",
      "metadata": {
        "colab": {
          "base_uri": "https://localhost:8080/"
        },
        "id": "72387546-8ac7-4f60-8670-08cd90a0495a",
        "outputId": "78b749d2-157a-4030-a536-a29480aaa9f5"
      },
      "outputs": [
        {
          "output_type": "stream",
          "name": "stdout",
          "text": [
            "15.0\n"
          ]
        }
      ],
      "source": [
        "# Part 1.2 Code Here\n",
        "\n",
        "V = [5, 10, 15, 20, 25]\n",
        "y = 0\n",
        "l = len(V)\n",
        "for e in V:\n",
        "  y = y + e\n",
        "\n",
        "print(y/l)\n",
        "\n"
      ]
    },
    {
      "cell_type": "code",
      "execution_count": 11,
      "id": "b502b84b-b23a-4637-a1be-0050f5e80003",
      "metadata": {
        "colab": {
          "base_uri": "https://localhost:8080/"
        },
        "id": "b502b84b-b23a-4637-a1be-0050f5e80003",
        "outputId": "8b5e408d-9efd-462d-ea91-6cfcd09aa09a"
      },
      "outputs": [
        {
          "output_type": "stream",
          "name": "stdout",
          "text": [
            "13.025855423486762\n"
          ]
        }
      ],
      "source": [
        "# Part 1.3 Code Here\n",
        "V = [5, 10, 15, 20, 25]\n",
        "y = 0\n",
        "index =0\n",
        "while index < len(V):\n",
        "  if index == 0:\n",
        "    y = V[index]\n",
        "\n",
        "  else:\n",
        "    y = y * V[index]\n",
        "  \n",
        "  index = index + 1\n",
        "\n",
        "print(y ** (1/len(V)))\n"
      ]
    },
    {
      "cell_type": "markdown",
      "id": "4dbde490-40f4-4eb1-b786-d7b7d6e66df3",
      "metadata": {
        "id": "4dbde490-40f4-4eb1-b786-d7b7d6e66df3"
      },
      "source": [
        "## Exercise 2\n",
        "\n",
        "For this exercise we are going use a dictionary to track how often a word appears within a sentence. The counts should be stored in the variable word_count. You should experiment with two options:\n",
        "\n",
        "1. Use the text as-is before splitting into words, e.g., \"This is a Test\" would become [\"This\", \"is\", \"a\", \"Test\"]\n",
        "2. lowercase the text before splitting the text into words, e.g., \"This is a Test\" would become [\"this\", \"is\", \"a\", \"test\"]\n",
        "\n",
        "**TIME**: 10 Minutes"
      ]
    },
    {
      "cell_type": "code",
      "execution_count": 17,
      "id": "601f2980-cb26-47f5-aa84-d6489f905ca1",
      "metadata": {
        "colab": {
          "base_uri": "https://localhost:8080/"
        },
        "id": "601f2980-cb26-47f5-aa84-d6489f905ca1",
        "outputId": "cb87a775-c648-4860-840f-2bb9cb3c7a9f"
      },
      "outputs": [
        {
          "output_type": "stream",
          "name": "stdout",
          "text": [
            "{'Python': 1, 'is': 3, 'the': 2, 'best': 1, 'programming': 1, 'language': 1, 'and': 1, 'Data': 1, 'Foundations': 1, 'BEST': 1, 'class': 1, 'at': 1, 'UTSA.': 1, 'It': 1, 'AWESOME': 1}\n",
            "{'python': 1, 'is': 3, 'the': 2, 'best': 2, 'programming': 1, 'language': 1, 'and': 1, 'data': 1, 'foundations': 1, 'class': 1, 'at': 1, 'utsa.': 1, 'it': 1, 'awesome': 1}\n"
          ]
        }
      ],
      "source": [
        "# Counting Words Code Here\n",
        "\n",
        "positive_words = {\"best\", \"great\", \"awesome\"}\n",
        "\n",
        "text = \"Python is the best programming language and Data Foundations is the BEST class at UTSA. It is AWESOME\"\n",
        "\n",
        "word_count = {}\n",
        "\n",
        "# Step 1: Break string into list of words. HINT: .split()\n",
        "s_text = text.split()\n",
        "count = 0\n",
        "# Step 2: Loop over list of words storing a count in word_count\n",
        "for word in s_text:\n",
        "  word_count[word] = word_count.get(word, 0) + 1\n",
        "\n",
        "print(word_count)\n",
        "    \n",
        "\n",
        "text_ver2 = text.lower().split()\n",
        "#print(text_ver2)\n",
        "word_count = {}\n",
        "\n",
        "for word in text_ver2:\n",
        "  word_count[word] = word_count.get(word, 0) + 1\n",
        "\n",
        "\n",
        "print(word_count)\n",
        "    \n",
        "\n",
        "# Step 3: Print word_count\n",
        "\n",
        "\n",
        "# Repeat above, but after lowercasing text"
      ]
    },
    {
      "cell_type": "markdown",
      "id": "8b88d4c7-2544-4a20-a1a7-55ed7b2eff17",
      "metadata": {
        "id": "8b88d4c7-2544-4a20-a1a7-55ed7b2eff17"
      },
      "source": [
        "# Exercise 3\n",
        "\n",
        "For this exericise, we will implement the equation for linear regression using a dictionary.\n",
        "\n",
        "$ y = \\beta_0 + \\beta_1 * x_1 + \\beta_2 * x_2 + \\beta_3 * x_3 $\n",
        "\n",
        "It is okay to hardcode this, i.e., to index the dictionaries manually.\n",
        "\n",
        "**EXTRA**: If you have time, try to solve this problem without hardcoding it via the use of a for loop. HINT: Loop over keys in \"coefs\" incrementally creating y.\n",
        "\n",
        "**TIME**: 10 Minutes"
      ]
    },
    {
      "cell_type": "code",
      "execution_count": 38,
      "id": "2b1f4935-27ee-4b16-84e1-06d1c029acc0",
      "metadata": {
        "colab": {
          "base_uri": "https://localhost:8080/"
        },
        "id": "2b1f4935-27ee-4b16-84e1-06d1c029acc0",
        "outputId": "5d087883-f5c3-42fc-bf3f-861257fb57bb"
      },
      "outputs": [
        {
          "output_type": "stream",
          "name": "stdout",
          "text": [
            "4\n",
            "3\n",
            "y =-2.62\n"
          ]
        }
      ],
      "source": [
        "# Write code here\n",
        "coefs = {\"B0\": 1, \"B1\": 7.5, \"B2\": 3.21, \"B3\": -1.7} # B = beta, i.e., B1 = beta 1\n",
        "\n",
        "x = {\"x1\": -3, \"x2\": 8, \"x3\": 4}\n",
        "\n",
        "\n",
        "print(len(coefs))\n",
        "print(len(x))\n",
        "\n",
        "\n",
        "\n",
        "y = coefs[\"B0\"]\n",
        "for i in range(1,4):\n",
        "  #print(\"B\"+ str(i))\n",
        "  #print(\"x\" + str(i))\n",
        " y = y + coefs[\"B\"+ str(i)] * x[\"x\" + str(i)]\n",
        "\n",
        "print(f\"y ={y}\")\n"
      ]
    },
    {
      "cell_type": "markdown",
      "id": "6e125904-bfcc-4234-b567-269e65e0a83c",
      "metadata": {
        "id": "6e125904-bfcc-4234-b567-269e65e0a83c"
      },
      "source": [
        "## Exercise 4 (If we have time; I will share solution if we don't finish in class)\n",
        "\n",
        "Write code that loops over the email-phone-number pairs counting the occurance of each in the nested dictionary email_phone_counts.\n",
        "\n",
        "**Time**: 10 Minutes"
      ]
    },
    {
      "cell_type": "code",
      "execution_count": 44,
      "id": "6838b1c7-00a5-4d75-a85f-1007823db975",
      "metadata": {
        "colab": {
          "base_uri": "https://localhost:8080/"
        },
        "id": "6838b1c7-00a5-4d75-a85f-1007823db975",
        "outputId": "e4cfbae5-46bc-48b1-aa78-964957a69e77"
      },
      "outputs": [
        {
          "output_type": "stream",
          "name": "stdout",
          "text": [
            "{'emails': {'abc@utsa.edu': 3, 'anthony.rios@utsa.edu': 1}, 'phoneNum': {'555-5555': 2, '555-5556': 1, '123-4567': 1}}\n"
          ]
        }
      ],
      "source": [
        "email_phone_counts = {\"emails\": {}, \"phoneNum\": {}}\n",
        "\n",
        "data = [['abc@utsa.edu', '555-5555'], ['abc@utsa.edu', '555-5555'], ['abc@utsa.edu', '555-5556'], ['anthony.rios@utsa.edu', '123-4567']]\n",
        "\n",
        "# Loop over each sublist in data using a for loop\n",
        "#     count email and phone number occurances in subdictionary email_phone_counts\n",
        "\n",
        "\n",
        "for x in data:\n",
        "  email_phone_counts['emails'][x[0]] =  email_phone_counts['emails'].get(x[0],0) + 1\n",
        "  email_phone_counts['phoneNum'][x[1]] =  email_phone_counts['phoneNum'].get(x[1],0) + 1\n",
        "  \n",
        "print(email_phone_counts)"
      ]
    }
  ],
  "metadata": {
    "kernelspec": {
      "display_name": "Python 3 (ipykernel)",
      "language": "python",
      "name": "python3"
    },
    "language_info": {
      "codemirror_mode": {
        "name": "ipython",
        "version": 3
      },
      "file_extension": ".py",
      "mimetype": "text/x-python",
      "name": "python",
      "nbconvert_exporter": "python",
      "pygments_lexer": "ipython3",
      "version": "3.8.12"
    },
    "colab": {
      "provenance": [],
      "include_colab_link": true
    }
  },
  "nbformat": 4,
  "nbformat_minor": 5
}