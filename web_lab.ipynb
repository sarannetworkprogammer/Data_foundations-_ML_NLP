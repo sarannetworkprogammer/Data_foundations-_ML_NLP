{
  "cells": [
    {
      "cell_type": "markdown",
      "metadata": {
        "id": "view-in-github",
        "colab_type": "text"
      },
      "source": [
        "<a href=\"https://colab.research.google.com/github/sarannetworkprogammer/Data_foundations-_ML_NLP/blob/main/web_lab.ipynb\" target=\"_parent\"><img src=\"https://colab.research.google.com/assets/colab-badge.svg\" alt=\"Open In Colab\"/></a>"
      ]
    },
    {
      "cell_type": "markdown",
      "metadata": {
        "id": "-QU_MPRo7ZoB"
      },
      "source": [
        "# Python: Data from the Web\n",
        "\n",
        "Name: \n",
        "\n",
        "abc123: \n",
        "\n",
        "Blank notebook to be used for class exercises."
      ]
    },
    {
      "cell_type": "markdown",
      "metadata": {
        "id": "b5J1SuKV7ZoG"
      },
      "source": [
        "## Exercise 1\n",
        "Write code to query http://duckduckgo.com/html/ with the key query \"data science\".  Parse the resulting page by returning all the **unique** web URLs. Return only the base URLs (http://duckduckgo.com, www.duckduckgo.com, ...)\n",
        "        \n",
        "hint: Use re.findall()"
      ]
    },
    {
      "cell_type": "code",
      "execution_count": 4,
      "metadata": {
        "colab": {
          "base_uri": "https://localhost:8080/",
          "height": 0
        },
        "id": "Srd1ErMV7ZoI",
        "outputId": "f56dc616-fc04-41c5-ff19-fb3848664d1c"
      },
      "outputs": [
        {
          "output_type": "execute_result",
          "data": {
            "text/plain": [
              "['www.w3.org/TR/xhtml1/DTD/xhtml1-transitional.dtd\"',\n",
              " 'www.w3.org/1999/xhtml\"',\n",
              " 'www.w3.org/1999/xhtml\"',\n",
              " 'www.w3.org/1999/xhtml\"',\n",
              " 'www.w3.org/1999/xhtml\"',\n",
              " 'www.ibm.com%2Fcloud%2Flearn%2Fdata%2Dscience%2Dintroduction&amp;rut=812979c39c783f55ff8f82a194db30a577302fc60d433afa1e3c35359c3206e4\"',\n",
              " 'www.ibm.com%2Fcloud%2Flearn%2Fdata%2Dscience%2Dintroduction&amp;rut=812979c39c783f55ff8f82a194db30a577302fc60d433afa1e3c35359c3206e4\"',\n",
              " 'www.ibm.com.ico\"',\n",
              " 'www.ibm.com%2Fcloud%2Flearn%2Fdata%2Dscience%2Dintroduction&amp;rut=812979c39c783f55ff8f82a194db30a577302fc60d433afa1e3c35359c3206e4\"',\n",
              " 'www.ibm.com/cloud/learn/data-science-introduction\\n',\n",
              " 'www.ibm.com%2Fcloud%2Flearn%2Fdata%2Dscience%2Dintroduction&amp;rut=812979c39c783f55ff8f82a194db30a577302fc60d433afa1e3c35359c3206e4\"',\n",
              " 'www.oracle.com%2Fwhat%2Dis%2Ddata%2Dscience%2F&amp;rut=aef38ca9a9e4ccaec3d92592028cc36b1456eb7f8fc08448a807e7a06e5e91c4\"',\n",
              " 'www.oracle.com%2Fwhat%2Dis%2Ddata%2Dscience%2F&amp;rut=aef38ca9a9e4ccaec3d92592028cc36b1456eb7f8fc08448a807e7a06e5e91c4\"',\n",
              " 'www.oracle.com.ico\"',\n",
              " 'www.oracle.com%2Fwhat%2Dis%2Ddata%2Dscience%2F&amp;rut=aef38ca9a9e4ccaec3d92592028cc36b1456eb7f8fc08448a807e7a06e5e91c4\"',\n",
              " 'www.oracle.com/what-is-data-science/\\n',\n",
              " 'www.oracle.com%2Fwhat%2Dis%2Ddata%2Dscience%2F&amp;rut=aef38ca9a9e4ccaec3d92592028cc36b1456eb7f8fc08448a807e7a06e5e91c4\"',\n",
              " 'www.edureka.co%2Fblog%2Fwhat%2Dis%2Ddata%2Dscience%2F&amp;rut=0efcdd347997ab4e28b4e388034d6049567f3882afaa34ad32c61fd949390b9b\"',\n",
              " 'www.edureka.co%2Fblog%2Fwhat%2Dis%2Ddata%2Dscience%2F&amp;rut=0efcdd347997ab4e28b4e388034d6049567f3882afaa34ad32c61fd949390b9b\"',\n",
              " 'www.edureka.co.ico\"',\n",
              " 'www.edureka.co%2Fblog%2Fwhat%2Dis%2Ddata%2Dscience%2F&amp;rut=0efcdd347997ab4e28b4e388034d6049567f3882afaa34ad32c61fd949390b9b\"',\n",
              " 'www.edureka.co/blog/what-is-data-science/\\n',\n",
              " 'www.edureka.co%2Fblog%2Fwhat%2Dis%2Ddata%2Dscience%2F&amp;rut=0efcdd347997ab4e28b4e388034d6049567f3882afaa34ad32c61fd949390b9b\"',\n",
              " 'www.investopedia.com%2Fterms%2Fd%2Fdata%2Dscience.asp&amp;rut=0f87567f663e772ca9ed3edba60d8dcb8ddf9bccef7e500142e4dc56ec1e27bd\"',\n",
              " 'www.investopedia.com%2Fterms%2Fd%2Fdata%2Dscience.asp&amp;rut=0f87567f663e772ca9ed3edba60d8dcb8ddf9bccef7e500142e4dc56ec1e27bd\"',\n",
              " 'www.investopedia.com.ico\"',\n",
              " 'www.investopedia.com%2Fterms%2Fd%2Fdata%2Dscience.asp&amp;rut=0f87567f663e772ca9ed3edba60d8dcb8ddf9bccef7e500142e4dc56ec1e27bd\"',\n",
              " 'www.investopedia.com/terms/d/data-science.asp\\n',\n",
              " 'www.investopedia.com%2Fterms%2Fd%2Fdata%2Dscience.asp&amp;rut=0f87567f663e772ca9ed3edba60d8dcb8ddf9bccef7e500142e4dc56ec1e27bd\"',\n",
              " 'www.javatpoint.com%2Fdata%2Dscience&amp;rut=8081357ff3729b5c8320ddd3d4fb3a26273f307d043d5622a31d69bcf16d7ed1\"',\n",
              " 'www.javatpoint.com%2Fdata%2Dscience&amp;rut=8081357ff3729b5c8320ddd3d4fb3a26273f307d043d5622a31d69bcf16d7ed1\"',\n",
              " 'www.javatpoint.com.ico\"',\n",
              " 'www.javatpoint.com%2Fdata%2Dscience&amp;rut=8081357ff3729b5c8320ddd3d4fb3a26273f307d043d5622a31d69bcf16d7ed1\"',\n",
              " 'www.javatpoint.com/data-science\\n',\n",
              " 'www.javatpoint.com%2Fdata%2Dscience&amp;rut=8081357ff3729b5c8320ddd3d4fb3a26273f307d043d5622a31d69bcf16d7ed1\"',\n",
              " 'www.datascienceprograms.org%2F&amp;rut=d950ee23a6f44bc72273685f179ab62b7c0886799d2e817c4260a66bafbd1b80\"',\n",
              " 'www.datascienceprograms.org%2F&amp;rut=d950ee23a6f44bc72273685f179ab62b7c0886799d2e817c4260a66bafbd1b80\"',\n",
              " 'www.datascienceprograms.org.ico\"',\n",
              " 'www.datascienceprograms.org%2F&amp;rut=d950ee23a6f44bc72273685f179ab62b7c0886799d2e817c4260a66bafbd1b80\"',\n",
              " 'www.datascienceprograms.org\\n',\n",
              " 'www.datascienceprograms.org%2F&amp;rut=d950ee23a6f44bc72273685f179ab62b7c0886799d2e817c4260a66bafbd1b80\"',\n",
              " 'www.geeksforgeeks.org%2Fwhat%2Dis%2Ddata%2Dscience%2F&amp;rut=644c45eef9ddad8a087f37d647a4b9b51b2b4c448e904e557e1b972901177cd6\"',\n",
              " 'www.geeksforgeeks.org%2Fwhat%2Dis%2Ddata%2Dscience%2F&amp;rut=644c45eef9ddad8a087f37d647a4b9b51b2b4c448e904e557e1b972901177cd6\"',\n",
              " 'www.geeksforgeeks.org.ico\"',\n",
              " 'www.geeksforgeeks.org%2Fwhat%2Dis%2Ddata%2Dscience%2F&amp;rut=644c45eef9ddad8a087f37d647a4b9b51b2b4c448e904e557e1b972901177cd6\"',\n",
              " 'www.geeksforgeeks.org/what-is-data-science/\\n',\n",
              " 'www.geeksforgeeks.org%2Fwhat%2Dis%2Ddata%2Dscience%2F&amp;rut=644c45eef9ddad8a087f37d647a4b9b51b2b4c448e904e557e1b972901177cd6\"',\n",
              " 'www.sas.com%2Fen_us%2Finsights%2Fanalytics%2Fdata%2Dscience.html&amp;rut=4e34e139b4fb9318d657386adbab7f19d21d6697d35f0036a530d86e77536f75\"',\n",
              " 'www.sas.com%2Fen_us%2Finsights%2Fanalytics%2Fdata%2Dscience.html&amp;rut=4e34e139b4fb9318d657386adbab7f19d21d6697d35f0036a530d86e77536f75\"',\n",
              " 'www.sas.com.ico\"',\n",
              " 'www.sas.com%2Fen_us%2Finsights%2Fanalytics%2Fdata%2Dscience.html&amp;rut=4e34e139b4fb9318d657386adbab7f19d21d6697d35f0036a530d86e77536f75\"',\n",
              " 'www.sas.com/en_us/insights/analytics/data-science.html\\n',\n",
              " 'www.sas.com%2Fen_us%2Finsights%2Fanalytics%2Fdata%2Dscience.html&amp;rut=4e34e139b4fb9318d657386adbab7f19d21d6697d35f0036a530d86e77536f75\"',\n",
              " 'www.wm.edu%2Fas%2Fdata%2Dscience%2Findex.php&amp;rut=0ae4f09d6d5cf4d868a7b659d6053247f782993ff72013cb740e639fef5fae80\"',\n",
              " 'www.wm.edu%2Fas%2Fdata%2Dscience%2Findex.php&amp;rut=0ae4f09d6d5cf4d868a7b659d6053247f782993ff72013cb740e639fef5fae80\"',\n",
              " 'www.wm.edu.ico\"',\n",
              " 'www.wm.edu%2Fas%2Fdata%2Dscience%2Findex.php&amp;rut=0ae4f09d6d5cf4d868a7b659d6053247f782993ff72013cb740e639fef5fae80\"',\n",
              " 'www.wm.edu/as/data-science/index.php\\n',\n",
              " 'www.wm.edu%2Fas%2Fdata%2Dscience%2Findex.php&amp;rut=0ae4f09d6d5cf4d868a7b659d6053247f782993ff72013cb740e639fef5fae80\"',\n",
              " 'www.coursera.org%2Fbrowse%2Fdata%2Dscience&amp;rut=a9463876be6e6a6da2e125818e1a9d14a7d78f40143d0b2fccbab92c9ec60517\"',\n",
              " 'www.coursera.org%2Fbrowse%2Fdata%2Dscience&amp;rut=a9463876be6e6a6da2e125818e1a9d14a7d78f40143d0b2fccbab92c9ec60517\"',\n",
              " 'www.coursera.org.ico\"',\n",
              " 'www.coursera.org%2Fbrowse%2Fdata%2Dscience&amp;rut=a9463876be6e6a6da2e125818e1a9d14a7d78f40143d0b2fccbab92c9ec60517\"',\n",
              " 'www.coursera.org/browse/data-science\\n',\n",
              " 'www.coursera.org%2Fbrowse%2Fdata%2Dscience&amp;rut=a9463876be6e6a6da2e125818e1a9d14a7d78f40143d0b2fccbab92c9ec60517\"',\n",
              " 'www.northeastern.edu%2Fgraduate%2Fblog%2Fwhat%2Ddoes%2Da%2Ddata%2Dscientist%2Ddo%2F&amp;rut=1ad4370be225796f2807a7ef677b05cce8b1ccb633b21215f5d73740fc83257c\"',\n",
              " 'www.northeastern.edu%2Fgraduate%2Fblog%2Fwhat%2Ddoes%2Da%2Ddata%2Dscientist%2Ddo%2F&amp;rut=1ad4370be225796f2807a7ef677b05cce8b1ccb633b21215f5d73740fc83257c\"',\n",
              " 'www.northeastern.edu.ico\"',\n",
              " 'www.northeastern.edu%2Fgraduate%2Fblog%2Fwhat%2Ddoes%2Da%2Ddata%2Dscientist%2Ddo%2F&amp;rut=1ad4370be225796f2807a7ef677b05cce8b1ccb633b21215f5d73740fc83257c\"',\n",
              " 'www.northeastern.edu/graduate/blog/what-does-a-data-scientist-do/\\n',\n",
              " 'www.northeastern.edu%2Fgraduate%2Fblog%2Fwhat%2Ddoes%2Da%2Ddata%2Dscientist%2Ddo%2F&amp;rut=1ad4370be225796f2807a7ef677b05cce8b1ccb633b21215f5d73740fc83257c\"',\n",
              " 'www.coursera.org%2Farticles%2Fwhat%2Dis%2Da%2Ddata%2Dscientist&amp;rut=5cc190fc4e6278329ef70bd4fd783c25c834ccd522560985f03536bbf45450e2\"',\n",
              " 'www.coursera.org%2Farticles%2Fwhat%2Dis%2Da%2Ddata%2Dscientist&amp;rut=5cc190fc4e6278329ef70bd4fd783c25c834ccd522560985f03536bbf45450e2\"',\n",
              " 'www.coursera.org.ico\"',\n",
              " 'www.coursera.org%2Farticles%2Fwhat%2Dis%2Da%2Ddata%2Dscientist&amp;rut=5cc190fc4e6278329ef70bd4fd783c25c834ccd522560985f03536bbf45450e2\"',\n",
              " 'www.coursera.org/articles/what-is-a-data-scientist\\n',\n",
              " 'www.coursera.org%2Farticles%2Fwhat%2Dis%2Da%2Ddata%2Dscientist&amp;rut=5cc190fc4e6278329ef70bd4fd783c25c834ccd522560985f03536bbf45450e2\"',\n",
              " 'www.sas.rochester.edu%2Fdsc%2Fabout%2Fdata%2Dscience.html&amp;rut=9af67f1efb560b3f9e50e1a72fc630507070cd89872438e67f48d5054a6349c1\"',\n",
              " 'www.sas.rochester.edu%2Fdsc%2Fabout%2Fdata%2Dscience.html&amp;rut=9af67f1efb560b3f9e50e1a72fc630507070cd89872438e67f48d5054a6349c1\"',\n",
              " 'www.sas.rochester.edu.ico\"',\n",
              " 'www.sas.rochester.edu%2Fdsc%2Fabout%2Fdata%2Dscience.html&amp;rut=9af67f1efb560b3f9e50e1a72fc630507070cd89872438e67f48d5054a6349c1\"',\n",
              " 'www.sas.rochester.edu/dsc/about/data-science.html\\n',\n",
              " 'www.sas.rochester.edu%2Fdsc%2Fabout%2Fdata%2Dscience.html&amp;rut=9af67f1efb560b3f9e50e1a72fc630507070cd89872438e67f48d5054a6349c1\"']"
            ]
          },
          "metadata": {},
          "execution_count": 4
        }
      ],
      "source": [
        "import html\n",
        "import urllib.parse, urllib.request\n",
        "from bs4 import BeautifulSoup\n",
        "import re\n",
        "\n",
        "baseurl = \"http://duckduckgo.com/html/?\"\n",
        "\n",
        "query = \"Data Science\"\n",
        "parms = {\"q\":query}\n",
        "\n",
        "url = baseurl + urllib.parse.urlencode(parms)\n",
        "\n",
        "file = urllib.request.urlopen(url)\n",
        "html_page = file.read().decode()\n",
        "\n",
        "re.findall(r\"www\\.[^\\\"\\n]+[http[^\\\"\\n]+\", html_page)\n"
      ]
    },
    {
      "cell_type": "markdown",
      "metadata": {
        "id": "BxvmIMYs7ZoL"
      },
      "source": [
        "## Exercise 2\n",
        "\n",
        "Find another table on Wikipedia and use the BeautifulSoup package to parse the table."
      ]
    },
    {
      "cell_type": "code",
      "execution_count": 2,
      "metadata": {
        "colab": {
          "base_uri": "https://localhost:8080/",
          "height": 0
        },
        "id": "PDAzRhNU7ZoM",
        "outputId": "6ebe5d9c-30ee-4e7c-efc2-416770ad3ade"
      },
      "outputs": [
        {
          "output_type": "stream",
          "name": "stdout",
          "text": [
            "[]\n",
            "[]\n",
            "['1', 'Russia*', '13,129,142', '5,069,190', '17,098,242\\xa0km2 (6,601,668\\xa0sq\\xa0mi) including European Russia.[1]', 'Largest country in the world by area.']\n",
            "['2', 'China', '9,615,222', '3,712,458', 'Excluding Taiwan, Hong Kong and Macau.', 'Largest country by population in Asia as well as in the world.']\n",
            "['3', 'India', '3,287,263', '1,269,219', '', '']\n",
            "['4', 'Kazakhstan*', '2,544,900', '982,600', '2,724,900\\xa0km2 (1,052,100\\xa0sq\\xa0mi) including European part.', 'Largest landlocked country in Asia and in the world.']\n",
            "['5', 'Saudi Arabia', '2,149,690', '830,000', '', '']\n",
            "['6', 'Iran', '1,648,195', '636,372', '', '']\n",
            "['7', 'Mongolia', '1,564,110', '603,910', '', '']\n",
            "['8', 'Indonesia*', '1,502,029', '579,937', '1,904,569\\xa0km2 (735,358\\xa0sq\\xa0mi) including the Indonesian Papua in Oceania.', 'Largest island country in Asia as well as in the World.']\n",
            "['9', 'Pakistan', '881,913', '340,509', '', '']\n",
            "['10', 'Turkey*', '759,592', '293,280', '783,562\\xa0km2 (302,535\\xa0sq\\xa0mi) including European Turkey.', '']\n",
            "['11', 'Myanmar', '676,578', '261,228', '', '']\n",
            "['12', 'Afghanistan', '652,230', '251,830', '', 'Largest landlocked country by population in Asia.']\n",
            "['13', 'Yemen', '527,968', '203,850', '', '']\n",
            "['14', 'Thailand', '513,120', '198,120', '', '']\n",
            "['15', 'Turkmenistan', '488,100', '188,500', '', '']\n",
            "['16', 'Uzbekistan', '447,400', '172,700', '', '']\n",
            "['17', 'Iraq', '438,317', '169,235', '', '']\n",
            "['18', 'Japan', '377,930', '145,920', '', '']\n",
            "['19', 'Vietnam', '331,212', '127,882', '', '']\n",
            "['20', 'Malaysia', '330,803', '127,724', '', '']\n",
            "['21', 'Oman', '309,500', '119,500', '', '']\n",
            "['22', 'Philippines', '300,000', '120,000', '', '']\n",
            "['23', 'Laos', '236,800', '91,400', '', '']\n",
            "['24', 'Kyrgyzstan', '199,951', '77,202', '', '']\n",
            "['25', 'Syria', '185,180', '71,500', 'Including the Golan Heights.', '']\n",
            "['26', 'Cambodia', '181,035', '69,898', '', '']\n",
            "['27', 'Bangladesh', '148,460', '57,320', '', '']\n",
            "['28', 'Nepal', '147,516', '56,956', 'including highest mountain in the world']\n",
            "['29', 'Tajikistan', '143,100', '55,300', '', '']\n",
            "['30', 'North Korea', '120,538', '46,540', '', '']\n",
            "['31', 'South Korea', '100,210', '38,690', '', '']\n",
            "['32', 'Jordan', '89,342', '34,495', '', '']\n",
            "['33', 'United Arab Emirates', '83,600', '32,300', '', '']\n",
            "['34', 'Azerbaijan*', '79,640', '30,750', '86,600\\xa0km2 (33,400\\xa0sq\\xa0mi) including European part. Located in the Caucasus, between Europe and Asia.', '']\n",
            "['35', 'Georgia*', '67,272', '25,974', '69,700\\xa0km2 (26,900\\xa0sq\\xa0mi) including European part. Located in the Caucasus, between Europe and Asia.', '']\n",
            "['36', 'Sri Lanka', '65,610', '25,330', '', '']\n",
            "['37', 'Egypt*', '60,000', '23,000', '1,010,408\\xa0km2 (390,121\\xa0sq\\xa0mi) including African part.', '']\n",
            "['38', 'Bhutan', '38,394', '14,824', '', 'Smallest landlocked country by population in Asia.']\n",
            "['39', 'Taiwan', '36,193', '13,974', 'Total area under the jurisdiction of the free area of the Republic of China.', '']\n",
            "['40', 'Armenia*', '29,843', '11,522', 'Located in the Armenian highlands and the Caucasus, between Europe and Asia.', 'Smallest landlocked country in Asia.']\n",
            "['41', 'Israel', '22,072', '8,522', 'Excluding the West Bank, Gaza Strip, and Golan Heights.', '']\n",
            "['42', 'Kuwait', '17,818', '6,880', '', '']\n",
            "['43', 'Timor-Leste', '14,874', '5,743', '', '']\n",
            "['44', 'Qatar', '11,586', '4,473', '', '']\n",
            "['45', 'Lebanon', '10,452', '4,036', '', '']\n",
            "['46', 'Cyprus*', '9,251', '3,572', 'Including Northern Cyprus.', '']\n",
            "['47', 'Palestine', '6,020', '2,320', 'Including the West Bank and Gaza Strip.', '']\n",
            "['48', 'Brunei', '5,765', '2,226', '', '']\n",
            "['49', 'Bahrain', '780', '300', '', '']\n",
            "['50', 'Singapore', '753', '291', '', '']\n",
            "['51', 'Maldives', '300', '120', '', 'Smallest country by area and population in Asia.']\n",
            "['', 'Total', '44,526,316', '17,191,707', '', '']\n"
          ]
        }
      ],
      "source": [
        "from inspect import CO_NEWLOCALS\n",
        "import urllib\n",
        "from bs4 import BeautifulSoup\n",
        "import re\n",
        "\n",
        "url = \"https://en.wikipedia.org/wiki/List_of_Asian_countries_by_area\"                 # Example: You can use this or find another one.\n",
        "\n",
        "\n",
        "html = urllib.request.urlopen(url).read()\n",
        "\n",
        "soup = BeautifulSoup(html,'lxml')\n",
        "\n",
        "myTable = soup.find('table',{'class':'wikitable sortable'})\n",
        "\n",
        "tbody = myTable.find('tbody')\n",
        "\n",
        "rows = tbody.find_all('tr')\n",
        "\n",
        "for row in rows:\n",
        "  cols = row.find_all('td')\n",
        "  cols = [ele.text.strip() for ele in cols]\n",
        "  print(cols)\n",
        " \n",
        "\n",
        "\n",
        "\n"
      ]
    },
    {
      "cell_type": "code",
      "source": [
        "\n",
        "\n",
        "from inspect import CO_NEWLOCALS\n",
        "import urllib\n",
        "from bs4 import BeautifulSoup\n",
        "import re\n",
        "\n",
        "url = \"https://en.wikipedia.org/wiki/Currency\"                 # Example: You can use this or find another one.\n",
        "\n",
        "\n",
        "html = urllib.request.urlopen(url).read()\n",
        "\n",
        "soup = BeautifulSoup(html,'lxml')\n",
        "\n",
        "myTable = soup.find('table',{'class':'wikitable sortable'})\n",
        "\n",
        "tbody = myTable.find('tbody')\n",
        "\n",
        "rows = tbody.find_all('tr')\n",
        "\n",
        "for row in rows:\n",
        "  cols = row.find_all('td')\n",
        "  cols = [ele.text.strip() for ele in cols]\n",
        "  print(cols)\n",
        " "
      ],
      "metadata": {
        "colab": {
          "base_uri": "https://localhost:8080/",
          "height": 0
        },
        "id": "jZ1DPhmVOSNg",
        "outputId": "e213aea1-c16a-4c82-c560-68ae4898afcb"
      },
      "execution_count": 3,
      "outputs": [
        {
          "output_type": "stream",
          "name": "stdout",
          "text": [
            "[]\n",
            "['', 'World', '100.00%']\n",
            "['1', 'United States dollar', '42.31%']\n",
            "['2', 'Euro', '35.15%']\n",
            "['3', 'Pound sterling', '6.54%']\n",
            "['4', 'Japanese yen', '2.88%']\n",
            "['5', 'Chinese renminbi', '2.44%']\n",
            "['6', 'Canadian dollar', '1.67%']\n",
            "['7', 'Australian dollar', '1.32%']\n",
            "['8', 'Hong Kong dollar', '1.16%']\n",
            "['9', 'Swiss franc', '0.98%']\n",
            "['10', 'Norwegian krone', '0.72%']\n",
            "['11', 'Swedish krona', '0.66%']\n",
            "['12', 'Polish złoty', '0.57%']\n",
            "['13', 'Malaysian ringgit', '0.42%']\n",
            "['14', 'Danish krone', '0.36%']\n",
            "['15', 'Singapore dollar', '0.34%']\n",
            "['16', 'New Zealand dollar', '0.32%']\n",
            "['17', 'Mexican peso', '0.27%']\n",
            "['18', 'Hungarian forint', '0.21%']\n",
            "['19', 'South African rand', '0.20%']\n",
            "['20', 'Egyptian pound', '0.19%']\n"
          ]
        }
      ]
    }
  ],
  "metadata": {
    "kernelspec": {
      "display_name": "Python 3",
      "language": "python",
      "name": "python3"
    },
    "language_info": {
      "codemirror_mode": {
        "name": "ipython",
        "version": 3
      },
      "file_extension": ".py",
      "mimetype": "text/x-python",
      "name": "python",
      "nbconvert_exporter": "python",
      "pygments_lexer": "ipython3",
      "version": "3.8.3"
    },
    "colab": {
      "provenance": [],
      "include_colab_link": true
    }
  },
  "nbformat": 4,
  "nbformat_minor": 0
}