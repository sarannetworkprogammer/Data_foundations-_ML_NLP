{
  "cells": [
    {
      "cell_type": "markdown",
      "metadata": {
        "id": "9xFiWdYyVNx-"
      },
      "source": [
        "# Python as a Calculator\n",
        "\n",
        "Blank notebook to be used for class exercises.\n",
        "\n",
        "Name:\n",
        "SARANCHOWDARY Malakalapalli\n",
        "abc123: pkb378"
      ]
    },
    {
      "cell_type": "markdown",
      "metadata": {
        "id": "-AWDSCdoVNyE"
      },
      "source": [
        "## Exercise 1\n",
        "\n",
        "Change Hello to Goodbye, then run the cell."
      ]
    },
    {
      "cell_type": "code",
      "execution_count": null,
      "metadata": {
        "colab": {
          "base_uri": "https://localhost:8080/"
        },
        "id": "FWgGl2-6VNyG",
        "outputId": "cb065798-880f-4ab9-a63b-ba2cc15c4722"
      },
      "outputs": [
        {
          "output_type": "stream",
          "name": "stdout",
          "text": [
            "Goodbye!\n"
          ]
        }
      ],
      "source": [
        "print(\"Goodbye!\")"
      ]
    },
    {
      "cell_type": "markdown",
      "metadata": {
        "id": "q30aoUg8VNyK"
      },
      "source": [
        "## Exercise 2\n",
        "In the cell below, calculate the following expressions (cast to integers using int()):\n",
        "\n",
        "| a | b|\n",
        "----|---- |\n",
        "| 12 + 4  | 12 + 5 |\n",
        "| 12 -4   | 12 - 5 |\n",
        "| 12 $\\times$ 4 | 12 $\\times$ 5 |\n",
        "| 12 $\\div$ 4 | 12 $\\div$ 5|\n",
        "| $12^4$ | $12^5$ |\n",
        "\n",
        "Which is wrong?"
      ]
    },
    {
      "cell_type": "code",
      "execution_count": null,
      "metadata": {
        "id": "gG9DyXOGVNyL",
        "outputId": "0e2e3fe0-4bb9-4712-c465-f7c1f3abcff1",
        "colab": {
          "base_uri": "https://localhost:8080/"
        }
      },
      "outputs": [
        {
          "output_type": "execute_result",
          "data": {
            "text/plain": [
              "16"
            ]
          },
          "metadata": {},
          "execution_count": 139
        }
      ],
      "source": [
        "# This is  a comment. Make sure you wrap all the expressions like the example below.\n",
        "# Also, create a new cell for each expression (i.e., press the + button in Jupyter Lab)\n",
        "int(12 + 4) # I have done the first one for you. You can create new cells for the others."
      ]
    },
    {
      "cell_type": "code",
      "source": [
        "int(12-4)"
      ],
      "metadata": {
        "id": "rvN7dDy4VT1T",
        "colab": {
          "base_uri": "https://localhost:8080/"
        },
        "outputId": "59edcd43-cb16-46d3-f99c-d8a5a212d4e4"
      },
      "execution_count": null,
      "outputs": [
        {
          "output_type": "execute_result",
          "data": {
            "text/plain": [
              "8"
            ]
          },
          "metadata": {},
          "execution_count": 140
        }
      ]
    },
    {
      "cell_type": "code",
      "source": [
        "int(12*4)"
      ],
      "metadata": {
        "id": "89vSNTtUVW69",
        "colab": {
          "base_uri": "https://localhost:8080/"
        },
        "outputId": "a066cdc9-9386-4280-8ab9-7f0fd8773b8e"
      },
      "execution_count": null,
      "outputs": [
        {
          "output_type": "execute_result",
          "data": {
            "text/plain": [
              "48"
            ]
          },
          "metadata": {},
          "execution_count": 141
        }
      ]
    },
    {
      "cell_type": "code",
      "source": [
        "int(12/4)"
      ],
      "metadata": {
        "id": "Lie7aXC5VXT8",
        "colab": {
          "base_uri": "https://localhost:8080/"
        },
        "outputId": "91482c1f-d004-48ab-c478-592ec985f326"
      },
      "execution_count": null,
      "outputs": [
        {
          "output_type": "execute_result",
          "data": {
            "text/plain": [
              "3"
            ]
          },
          "metadata": {},
          "execution_count": 142
        }
      ]
    },
    {
      "cell_type": "code",
      "source": [
        "int(pow(12,4))"
      ],
      "metadata": {
        "colab": {
          "base_uri": "https://localhost:8080/"
        },
        "id": "ETMuMrAJWJRq",
        "outputId": "536c0b16-af33-4906-b793-93924cb80ec3"
      },
      "execution_count": null,
      "outputs": [
        {
          "output_type": "execute_result",
          "data": {
            "text/plain": [
              "20736"
            ]
          },
          "metadata": {},
          "execution_count": 143
        }
      ]
    },
    {
      "cell_type": "code",
      "source": [
        "int(12-5)\n"
      ],
      "metadata": {
        "colab": {
          "base_uri": "https://localhost:8080/"
        },
        "id": "JwELxdnSWJdh",
        "outputId": "d121fdfa-92a6-4d2c-90cd-fef8d139e76c"
      },
      "execution_count": null,
      "outputs": [
        {
          "output_type": "execute_result",
          "data": {
            "text/plain": [
              "7"
            ]
          },
          "metadata": {},
          "execution_count": 144
        }
      ]
    },
    {
      "cell_type": "code",
      "source": [
        "int(12+5)"
      ],
      "metadata": {
        "colab": {
          "base_uri": "https://localhost:8080/"
        },
        "id": "bqJHmOboWJnx",
        "outputId": "bd26536a-8a64-49e0-9687-ad1eb2f061d2"
      },
      "execution_count": null,
      "outputs": [
        {
          "output_type": "execute_result",
          "data": {
            "text/plain": [
              "17"
            ]
          },
          "metadata": {},
          "execution_count": 145
        }
      ]
    },
    {
      "cell_type": "code",
      "source": [
        "int(12*5)"
      ],
      "metadata": {
        "colab": {
          "base_uri": "https://localhost:8080/"
        },
        "id": "K5iDviBrWsxu",
        "outputId": "b7507524-2faa-446d-e5b8-43bf9b0728a3"
      },
      "execution_count": null,
      "outputs": [
        {
          "output_type": "execute_result",
          "data": {
            "text/plain": [
              "60"
            ]
          },
          "metadata": {},
          "execution_count": 146
        }
      ]
    },
    {
      "cell_type": "code",
      "source": [
        "int(12/5)"
      ],
      "metadata": {
        "colab": {
          "base_uri": "https://localhost:8080/"
        },
        "id": "Uaqs3-v_Ws9k",
        "outputId": "66a973b8-6a0c-4d88-c587-1c63b8150101"
      },
      "execution_count": null,
      "outputs": [
        {
          "output_type": "execute_result",
          "data": {
            "text/plain": [
              "2"
            ]
          },
          "metadata": {},
          "execution_count": 147
        }
      ]
    },
    {
      "cell_type": "code",
      "source": [
        "int(pow(12,5))"
      ],
      "metadata": {
        "colab": {
          "base_uri": "https://localhost:8080/"
        },
        "id": "ZbwJ8GonWtAl",
        "outputId": "eed92227-1416-4f7c-df85-a3d8ab0682ef"
      },
      "execution_count": null,
      "outputs": [
        {
          "output_type": "execute_result",
          "data": {
            "text/plain": [
              "248832"
            ]
          },
          "metadata": {},
          "execution_count": 148
        }
      ]
    },
    {
      "cell_type": "markdown",
      "metadata": {
        "id": "cycWhYIKVNyN"
      },
      "source": [
        "## Exercise 3\n",
        "\n",
        "In a cell for each item, alculate the following expressions one at a time:\n",
        "\n",
        "1. 12.0 + 4.0\n",
        "2. 12.0 $\\div$ 4.0\n",
        "3. $25.0^{0.5}$\n",
        "4. $5.0^{-1.0}$\n",
        "5. 5.0 $\\div$ 2"
      ]
    },
    {
      "cell_type": "markdown",
      "source": [
        "12.0 + 4.0"
      ],
      "metadata": {
        "id": "Uwpm28OmVNyO"
      }
    },
    {
      "cell_type": "code",
      "source": [
        "12.0/4.0"
      ],
      "metadata": {
        "colab": {
          "base_uri": "https://localhost:8080/"
        },
        "id": "g9vWe3mnXLyX",
        "outputId": "aa84e060-1d38-4067-bdbf-1045c7673587"
      },
      "execution_count": null,
      "outputs": [
        {
          "output_type": "execute_result",
          "data": {
            "text/plain": [
              "3.0"
            ]
          },
          "metadata": {},
          "execution_count": 149
        }
      ]
    },
    {
      "cell_type": "code",
      "source": [
        "pow(25.0,0.5)"
      ],
      "metadata": {
        "colab": {
          "base_uri": "https://localhost:8080/"
        },
        "id": "2GkOsjTyXMB3",
        "outputId": "d721688a-9137-4228-bb15-2ec0b368d08f"
      },
      "execution_count": null,
      "outputs": [
        {
          "output_type": "execute_result",
          "data": {
            "text/plain": [
              "5.0"
            ]
          },
          "metadata": {},
          "execution_count": 150
        }
      ]
    },
    {
      "cell_type": "code",
      "source": [
        "pow(5.0,-1.0)"
      ],
      "metadata": {
        "colab": {
          "base_uri": "https://localhost:8080/"
        },
        "id": "U7qYcJieXMKn",
        "outputId": "0f0573bf-2b43-47ce-e0ea-8a353fa4703a"
      },
      "execution_count": null,
      "outputs": [
        {
          "output_type": "execute_result",
          "data": {
            "text/plain": [
              "0.2"
            ]
          },
          "metadata": {},
          "execution_count": 151
        }
      ]
    },
    {
      "cell_type": "code",
      "source": [
        "5.0/2"
      ],
      "metadata": {
        "colab": {
          "base_uri": "https://localhost:8080/"
        },
        "id": "24AOmLXgXMW3",
        "outputId": "728329d9-9024-448a-f888-ac2cd011cb0f"
      },
      "execution_count": null,
      "outputs": [
        {
          "output_type": "execute_result",
          "data": {
            "text/plain": [
              "2.5"
            ]
          },
          "metadata": {},
          "execution_count": 152
        }
      ]
    },
    {
      "cell_type": "code",
      "source": [],
      "metadata": {
        "id": "nVq1OpJ-XNL3"
      },
      "execution_count": null,
      "outputs": []
    },
    {
      "cell_type": "markdown",
      "source": [],
      "metadata": {
        "id": "ZdgFcINyXepa"
      }
    },
    {
      "cell_type": "markdown",
      "metadata": {
        "id": "3ydqYPESVNyP"
      },
      "source": [
        "## Exercise 4\n",
        "\n",
        "First, predict what the python result will be. Next, in the cell below, calculate the following expressions one at a time:\n",
        "\n",
        "1. 'Hello, ' + \"world!\"\n",
        "2. 'Hello!' * 3\n",
        "3. '' * 10000000000 # two adjacent single quotes\n",
        "4. '4' + '2'"
      ]
    },
    {
      "cell_type": "markdown",
      "source": [
        "\"Hello , world!\""
      ],
      "metadata": {
        "id": "Coz8gevCXd0A"
      }
    },
    {
      "cell_type": "code",
      "execution_count": null,
      "metadata": {
        "id": "dipVcnQpVNyQ",
        "colab": {
          "base_uri": "https://localhost:8080/"
        },
        "outputId": "686716bd-b979-435c-d974-dde67bdf6016"
      },
      "outputs": [
        {
          "output_type": "stream",
          "name": "stdout",
          "text": [
            "Hello, world!\n"
          ]
        }
      ],
      "source": [
        "print('Hello, ' + \"world!\")"
      ]
    },
    {
      "cell_type": "markdown",
      "source": [
        "Hello!Hello!Hello!"
      ],
      "metadata": {
        "id": "R78XrpNUX0CI"
      }
    },
    {
      "cell_type": "code",
      "source": [
        "print('Hello!' * 3)"
      ],
      "metadata": {
        "colab": {
          "base_uri": "https://localhost:8080/"
        },
        "id": "QjtC2V-IXzmn",
        "outputId": "3048d42f-27d2-4d83-ebac-eb1d556a2939"
      },
      "execution_count": null,
      "outputs": [
        {
          "output_type": "stream",
          "name": "stdout",
          "text": [
            "Hello!Hello!Hello!\n"
          ]
        }
      ]
    },
    {
      "cell_type": "markdown",
      "source": [],
      "metadata": {
        "id": "9cizWlWxX9sB"
      }
    },
    {
      "cell_type": "code",
      "source": [
        "\"\" * 10000000000"
      ],
      "metadata": {
        "colab": {
          "base_uri": "https://localhost:8080/",
          "height": 35
        },
        "id": "OE_2_UUeX9XQ",
        "outputId": "c2159593-05e5-4701-eae1-b3768f595695"
      },
      "execution_count": null,
      "outputs": [
        {
          "output_type": "execute_result",
          "data": {
            "text/plain": [
              "''"
            ],
            "application/vnd.google.colaboratory.intrinsic+json": {
              "type": "string"
            }
          },
          "metadata": {},
          "execution_count": 155
        }
      ]
    },
    {
      "cell_type": "markdown",
      "source": [
        "\"42\" because we are appending two characters"
      ],
      "metadata": {
        "id": "68n75-wfYWHo"
      }
    },
    {
      "cell_type": "code",
      "source": [
        "'4' + '2'"
      ],
      "metadata": {
        "colab": {
          "base_uri": "https://localhost:8080/",
          "height": 35
        },
        "id": "bcJiMo8YX9_h",
        "outputId": "af0d66d0-38a6-4149-f7a9-d9c9d2fd8f68"
      },
      "execution_count": null,
      "outputs": [
        {
          "output_type": "execute_result",
          "data": {
            "text/plain": [
              "'42'"
            ],
            "application/vnd.google.colaboratory.intrinsic+json": {
              "type": "string"
            }
          },
          "metadata": {},
          "execution_count": 156
        }
      ]
    },
    {
      "cell_type": "code",
      "source": [],
      "metadata": {
        "id": "TQZg8maRX-F4"
      },
      "execution_count": null,
      "outputs": []
    },
    {
      "cell_type": "markdown",
      "source": [],
      "metadata": {
        "id": "gnP8kICQX-dY"
      }
    },
    {
      "cell_type": "markdown",
      "source": [],
      "metadata": {
        "id": "blD-SAOnXgVX"
      }
    },
    {
      "cell_type": "markdown",
      "metadata": {
        "id": "Lnl0VdRHVNyR"
      },
      "source": [
        "## Exercise 5\n",
        "\n",
        "Predict whether Python will print True or False before you type the following expressions.\n",
        "\n",
        "1. 1 > 2 or 2 > 1\n",
        "2. 1 > 2 or not 2 > 1\n",
        "3. not True\n",
        "4. 1 > 2 or True"
      ]
    },
    {
      "cell_type": "markdown",
      "source": [
        "All these are boolean expressions \n",
        "\n",
        "1 > 2 or 2 > 1  false or true True\n",
        "1 > 2 or not 2 > 1 false or not true  False\n",
        "not True  False\n",
        "1 > 2 or True  false or true True"
      ],
      "metadata": {
        "id": "8vpnsk9hYqkI"
      }
    },
    {
      "cell_type": "code",
      "execution_count": null,
      "metadata": {
        "id": "J7vi30KeVNyS",
        "colab": {
          "base_uri": "https://localhost:8080/"
        },
        "outputId": "4f58de30-2a18-4fb7-80a7-db74dc86bc06"
      },
      "outputs": [
        {
          "output_type": "execute_result",
          "data": {
            "text/plain": [
              "True"
            ]
          },
          "metadata": {},
          "execution_count": 157
        }
      ],
      "source": [
        "1 > 2 or 2 > 1\n",
        "\n"
      ]
    },
    {
      "cell_type": "code",
      "source": [
        "1 > 2 or not 2 > 1"
      ],
      "metadata": {
        "colab": {
          "base_uri": "https://localhost:8080/"
        },
        "id": "262KeKwPYj9p",
        "outputId": "b024d329-abda-4010-b034-1866e2d7c33f"
      },
      "execution_count": null,
      "outputs": [
        {
          "output_type": "execute_result",
          "data": {
            "text/plain": [
              "False"
            ]
          },
          "metadata": {},
          "execution_count": 158
        }
      ]
    },
    {
      "cell_type": "code",
      "source": [
        "not True"
      ],
      "metadata": {
        "colab": {
          "base_uri": "https://localhost:8080/"
        },
        "id": "r1F4dUe3YkFA",
        "outputId": "31063b8d-1115-4aa1-8f76-980f75902211"
      },
      "execution_count": null,
      "outputs": [
        {
          "output_type": "execute_result",
          "data": {
            "text/plain": [
              "False"
            ]
          },
          "metadata": {},
          "execution_count": 159
        }
      ]
    },
    {
      "cell_type": "code",
      "source": [
        "1 > 2 or True"
      ],
      "metadata": {
        "colab": {
          "base_uri": "https://localhost:8080/"
        },
        "id": "lphxHplfYkLh",
        "outputId": "0428c39a-816f-43b4-eda7-2e7a023e0707"
      },
      "execution_count": null,
      "outputs": [
        {
          "output_type": "execute_result",
          "data": {
            "text/plain": [
              "True"
            ]
          },
          "metadata": {},
          "execution_count": 160
        }
      ]
    },
    {
      "cell_type": "code",
      "source": [],
      "metadata": {
        "id": "3XLN99bKYkSp"
      },
      "execution_count": null,
      "outputs": []
    },
    {
      "cell_type": "markdown",
      "metadata": {
        "id": "kIcNicuSVNyS"
      },
      "source": [
        "## Exercise 6\n",
        "\n",
        "Write the if, elif, else statements to process a score between 0.0 and 1.0. If the score is out of range, print an error message. If the score is between 0.0 and 1.0, print the grade using the following table:\n",
        "\n",
        "| Score | Grade |\n",
        "| ----- | ----- |\n",
        "| $\\geq$ 0.9 | A |\n",
        "| $\\geq$ 0.8 | B |\n",
        "| $\\geq$ 0.7 | C |\n",
        "| $\\geq$ 0.6 | D |\n",
        "| $<$ 0.6 | F |"
      ]
    },
    {
      "cell_type": "code",
      "execution_count": null,
      "metadata": {
        "id": "5r9OdzGVVNyS"
      },
      "outputs": [],
      "source": [
        "score = 0.72"
      ]
    },
    {
      "cell_type": "code",
      "execution_count": null,
      "metadata": {
        "id": "Ff9Gvc4tVNyT",
        "outputId": "fbd7cc7f-dfe1-4c30-9e75-b1d133b6b4d5",
        "colab": {
          "base_uri": "https://localhost:8080/"
        }
      },
      "outputs": [
        {
          "output_type": "stream",
          "name": "stdout",
          "text": [
            "Grade = C\n"
          ]
        }
      ],
      "source": [
        "# Delete the example if and else, then write code here\n",
        "\n",
        "\"\"\"\n",
        "In this program i m using functions , try except blocks. and also sys module just using my previous programming knowledge\n",
        "\n",
        "\n",
        "\"\"\"\n",
        "import sys\n",
        "def grade(score):\n",
        "\n",
        "  try:\n",
        "    if score >= 0.0 and score <=1.0 :\n",
        "      if score >= 0.9:\n",
        "        return f\"A\"\n",
        "      elif score >= 0.8:\n",
        "        return f\"B\"\n",
        "      elif score >= 0.7:\n",
        "        return f\"C\"\n",
        "      elif score >= 0.6:\n",
        "        return f\"D\"\n",
        "      elif score < 0.6:\n",
        "        return f\"F\"\n",
        "    else:\n",
        "      return f\"Invalid score\"\n",
        "  except:\n",
        "    sys.exit(\"exiting\")\n",
        "\n",
        "if __name__ == \"__main__\":\n",
        " Grade = grade(score)\n",
        " print(f\"Grade = {Grade}\")\n",
        "\n",
        "\n"
      ]
    }
  ],
  "metadata": {
    "kernelspec": {
      "display_name": "Python 3",
      "language": "python",
      "name": "python3"
    },
    "language_info": {
      "codemirror_mode": {
        "name": "ipython",
        "version": 3
      },
      "file_extension": ".py",
      "mimetype": "text/x-python",
      "name": "python",
      "nbconvert_exporter": "python",
      "pygments_lexer": "ipython3",
      "version": "3.8.3"
    },
    "colab": {
      "name": "saran_001-Lab (2) .ipynb",
      "provenance": []
    }
  },
  "nbformat": 4,
  "nbformat_minor": 0
}