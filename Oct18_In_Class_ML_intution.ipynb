{
  "cells": [
    {
      "cell_type": "markdown",
      "metadata": {
        "id": "view-in-github",
        "colab_type": "text"
      },
      "source": [
        "<a href=\"https://colab.research.google.com/github/sarannetworkprogammer/Data_foundations/blob/main/Oct18_In_Class_ML_intution.ipynb\" target=\"_parent\"><img src=\"https://colab.research.google.com/assets/colab-badge.svg\" alt=\"Open In Colab\"/></a>"
      ]
    },
    {
      "cell_type": "markdown",
      "id": "5cece3aa-d6c3-44e8-aa20-8c97bc8dec79",
      "metadata": {
        "id": "5cece3aa-d6c3-44e8-aa20-8c97bc8dec79"
      },
      "source": [
        "# NOTES"
      ]
    },
    {
      "cell_type": "code",
      "execution_count": null,
      "id": "f3739446-2efb-404e-a57d-ee65315f99f5",
      "metadata": {
        "id": "f3739446-2efb-404e-a57d-ee65315f99f5"
      },
      "outputs": [],
      "source": [
        "\"\"\"\n",
        "\n",
        "\n",
        "# Questions?\n",
        "\n",
        "# Supervised Machine Learning\n",
        "\n",
        "# Data Annotation\n",
        "\n",
        "\"\"\"\n",
        "this is great --->pos, neg\n",
        "\n",
        "this is terrible --------> p\n",
        "\n",
        "\n",
        "\"\"\"\n",
        "\n",
        "# potiential quality  of the data\n",
        "\n",
        "# Agreement\n",
        "\n",
        "# cohens kappa,\n",
        "\n",
        "# observed agreement,  No of two annotators aggreeed divided by total number of things they annotated\n",
        "\n",
        "Po = 3/4\n",
        "\n",
        "\n",
        "# expected agreement: \n",
        "\n",
        "\n",
        "\n",
        "\n",
        "\n",
        "\n",
        "\n",
        "\n",
        "\n",
        "\n",
        "# Fleiss kappa\n",
        "\n",
        "# Observed Agreement\n",
        "\n",
        "# Kappa(s)\n",
        "\n",
        "\n",
        "is it classification problem \n",
        "\n",
        "\n",
        "\"\"\""
      ]
    },
    {
      "cell_type": "markdown",
      "id": "f35a1d34-7069-436f-8e10-9d701de604aa",
      "metadata": {
        "id": "f35a1d34-7069-436f-8e10-9d701de604aa"
      },
      "source": [
        "# Exercise 1: Machine Learning Intuition\n",
        "\n",
        "A well-known application of machine learning is to predict \"customer churn\". Specifically, we want to predict when a customer will \"leave a company\" based on their usage of the service and various customer characteristics. We are going to play with this idea for this task. Specifically, we are going to \"manually\" find the weights to a machine learning algorithm (Logistic Regression) via trial and error. Logistic Regression is defined as\n",
        "$$p = \\frac{1}{1+exp(-\\sum_{i=1}^{i=F} x_i w_i)} = \\frac{1}{1+exp(- [x_1 w_1 + x_2 w_2 + \\cdots + x_F w_F])} $$\n",
        "where $p$ is the prediction, $x_i$ is some user characteristic, e.g., how long a customer has been a customer, and $w_i$ is a weight we will find via trial-and error. The model will generate scores between 0 and 1, thus representing the probaiblity a customer will leave the company within 6 months. A 1 would mean that there is 100\\% probability the customer will leave.\n",
        "\n",
        "**YOUR TASK:** For this exercise, you should **experiment with different weights**. The goal is to find the weights that result in customer 1 receiving a score greater than 0.5 and customer 2 receiving a score less than 0.5. This essentially means that we are predicting customer 1 will leave and customer 2 will not.\n",
        "\n",
        "**NOTE**: In practice we will use automated methods of finding the weights. The methods that find the weights rely on annotated data. But, this exercise is meant to provide intuition of what the models will do.\n",
        "\n",
        "Also, if your group finishes quickly, try to see if you can get customer 1 very close to 1 and customer 2 very close to 0.\n",
        "\n",
        "**TIME:** 15 minutes"
      ]
    },
    {
      "cell_type": "code",
      "execution_count": null,
      "id": "2c02589d-7ef2-43ad-a855-e853c361537e",
      "metadata": {
        "id": "2c02589d-7ef2-43ad-a855-e853c361537e"
      },
      "outputs": [],
      "source": [
        "# DO NOT MODIFY THIS CELL\n",
        "import math\n",
        "def logistic_regression(features, weights):\n",
        "    score = 0\n",
        "    for xi, wi in zip(features, weights):\n",
        "        score += xi * wi\n",
        "    return 1/(1+math.exp(-score))"
      ]
    },
    {
      "cell_type": "code",
      "execution_count": null,
      "id": "0b97b1a3-5f9e-400e-97be-9784bb4a0e86",
      "metadata": {
        "id": "0b97b1a3-5f9e-400e-97be-9784bb4a0e86"
      },
      "outputs": [],
      "source": [
        "# EDIT THE WEIGHTS HERE. Each weight can be anything from -100000 to +100000.\n",
        "# You can also use floating point weights, e.g., -.001, -100.2, .32, 42.42, ...\n",
        "    \n",
        "weights = [0, # Weight 1 = Credit score of the customer\n",
        "           0, # Weight 2 = Number of months the customer has stayed with the company\n",
        "           0, # Weight 3 = Whether the customer has a phone service or not (Yes = 1, No = 0)\n",
        "           0, # Weight 4 = Whether the customer has a multiple phone lines or not (Yes = 1, No = 0) \n",
        "           -.5, # Weight 5 = Whether the customer has a internet service or not (Yes = 1, No = 0)\n",
        "           0  # Weight 6 = Whether the customer is a senior citizen  (Yes = 1, No = 0)\n",
        "          ]"
      ]
    },
    {
      "cell_type": "code",
      "execution_count": null,
      "id": "efed9a17-557c-4000-8391-30e7d1e51d41",
      "metadata": {
        "colab": {
          "base_uri": "https://localhost:8080/"
        },
        "id": "efed9a17-557c-4000-8391-30e7d1e51d41",
        "outputId": "5f2a1361-7978-4b13-a456-722b3afcdddc"
      },
      "outputs": [
        {
          "output_type": "stream",
          "name": "stdout",
          "text": [
            "Customer 1 Score: 0.378\n",
            "Customer 2 Score: 0.378\n"
          ]
        }
      ],
      "source": [
        "# DO NOT MODIFY THIS CELL\n",
        "import math\n",
        "\n",
        "# Customer 1\n",
        "credit_score = 800 # Credit score of the customer\n",
        "tenure = 74 # Number of months the customer has stayed with the company\n",
        "phone_service = 1 # Whether the customer has a phone service or not (Yes = 1, No = 0)\n",
        "multiple_lines = 1 # Whether the customer has a multiple phone lines or not (Yes = 1, No = 0) \n",
        "internet_service = 1 # Whether the customer has a internet service or not (Yes = 1, No = 0)\n",
        "senior_citizen = 1 # Whether the customer is a senior citizen  (Yes = 1, No = 0)\n",
        "\n",
        "\n",
        "customer_1_features = [credit_score, tenure, phone_service, multiple_lines, internet_service, senior_citizen]\n",
        "customer_1_score = logistic_regression(customer_1_features, weights)\n",
        "print(f\"Customer 1 Score: {customer_1_score:.3f}\")\n",
        "\n",
        "##################################\n",
        "# Customer 2\n",
        "\n",
        "credit_score = 500 # Credit score of the customer\n",
        "tenure = 18 # Number of months the customer has stayed with the company\n",
        "phone_service = 0 # Whether the customer has a phone service or not (Yes = 1, No = 0)\n",
        "multiple_lines = 0 # Whether the customer has a multiple phone lines or not (Yes = 1, No = 0) \n",
        "internet_service = 1 # Whether the customer has a internet service or not (Yes = 1, No = 0)\n",
        "senior_citizen = 0 # Whether the customer is a senior citizen  (Yes = 1, No = 0)\n",
        "\n",
        "customer_2_features = [credit_score, tenure, phone_service, multiple_lines, internet_service, senior_citizen]\n",
        "customer_2_score = logistic_regression(customer_2_features, weights)\n",
        "print(f\"Customer 2 Score: {customer_2_score:.3f}\")"
      ]
    },
    {
      "cell_type": "markdown",
      "id": "7ea4d036-cfe0-45e6-a868-107f32386b75",
      "metadata": {
        "id": "7ea4d036-cfe0-45e6-a868-107f32386b75"
      },
      "source": [
        "# Exercise 2: Agreement Intuition\n",
        "\n",
        "The goal for this task is to gain intuition about agreement scores. Assume you had pictures of chicken and dogs annotated by two people. They annotated the same 10 images. Here the annotaions for each anontator are in the lists ```annotator1``` and ```annotator2```, respectively. Each item in each list represents the annotators \"annotation\" for an image. We will assume that the images were ordered exactly the same for both lists, i.e., we assume ```annotator1[0]``` and ```annotator2[0]``` are the annotators for the same image.\n",
        "\n",
        "**YOUR TASK:** You should complete the following tasks:\n",
        "\n",
        "1. Modify the annotations of annotator1 and annotator2 so the observed agreement is very high (close to 1) and the kappa score is close to zero or exactly zero.\n",
        "2. Modify the annotators so both the observed agreement and kappa scores are equal to one.\n",
        "2. Modify the annotations so both the observed agreement and kappa scores are equal to zero.\n",
        "\n",
        "**TIME:** 10 minutes"
      ]
    },
    {
      "cell_type": "code",
      "execution_count": null,
      "id": "22fa193f-f3fb-4d96-8455-c43f100f09ea",
      "metadata": {
        "id": "22fa193f-f3fb-4d96-8455-c43f100f09ea"
      },
      "outputs": [],
      "source": [
        "# DO NOT MODIFY THIS CELL\n",
        "\n",
        "from sklearn.metrics import cohen_kappa_score\n",
        "\n",
        "def observed_agreement(annotator_1, annotator_2):\n",
        "    return len([x for x,y in zip(annotator_1, annotator_2) if x == y])/len(annotator_1)"
      ]
    },
    {
      "cell_type": "code",
      "execution_count": null,
      "id": "0a436db6-9955-42e8-a8bd-2f718fc43db9",
      "metadata": {
        "id": "0a436db6-9955-42e8-a8bd-2f718fc43db9",
        "outputId": "6180ed34-1256-4c0e-e559-e13a712c7311"
      },
      "outputs": [
        {
          "name": "stdout",
          "output_type": "stream",
          "text": [
            "Cohen's Kappa: 0.5833\n",
            "Observed Agreement: 0.8000\n"
          ]
        }
      ],
      "source": [
        "# EDIT THE TWO LISTS BELOW FOR THIS EXERCISE\n",
        "\n",
        "# Here we assume annotator1[0] and annotator2[0] are the annotators for the same image.\n",
        "annotator1 = [\"chicken\",\"chicken\",\"dog\",\"chicken\",\"chicken\",\"dog\",\"dog\",\"dog\",\"dog\",\"dog\"]\n",
        "annotator2 = [\"chicken\",\"chicken\",\"chicken\",\"dog\",\"chicken\",\"dog\",\"dog\",\"dog\",\"dog\",\"dog\"]\n",
        "\n",
        "print(f\"Cohen's Kappa: {cohen_kappa_score(annotator1, annotator2):.4f}\")\n",
        "print(f\"Observed Agreement: {observed_agreement(annotator1, annotator2):.4f}\")"
      ]
    },
    {
      "cell_type": "markdown",
      "id": "ae6119f8-34a8-4937-a5b2-145eb92227e8",
      "metadata": {
        "id": "ae6119f8-34a8-4937-a5b2-145eb92227e8"
      },
      "source": [
        "# Exercise 3: Fun Annotation Practice\n",
        "\n",
        "1. As a group, come up with a set of instructions for annotating tweets for Sentiment, Sarcasm, or Offensive Langauge. I will assign the tasks to each group. You will just have two classes, e.g., \"Not Sarcastic\" and \"Sarcastic\", \"Positive\" and \"Negative\", or \"Offensive\" and \"Not Offensive\".\n",
        "    1. You should give a definition about what is \"Sarcasm\", \"Sentiment\", or \"Offensive Language\". \n",
        "    2. You should give atleast three examples of each class, e.g., three for \"Sarcastic\" and three for \"Not Sarcastic\". You should NOT use examples directly from the corresponding text files (those are for annotation). You must create them using your imagination.\n",
        "2. You will now share instructions across different groups. You can just post on Slack in the Lab Questions section. Other groups will share their instructions with you. You will now annotate tweets based on their instructions.\n",
        "    1. I recommend creating a .txt file where one line contains one anntoation in the same order as the provided file.\n",
        "3. Now, grab two annotators responses and calucalte cohen's kappa. Are the annotations \"good\"? Were there any misunderstanding? Describe your findings.\n",
        "\n",
        "**TIME:** 30+ minutes. We probably won't get to item 3 in class. But that is okay. :) \n",
        "\n"
      ]
    },
    {
      "cell_type": "code",
      "execution_count": null,
      "id": "1d661576-8c52-4483-9f4d-48b0f9ccc152",
      "metadata": {
        "id": "1d661576-8c52-4483-9f4d-48b0f9ccc152"
      },
      "outputs": [],
      "source": []
    }
  ],
  "metadata": {
    "kernelspec": {
      "display_name": "Python 3 (ipykernel)",
      "language": "python",
      "name": "python3"
    },
    "language_info": {
      "codemirror_mode": {
        "name": "ipython",
        "version": 3
      },
      "file_extension": ".py",
      "mimetype": "text/x-python",
      "name": "python",
      "nbconvert_exporter": "python",
      "pygments_lexer": "ipython3",
      "version": "3.8.12"
    },
    "colab": {
      "provenance": [],
      "include_colab_link": true
    }
  },
  "nbformat": 4,
  "nbformat_minor": 5
}