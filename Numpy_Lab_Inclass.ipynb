{
  "cells": [
    {
      "cell_type": "markdown",
      "metadata": {
        "id": "view-in-github",
        "colab_type": "text"
      },
      "source": [
        "<a href=\"https://colab.research.google.com/github/sarannetworkprogammer/Data_foundations/blob/main/Numpy_Lab_Inclass.ipynb\" target=\"_parent\"><img src=\"https://colab.research.google.com/assets/colab-badge.svg\" alt=\"Open In Colab\"/></a>"
      ]
    },
    {
      "cell_type": "code",
      "execution_count": null,
      "id": "5d7a6edc-437b-4463-bc98-52d2d3848066",
      "metadata": {
        "id": "5d7a6edc-437b-4463-bc98-52d2d3848066"
      },
      "outputs": [],
      "source": [
        "# QUESTIONS?\n",
        "\n",
        "# Features\n",
        "\n",
        "\"\"\"\n",
        "\n",
        "Goal Defines functiton that takes some x as input and predicts some y\n",
        "\n",
        "PS2 Rule based system \n",
        "\n",
        "To learn f(x) automatically from data.\n",
        "\n",
        "what is X , ?  before machine learning algorithm , x must be matrix, transform the \n",
        "\n",
        "Most complex rules \n",
        "\n",
        "\n",
        "X can be\n",
        "\n",
        "numerical value\n",
        "Yes or no { binary}\n",
        "Categorical(data)\n",
        "Text \n",
        "image\n",
        "\n",
        "\n",
        "multi hot-encoding = [1,1,0]\n",
        "\n",
        "\n",
        " ,  Task A in Data foundations\n",
        "\n",
        "how many hours did they study each week ? 3h rs \n",
        "\n",
        "what is their Gpa{1,2,3,4 } ordinal number3 -[1,0,0,0]\n",
        "\n",
        "shoe size , can be small , medium large \n",
        "\n",
        "what is the difference between nominal and ordinal ( type of attributes )\n",
        "\n",
        "features  = 9 ( )\n",
        "\n",
        "what is max columns standard regression models , no of subjects , no of feautres (columns)\n",
        "\n",
        "Regularization : howm many features \n",
        "\n",
        "Evaluate the model , \n",
        "\n",
        "\n",
        "\"\"\"\n",
        "\n",
        "# Machine Learining -> f(x) = y, question: What is x?\n",
        "\n",
        "# Example 1: Customer Churn (e.g., predict when a customer will stop being a customer at a bank)\n",
        "\n",
        "\"\"\"\n",
        "features \n",
        "\n",
        "where do they live( categorical)\n",
        "credit score (number)\n",
        "How long have they been customer at this bank\n",
        "Have they reffered someone in past\n",
        "\n",
        "\n",
        "is there a big event? big spurs game ? binary \n",
        "\n",
        "population of the city ? Number\n",
        "\n",
        "How many people actual use the the service last weekend ? Number\n",
        "\n",
        "how many used is serv last year \n",
        "\n",
        "\n",
        "\"\"\"\n",
        "\n",
        "\n",
        "## Features\n",
        "\n",
        "# Example 2: Forecasting (e.g., predict uber usage at a given time in a given city)\n",
        "\n",
        "## Features\n",
        "\n",
        "# Example 3: General Prediction: Predict how fast someone will run a 5k race.\n",
        "\n",
        "## Features"
      ]
    },
    {
      "cell_type": "code",
      "source": [
        "import numpy as np\n",
        "\n",
        "np.array([1,2,3])"
      ],
      "metadata": {
        "colab": {
          "base_uri": "https://localhost:8080/"
        },
        "id": "doqPCQndtxDo",
        "outputId": "fed59911-9e73-4a47-f62d-2aee28d2bdc5"
      },
      "id": "doqPCQndtxDo",
      "execution_count": 1,
      "outputs": [
        {
          "output_type": "execute_result",
          "data": {
            "text/plain": [
              "array([1, 2, 3])"
            ]
          },
          "metadata": {},
          "execution_count": 1
        }
      ]
    },
    {
      "cell_type": "code",
      "execution_count": 6,
      "id": "97b8fa2c-a3dc-4ac0-bd26-90876da04589",
      "metadata": {
        "colab": {
          "base_uri": "https://localhost:8080/"
        },
        "id": "97b8fa2c-a3dc-4ac0-bd26-90876da04589",
        "outputId": "c3af101f-3731-4d3d-d14f-54199e02f7ed"
      },
      "outputs": [
        {
          "output_type": "stream",
          "name": "stdout",
          "text": [
            "[1 2 3]\n",
            "6\n",
            "2.0\n",
            "1\n",
            "[10.5 20.5]\n",
            "[ 5. 10.]\n",
            "15.0\n",
            "[20]\n"
          ]
        }
      ],
      "source": [
        "# Numpy\n",
        "\n",
        "import numpy as np\n",
        "\n",
        "# Vectors\n",
        "\n",
        "my_array = np.array([1,2,3])\n",
        "\n",
        "print(my_array)\n",
        "\n",
        "## Creating\n",
        "\n",
        "## Get Size\n",
        "\n",
        "\n",
        "## Sum/Average\n",
        "\n",
        "print(my_array.sum())\n",
        "\n",
        "print(my_array.mean())\n",
        "\n",
        "print(my_array.min())\n",
        "\n",
        "\n",
        "\n",
        "## Addition/Subtraction\n",
        "\n",
        "\n",
        "coef = np.array([0.5,0.5])\n",
        "\n",
        "feats = np.array([10,20])\n",
        "\n",
        "\n",
        "print(coef + feats)\n",
        "\n",
        "print(coef*feats)\n",
        "\n",
        "print(feats.dot(coef))\n",
        "\n",
        "\n",
        "## Fancy indexing\n",
        "\n",
        "print(feats[feats > 15])\n",
        "\n",
        "\n",
        "\n",
        "\n",
        "\n",
        "\n",
        "## Dot (inner) product\n",
        "\n",
        "## Arggggggg (argmax)\n",
        "\n",
        "\n",
        "matrix = np.array([[1,2,3],[4,5,6]])\n",
        "\n",
        "print(matrix.shape)\n",
        "\n",
        "\n",
        "matrix.max(axis=1)  # 1 indicates rows, 0 indicates columns it gives the max value\n",
        "\n",
        "\n",
        "\n",
        "\n",
        "\n",
        "\n",
        "\n",
        "# Matricies\n",
        "\n",
        "## Similar operations as Vectors\n"
      ]
    },
    {
      "cell_type": "code",
      "source": [
        "\n",
        "\n",
        "\n",
        "\n"
      ],
      "metadata": {
        "id": "TnvyEj0_32pJ"
      },
      "id": "TnvyEj0_32pJ",
      "execution_count": null,
      "outputs": []
    },
    {
      "cell_type": "code",
      "source": [
        "my_array = np.array([[1,2,3]])   ## using two brackets it is a matrix\n",
        "\n",
        "my_array.shape"
      ],
      "metadata": {
        "colab": {
          "base_uri": "https://localhost:8080/"
        },
        "id": "YxU2Oyc01a0i",
        "outputId": "5c5f9076-0794-4061-cb45-a34496a33731"
      },
      "id": "YxU2Oyc01a0i",
      "execution_count": 4,
      "outputs": [
        {
          "output_type": "execute_result",
          "data": {
            "text/plain": [
              "(1, 3)"
            ]
          },
          "metadata": {},
          "execution_count": 4
        }
      ]
    },
    {
      "cell_type": "markdown",
      "id": "9e8906c5-5414-428e-93e9-ab2b5bcac800",
      "metadata": {
        "id": "9e8906c5-5414-428e-93e9-ab2b5bcac800"
      },
      "source": [
        "# Exercise 1\n",
        "\n",
        "For this exercise you get to use your imagination. Think of three potential \"predictive tasks\" (i.e., applications of machine learning). Then, for each task, come up with at least 5 features that are useful for the task. Then, for each feature, think about what type of feature it would be (boolean, Numeric, Ordinal, Categorical, multi-category, etc.) See the example below:\n",
        "\n",
        "**TASK 1**: Predict customer churn at Facebook (i..e, predicting yes or no if a user will delete their account in the next 6 months)\n",
        "\n",
        "**Features for Task 1**:\n",
        "1. How often have they logged into Facebook in the last month?\n",
        "    1. Numeric, e.g., 7 days\n",
        "2. How many comments have they made in the last month?\n",
        "    1. Numeric, e.g., 24 comments\n",
        "3. How many likes have they given in the last month?\n",
        "    1. Numeric, e.g., 120 likes\n",
        "4. How many friends does the user have?\n",
        "    1. Numeric, e.g., 1 friend\n",
        "5. What is the longest period of inactivity of the user since creating an account?\n",
        "    1. Numeric, e.g., 92 days\n",
        "6. What is the age of the user?\n",
        "    1. Numeric, e.g., 50 years old\n",
        "7. Is the user a \"verified account\"?\n",
        "    1. boolean, e.g., \"yes\" or \"no\"\n",
        "    \n",
        "**TIME:** 15 minutes"
      ]
    },
    {
      "cell_type": "markdown",
      "source": [
        "3 predictive tasks \n",
        "\n",
        "How much package I will  get after masters\n",
        "\n",
        "what is my major --[ cateogorical]\n",
        "\n",
        "How many certifications i have [ ] numerical \n",
        "\n",
        "how many research papers published [] numerical\n",
        "\n",
        "Does this masters eligible for this job or not  boolean data\n",
        "\n",
        "what\n",
        "\n",
        "\n",
        "\n",
        "what is my Final Gpa at the end of graduation\n",
        "\n",
        "How many subjects that I TOOK Numerical data\n",
        "\n",
        "what are my grades in each subject : cateogorical data\n",
        "\n",
        "\n",
        "what is my overall subject performance Good or bad , binary classification or \n",
        "\n",
        "\n",
        "\n",
        "\n",
        "\n",
        "\n",
        "Predict house price\n",
        "\n",
        "size of land  : numerical\n",
        "how many bed rooms  : numerical\n",
        "Is It country side or in City  yes or no binary classification\n",
        "How much far from city centre   Numerical\n",
        "which color of the house : cateogroical nominal\n",
        "how manyspaces in parking garadge : numerical\n",
        "is swiming pool is included or not : binary yes or not\n",
        "\n",
        "\n",
        "\n",
        "\n"
      ],
      "metadata": {
        "id": "uUhvZXnO4k6V"
      },
      "id": "uUhvZXnO4k6V"
    },
    {
      "cell_type": "code",
      "execution_count": null,
      "id": "a18509f5-db6d-4015-952e-a7c189056988",
      "metadata": {
        "id": "a18509f5-db6d-4015-952e-a7c189056988"
      },
      "outputs": [],
      "source": []
    },
    {
      "cell_type": "markdown",
      "id": "8ddb59ca-33cd-4f95-a3de-ca7a89dd40a9",
      "metadata": {
        "id": "8ddb59ca-33cd-4f95-a3de-ca7a89dd40a9"
      },
      "source": [
        "# Exercise 2\n",
        "\n",
        "You have a dataset containg test grades for each student in a 5th grade class. There were 3 tests in the course. Using the matrix\n",
        "\n",
        "**YOUR TASK**: The matrix ```grades``` has 3 columns and 20 rows. Using this matrix, complete the following tasks:\n",
        "\n",
        "1. What is the max test grade for each test? HINT: Use \".max(axis=0)\".\n",
        "2. Which row (user) contains the max test grade for each test? i.e., find the user with the max test grade for each test. HINT: First, select a column, then use \".argmax()\".\n",
        "2. Which user (row) had the highest average grade? HINT: First, calculate use \".mean(axis=1)\", then use \".argmax()\"\n",
        "3. Find how many students achived an average score greater than 50. HINT: Calculate average (.mean(axis=1)), then use \"fancy indexing\" to find scores > 50. \n",
        "4. The students performed terribly on each test. Unfortunately, for the students, you (the teacher) are in a bad mood. Instead of curving the students grade up in the class, you want to reduce the students grade by 10\\% for not listening to your instruction. HINT: You should use \"matrix subtraction\" combined with \"scalar-matrix\" multiplication, i.e., X = A - A*b\n",
        "\n",
        "**TIME**: 15 minutes"
      ]
    },
    {
      "cell_type": "code",
      "execution_count": null,
      "id": "e9cb7063-2c3e-4c66-a471-9bba83369e46",
      "metadata": {
        "id": "e9cb7063-2c3e-4c66-a471-9bba83369e46"
      },
      "outputs": [],
      "source": [
        "import numpy as np\n",
        "\n",
        "grades = np.array([[66, 63, 40],\n",
        "       [65, 32, 28],\n",
        "       [47, 43, 69],\n",
        "       [51, 40, 30],\n",
        "       [39, 32, 60],\n",
        "       [32, 49, 67],\n",
        "       [61, 63, 63],\n",
        "       [45, 39, 29],\n",
        "       [35, 64, 36],\n",
        "       [47, 55, 61],\n",
        "       [34, 21, 40],\n",
        "       [29, 33, 21],\n",
        "       [58, 65, 27],\n",
        "       [44, 57, 40],\n",
        "       [47, 68, 23],\n",
        "       [23, 68, 62],\n",
        "       [22, 33, 31],\n",
        "       [62, 57, 27],\n",
        "       [46, 37, 29],\n",
        "       [35, 62, 25]])"
      ]
    },
    {
      "cell_type": "markdown",
      "id": "612b5273-c6f3-477e-9eb3-d83b49860bec",
      "metadata": {
        "id": "612b5273-c6f3-477e-9eb3-d83b49860bec"
      },
      "source": [
        "# Exercise 3\n",
        "\n",
        "Linear regression is fundamental to many areas of data science, including machine learning. Linear regression is defined as\n",
        "$$ y = \\sum_{i=1}^F x_i c_i $$\n",
        "where $x_i$ is a feature and $c_i$ is a learned coefficient. Intuitively, this is making a prediction for a single instance. We can expand this to many examples in a dataset. This expansion can be rewritten using matricies and vectors as\n",
        "$$ \\mathbf{y} = \\mathbf{X} \\mathbf{c}$$\n",
        "where $\\mathbf{X}$ is a matrix with $N$ rows and $k$ columns, and $\\mathbf{c}$ is a vector with $k$ elements. Building on Exercise 2, the rows of $\\mathbf{X}$ represent students and the columns represent tests. We are going to play with the weights of $\\mathbf{c}$ to gain intuition of what is happening.\n",
        "\n",
        "Assume that the 3 tests each student has taken are going to be used to predict what they will get on the final exam. We are going to play with the weights to gain intuition about about linear regression.\n",
        "\n",
        "**YOUR TASK:** Modify the variable ```weights``` to accomplish the following tasks:\n",
        "1. Modify the weights such that the final exam score prediction is equal to their last exam (i.e., the last column of ```grades```).\n",
        "2. Modify the weights such that all students have a score greater than 100.\n",
        "3. Modify the weights such that all students have a score less than -100.\n",
        "4. Modify the weights such that all students have predicted grad of 0.\n",
        "\n",
        "**TIME**: Remainder of class."
      ]
    },
    {
      "cell_type": "code",
      "execution_count": null,
      "id": "203d6d91-b456-47c5-a389-050a9fa96248",
      "metadata": {
        "id": "203d6d91-b456-47c5-a389-050a9fa96248"
      },
      "outputs": [],
      "source": [
        "weights = np.array([.3333, .3333, .3333]) # MODIFY THE WEIGHTS HERE"
      ]
    },
    {
      "cell_type": "code",
      "execution_count": null,
      "id": "522625b7-5567-42ee-9313-4ca7412dfd77",
      "metadata": {
        "id": "522625b7-5567-42ee-9313-4ca7412dfd77",
        "outputId": "4c2baed0-5c05-44e7-9f2b-61608fe870e1"
      },
      "outputs": [
        {
          "name": "stdout",
          "output_type": "stream",
          "text": [
            "[56.3277 41.6625 52.9947 40.3293 43.6623 49.3284 62.3271 37.6629 44.9955\n",
            " 54.3279 31.6635 27.6639 49.995  46.9953 45.9954 50.9949 28.6638 48.6618\n",
            " 37.3296 40.6626]\n"
          ]
        }
      ],
      "source": [
        "predictions = grades.dot(weights) # This is the predictions of the linear regression model.\n",
        "print(predictions) # This prints the predictions"
      ]
    },
    {
      "cell_type": "code",
      "execution_count": null,
      "id": "1aacac4d-23f9-4055-aa6a-2a708c781ad6",
      "metadata": {
        "id": "1aacac4d-23f9-4055-aa6a-2a708c781ad6"
      },
      "outputs": [],
      "source": []
    }
  ],
  "metadata": {
    "kernelspec": {
      "display_name": "Python 3 (ipykernel)",
      "language": "python",
      "name": "python3"
    },
    "language_info": {
      "codemirror_mode": {
        "name": "ipython",
        "version": 3
      },
      "file_extension": ".py",
      "mimetype": "text/x-python",
      "name": "python",
      "nbconvert_exporter": "python",
      "pygments_lexer": "ipython3",
      "version": "3.8.12"
    },
    "colab": {
      "provenance": [],
      "collapsed_sections": [],
      "include_colab_link": true
    }
  },
  "nbformat": 4,
  "nbformat_minor": 5
}