{
  "cells": [
    {
      "cell_type": "markdown",
      "metadata": {
        "id": "view-in-github",
        "colab_type": "text"
      },
      "source": [
        "<a href=\"https://colab.research.google.com/github/sarannetworkprogammer/Data_foundations/blob/main/Week_4_Lab(1).ipynb\" target=\"_parent\"><img src=\"https://colab.research.google.com/assets/colab-badge.svg\" alt=\"Open In Colab\"/></a>"
      ]
    },
    {
      "cell_type": "markdown",
      "metadata": {
        "id": "KQ0lod6Z6yUF"
      },
      "source": [
        "# Python Lab Notebook\n",
        "\n",
        "Blank notebook to be used for class exercises.\n",
        "\n",
        "Name: Malkalapalli Saranchowdary\n",
        "\n",
        "abc123: pkb378"
      ]
    },
    {
      "cell_type": "code",
      "source": [
        "from google.colab import drive\n",
        "drive.mount('/content/drive')"
      ],
      "metadata": {
        "colab": {
          "base_uri": "https://localhost:8080/"
        },
        "id": "_6_mE3D_65AV",
        "outputId": "1f9c9dae-c767-42d7-a2cc-9b1377fdd02e"
      },
      "execution_count": null,
      "outputs": [
        {
          "output_type": "stream",
          "name": "stdout",
          "text": [
            "Drive already mounted at /content/drive; to attempt to forcibly remount, call drive.mount(\"/content/drive\", force_remount=True).\n"
          ]
        }
      ]
    },
    {
      "cell_type": "markdown",
      "metadata": {
        "id": "TO2Pq3sA6yUR"
      },
      "source": [
        "## Exercise 1\n",
        "\n",
        "Write code that reads the csv file \"housing_prices.csv\" and calculate/print the following:\n",
        "- Calculate and print the sum of all house prices. Do not use the sum() method\n",
        "- Calculate and print the average price. Do not use any external packages.\n",
        "- Calculate and print the max price (all prices are > 0). Do not use the max() method.\n",
        "- Print the name of the street that contains the house with the most expensive house.\n",
        "\n",
        "The path for the file is \"./house_prices.csv\".\n",
        "\n",
        "**Important Python concepts:** for, lists, open ('r'), if (>)\n",
        "\n",
        "Run the cell below to view the \"house_prices.csv\" file."
      ]
    },
    {
      "cell_type": "code",
      "execution_count": null,
      "metadata": {
        "colab": {
          "base_uri": "https://localhost:8080/"
        },
        "id": "eWO6J-tR6yUU",
        "outputId": "d2fd31c0-3a57-4f4f-c39f-0e1a4553e89f"
      },
      "outputs": [
        {
          "output_type": "stream",
          "name": "stdout",
          "text": [
            "\"street name\",\"square feet\",\"price\"\n",
            "\"Sreet 1\",400,10000\n",
            "\"Street 2\",650,15000\n",
            "\"Street 3\",1000,20000\n",
            "\n"
          ]
        }
      ],
      "source": [
        "with open(\"/content/drive/My Drive/FALL_2022/Data_Foundations/WEEK4/house_prices.csv\") as iFile:\n",
        "    print(iFile.read())"
      ]
    },
    {
      "cell_type": "code",
      "execution_count": null,
      "metadata": {
        "colab": {
          "base_uri": "https://localhost:8080/"
        },
        "id": "SdrHxcn06yUZ",
        "outputId": "1bd07519-1286-44a4-c1e1-054820595aa8"
      },
      "outputs": [
        {
          "output_type": "stream",
          "name": "stdout",
          "text": [
            "10000\n",
            "15000\n",
            "20000\n",
            "sum of all house prices= 45000\n",
            "avg of house price = 15000.0\n",
            "max_price = 20000.0\n",
            "max_house_name = Street 3\n"
          ]
        }
      ],
      "source": [
        "import csv\n",
        "myfile = open(\"/content/drive/My Drive/FALL_2022/Data_Foundations/WEEK4/house_prices.csv\")\n",
        "mycsv = csv.reader(myfile, delimiter=',')\n",
        "next(mycsv)\n",
        "sum_price = 0\n",
        "num_house = 0\n",
        "max_price = 0\n",
        "max_house_name =\"\"\n",
        "\n",
        "for row in mycsv:\n",
        "  print(row[2])\n",
        "  num_house = num_house + 1\n",
        "  sum_price = sum_price + float(row[2])\n",
        "  if max_price < float(row[2]):\n",
        "    max_price = float(row[2])\n",
        "    max_house_name = row[0]\n",
        "# Write code here\n",
        "\n",
        "print(f\"sum of all house prices= {sum}\")\n",
        "print(f\"avg of house price = {sum/num_house}\")\n",
        "print(f\"max_price = {max_price}\")\n",
        "print(f\"max_house_name = {max_house_name}\")\n",
        "myfile.close()"
      ]
    },
    {
      "cell_type": "markdown",
      "metadata": {
        "id": "tHMVTndk6yUb"
      },
      "source": [
        "## Exercise 2\n",
        "\n",
        "Given the following list of lists\n",
        "\n",
        "myData = [['name','department','birthday month'], ['JohnDoe','Marketing','November'],['Jane Smith', 'IT', 'March']]\n",
        "\n",
        "create a csv file that is delimited with the tab ('\\t') character using the csv.writer() method. Name the file \"employee_birthday.csv\"."
      ]
    },
    {
      "cell_type": "code",
      "execution_count": null,
      "metadata": {
        "id": "PzDdxV7L6yUc"
      },
      "outputs": [],
      "source": [
        "myData = [['name','department','birthday month'], ['John Doe','Marketing','November'],['Jane Smith', 'IT', 'March']]"
      ]
    },
    {
      "cell_type": "code",
      "execution_count": null,
      "metadata": {
        "id": "OMiRHGjA6yUd"
      },
      "outputs": [],
      "source": [
        "import csv\n",
        "myfile = open(\"employee_birthday.csv\",\"w\",newline=\"\")\n",
        "csvwriter = csv.writer(myfile, delimiter=\"\\t\")\n",
        "csvwriter.writerow(['name','department','birthday month'])\n",
        "csvwriter.writerow(['John Doe','Marketing','November'])\n",
        "csvwriter.writerow(['Jane Smith', 'IT', 'March'])\n",
        "\n",
        "myfile.close()\n",
        "\n",
        "\n",
        "# write code to write the list of lists above to the CSV file \"employee_birthday.csv\""
      ]
    },
    {
      "cell_type": "markdown",
      "metadata": {
        "id": "xVAEm8Nz6yUe"
      },
      "source": [
        "Run the line below to check your work:"
      ]
    },
    {
      "cell_type": "code",
      "execution_count": null,
      "metadata": {
        "colab": {
          "base_uri": "https://localhost:8080/"
        },
        "id": "CVEBsfWW6yUf",
        "outputId": "b80316a3-fc0a-4ffb-d5d9-62b191a1452f"
      },
      "outputs": [
        {
          "output_type": "stream",
          "name": "stdout",
          "text": [
            "name\tdepartment\tbirthday month\n",
            "John Doe\tMarketing\tNovember\n",
            "Jane Smith\tIT\tMarch\n",
            "\n"
          ]
        }
      ],
      "source": [
        "with open(\"employee_birthday.csv\", \"r\") as inFile:\n",
        "  print(inFile.read())"
      ]
    },
    {
      "cell_type": "markdown",
      "metadata": {
        "id": "6D43vwem6yUh"
      },
      "source": [
        "## Exercise 3\n",
        "\n",
        "A garden center has an XML (plant_catalog.xml) file that stores information, including price, for all plants they sell. The store is having a sale where everything is 20% off. Write a program that that prints the plant \"COMMON\" name, the current price, and the new sale price. An example of what the output should look like is shown below:\n",
        "\n",
        "```\n",
        "Bloodroot $2.44 to $1.95\n",
        "Columbine $9.37 to $7.50\n",
        "Marsh Marigold $6.81 to $5.45\n",
        "...```\n",
        "        \n",
        "File absolute path: \"./plant_catalog.xml\"\n",
        "**Hint:** You will need to use \"string indexing\"."
      ]
    },
    {
      "cell_type": "code",
      "execution_count": null,
      "metadata": {
        "colab": {
          "base_uri": "https://localhost:8080/"
        },
        "id": "HGYRbfH26yUi",
        "outputId": "a3379017-19df-44e0-d59f-6c7216502d8c"
      },
      "outputs": [
        {
          "output_type": "stream",
          "name": "stdout",
          "text": [
            "<?xml version=\"1.0\" encoding=\"UTF-8\"?>\n",
            "<CATALOG>\n",
            "  <PLANT>\n",
            "    <COMMON>Bloodroot</COMMON>\n",
            "    <BOTANICAL>Sanguinaria canadensis</BOTANICAL>\n",
            "    <ZONE>4</ZONE>\n",
            "    <LIGHT>Mostly Shady</LIGHT>\n",
            "    <PRICE>$2.44</PRICE>\n",
            "    <AVAILABILITY>031599</AVAILABILITY>\n",
            "  </PLANT>\n",
            "  <PLANT>\n",
            "    <COMMON>Columbine</COMMON>\n",
            "    <BOTANICAL>Aquilegia canadensis</BOTANICAL>\n",
            "    <ZONE>3</ZONE>\n",
            "    <LIGHT>Mostly Shady</LIGHT>\n",
            "    <PRICE>$9.37</PRICE>\n",
            "    <AVAILABILITY>030699</AVAILABILITY>\n",
            "  </PLANT>\n",
            "  <PLANT>\n",
            "    <COMMON>Marsh Marigold</COMMON>\n",
            "    <BOTANICAL>Caltha palustris</BOTANICAL>\n",
            "    <ZONE>4</ZONE>\n",
            "    <LIGHT>Mostly Sunny</LIGHT>\n",
            "    <PRICE>$6.81</PRICE>\n",
            "    <AVAILABILITY>051799</AVAILABILITY>\n",
            "  </PLANT>\n",
            "\n"
          ]
        }
      ],
      "source": [
        "# Use this code to look at the structure of plant_catalog.xml\n",
        "# n = number of lines to show\n",
        "n = 26\n",
        "with open(\"/content/drive/My Drive/FALL_2022/Data_Foundations/WEEK4/plant_catalog.xml\") as myfile:\n",
        "    head = [next(myfile) for x in range(n)]\n",
        "print(''.join(head))"
      ]
    },
    {
      "cell_type": "code",
      "execution_count": null,
      "metadata": {
        "colab": {
          "base_uri": "https://localhost:8080/"
        },
        "id": "oCFNJvRp6yUi",
        "outputId": "c0dc4117-89e3-4245-eb03-e62ae28d0ace"
      },
      "outputs": [
        {
          "output_type": "stream",
          "name": "stdout",
          "text": [
            "Bloodroot $2.44 to $1.95\n",
            "Columbine $9.37 to $7.50\n",
            "Marsh Marigold $6.81 to $5.45\n",
            "Cowslip $9.90 to $7.92\n",
            "Dutchman's-Breeches $6.44 to $5.15\n",
            "Ginger, Wild $9.03 to $7.22\n",
            "Hepatica $4.45 to $3.56\n",
            "Liverleaf $3.99 to $3.19\n",
            "Jack-In-The-Pulpit $3.23 to $2.58\n",
            "Mayapple $2.98 to $2.38\n",
            "Phlox, Woodland $2.80 to $2.24\n",
            "Phlox, Blue $5.59 to $4.47\n",
            "Spring-Beauty $6.59 to $5.27\n",
            "Trillium $3.90 to $3.12\n",
            "Wake Robin $3.20 to $2.56\n",
            "Violet, Dog-Tooth $9.04 to $7.23\n",
            "Trout Lily $6.94 to $5.55\n",
            "Adder's-Tongue $9.58 to $7.66\n",
            "Anemone $8.86 to $7.09\n",
            "Grecian Windflower $9.16 to $7.33\n",
            "Bee Balm $4.59 to $3.67\n",
            "Bergamot $7.16 to $5.73\n",
            "Black-Eyed Susan $9.80 to $7.84\n",
            "Buttercup $2.57 to $2.06\n",
            "Crowfoot $9.34 to $7.47\n",
            "Butterfly Weed $2.78 to $2.22\n",
            "Cinquefoil $7.06 to $5.65\n",
            "Primrose $6.56 to $5.25\n",
            "Gentian $7.81 to $6.25\n",
            "Blue Gentian $8.56 to $6.85\n",
            "Jacob's Ladder $9.26 to $7.41\n",
            "Greek Valerian $4.36 to $3.49\n",
            "California Poppy $7.89 to $6.31\n",
            "Shooting Star $8.60 to $6.88\n",
            "Snakeroot $5.63 to $4.50\n",
            "Cardinal Flower $3.02 to $2.42\n"
          ]
        }
      ],
      "source": [
        "# Write code here\n",
        "\n",
        "import xml.etree.ElementTree as ET\n",
        "\n",
        "myfile = open(\"/content/drive/My Drive/FALL_2022/Data_Foundations/WEEK4/plant_catalog.xml\")\n",
        "\n",
        "\n",
        "xmlstring = myfile.read()\n",
        "\n",
        "root = ET.fromstring(xmlstring)\n",
        "\n",
        "plants = root.findall('PLANT')\n",
        "\n",
        "for p in plants:\n",
        "  name = p.find(\"COMMON\").text\n",
        "  price = p.find(\"PRICE\").text\n",
        "  new_price =  0.8 * float(price[1:])\n",
        "\n",
        "  print(\"{} {} to ${:.2f}\".format(name,price,new_price))\n",
        "\n",
        "myfile.close()\n",
        "\n",
        "\n"
      ]
    },
    {
      "cell_type": "markdown",
      "metadata": {
        "id": "bOdUjj3C6yUj"
      },
      "source": [
        "## Exercise 4\n",
        "\n",
        "Using the \"exampleJSON.json\" file, complete the following tasks:\n",
        "- Load the file into a python dictionary.\n",
        "- Change the email of item with the name \"Anthony\" to \"anthony.rios@utsa.edu\"\n",
        "- Add a new person to the list with the name \"David\" and email \"david@fakeemail.edu\"\n",
        "- Save the new dictionary to a JSON file \"exampleJSON2.json\"\n",
        "\n",
        "File path: ./exampleJSON.json"
      ]
    },
    {
      "cell_type": "code",
      "execution_count": null,
      "metadata": {
        "colab": {
          "base_uri": "https://localhost:8080/"
        },
        "id": "Mjytle7I6yUk",
        "outputId": "752357c2-d097-49a9-8b63-e2c1acb59b1c"
      },
      "outputs": [
        {
          "output_type": "stream",
          "name": "stdout",
          "text": [
            "[{\"name\": \"Anthony\", \"email\": \"a@utsa.edu\", \"age\": 102}, {\"name\": \"John\", \"email\": \"john@fake.edu\"}, {\"name\": \"Jane\", \"email\": \"jane@fake.edu\"}]\n",
            "\n"
          ]
        }
      ],
      "source": [
        "with open(\"/content/drive/My Drive/FALL_2022/Data_Foundations/WEEK4/exampleJSON.json\") as iFile:\n",
        "    print(iFile.read())"
      ]
    },
    {
      "cell_type": "code",
      "execution_count": null,
      "metadata": {
        "id": "1RHhoMeC6yUl"
      },
      "outputs": [],
      "source": [
        "# Write code here\n",
        "\n",
        "import json\n",
        "with open(\"/content/drive/My Drive/FALL_2022/Data_Foundations/WEEK4/exampleJSON.json\") as infile:\n",
        "\n",
        "  jsondata = json.load(infile)\n",
        "  jsondata[0][\"email\"] = \"anthony.rios@utsa.edu\"\n",
        "\n",
        "\n",
        "\n",
        "\n",
        "\n",
        "\n",
        "\n",
        "\n",
        "\n"
      ]
    },
    {
      "cell_type": "code",
      "source": [
        "newobj = {\"name\" : \"David\", \"email\": \"david@fakeemail.edu\"}\n",
        "jsondata.append(newobj)\n",
        "jsondata"
      ],
      "metadata": {
        "colab": {
          "base_uri": "https://localhost:8080/"
        },
        "id": "RIHqJw25heVJ",
        "outputId": "4a8474a0-b860-43dc-b9c7-48e576292c18"
      },
      "execution_count": null,
      "outputs": [
        {
          "output_type": "execute_result",
          "data": {
            "text/plain": [
              "[{'name': 'Anthony', 'email': 'anthony.rios@utsa.edu', 'age': 102},\n",
              " {'name': 'John', 'email': 'john@fake.edu'},\n",
              " {'name': 'Jane', 'email': 'jane@fake.edu'},\n",
              " {'name': 'David', 'email': 'david@fakeemail.edu'}]"
            ]
          },
          "metadata": {},
          "execution_count": 76
        }
      ]
    },
    {
      "cell_type": "code",
      "source": [
        "outfile = open(\"exampleJSON2.json\", \"w\")\n",
        "json.dump(jsondata,outfile)\n",
        "outfile.close()"
      ],
      "metadata": {
        "id": "ejOHKzTUh3am"
      },
      "execution_count": null,
      "outputs": []
    },
    {
      "cell_type": "code",
      "source": [],
      "metadata": {
        "id": "SKnbetyNh3pE"
      },
      "execution_count": null,
      "outputs": []
    },
    {
      "cell_type": "markdown",
      "metadata": {
        "id": "iCWU0hNM6yUm"
      },
      "source": [
        "Run the following cell to check your work"
      ]
    },
    {
      "cell_type": "code",
      "execution_count": null,
      "metadata": {
        "colab": {
          "base_uri": "https://localhost:8080/"
        },
        "id": "pEMNxdlV6yUm",
        "outputId": "b69a4acc-f63b-4534-b132-8121e4bc3d78"
      },
      "outputs": [
        {
          "output_type": "stream",
          "name": "stdout",
          "text": [
            "[{\"name\": \"Anthony\", \"email\": \"anthony.rios@utsa.edu\", \"age\": 102}, {\"name\": \"John\", \"email\": \"john@fake.edu\"}, {\"name\": \"Jane\", \"email\": \"jane@fake.edu\"}, {\"name\": \"David\", \"email\": \"david@fakeemail.edu\"}]\n"
          ]
        }
      ],
      "source": [
        "# Run this cell to check your code\n",
        "with open(\"exampleJSON2.json\") as iFile:\n",
        "    print(iFile.read())"
      ]
    },
    {
      "cell_type": "markdown",
      "metadata": {
        "id": "7hiYZhR76yUn"
      },
      "source": [
        "## Exercise 5\n",
        "\n",
        "Write code to loop over the Twitter JSONL file \"twitter.jsonl\" and compute the following:\n",
        "- Count and print the total number of tweets.\n",
        "- Count and print the total number of users are in the dataset. Hint: row['user']['screen_name']\n",
        "- Print the screen name of the user who has the most tweets.\n",
        "\n",
        "**Tip:** Don't process the entire file right away, start by processing 1 to 2 lines."
      ]
    },
    {
      "cell_type": "markdown",
      "metadata": {
        "id": "eETmUbgV6yUo"
      },
      "source": [
        "Run the next cell to view the first row line of the file"
      ]
    },
    {
      "cell_type": "code",
      "execution_count": null,
      "metadata": {
        "colab": {
          "base_uri": "https://localhost:8080/"
        },
        "id": "2hkIU1dr6yUo",
        "outputId": "0898ba8f-6e46-42a5-f419-ffd2ba51ebf6"
      },
      "outputs": [
        {
          "output_type": "stream",
          "name": "stdout",
          "text": [
            "{'contributors': None,\n",
            " 'coordinates': None,\n",
            " 'created_at': 'Thu Aug 18 17:17:12 +0000 2016',\n",
            " 'display_text_range': [0, 95],\n",
            " 'entities': {'hashtags': [],\n",
            "              'symbols': [],\n",
            "              'urls': [{'display_url': 'dlvr.it/M3sHSw',\n",
            "                        'expanded_url': 'http://dlvr.it/M3sHSw',\n",
            "                        'indices': [72, 95],\n",
            "                        'url': 'https://t.co/uIV7TKHs9K'}],\n",
            "              'user_mentions': []},\n",
            " 'favorite_count': 1,\n",
            " 'favorited': False,\n",
            " 'full_text': 'Adam Cole Praises Kevin Owens + A Preview For Next Week’s ROH '\n",
            "              'Broadcast https://t.co/uIV7TKHs9K',\n",
            " 'geo': None,\n",
            " 'id': 766323071976247296,\n",
            " 'id_str': '766323071976247296',\n",
            " 'in_reply_to_screen_name': None,\n",
            " 'in_reply_to_status_id': None,\n",
            " 'in_reply_to_status_id_str': None,\n",
            " 'in_reply_to_user_id': None,\n",
            " 'in_reply_to_user_id_str': None,\n",
            " 'is_quote_status': False,\n",
            " 'lang': 'en',\n",
            " 'place': None,\n",
            " 'possibly_sensitive': False,\n",
            " 'retweet_count': 0,\n",
            " 'retweeted': False,\n",
            " 'source': '<a href=\"https://dlvrit.com/\" rel=\"nofollow\">dlvr.it</a>',\n",
            " 'truncated': False,\n",
            " 'user': {'contributors_enabled': False,\n",
            "          'created_at': 'Thu Dec 05 09:48:45 +0000 2013',\n",
            "          'default_profile': False,\n",
            "          'default_profile_image': False,\n",
            "          'description': 'i sing my own rhythm.',\n",
            "          'entities': {'description': {'urls': []}},\n",
            "          'favourites_count': 0,\n",
            "          'follow_request_sent': False,\n",
            "          'followers_count': 76,\n",
            "          'following': False,\n",
            "          'friends_count': 15,\n",
            "          'geo_enabled': False,\n",
            "          'has_extended_profile': False,\n",
            "          'id': 2231233110,\n",
            "          'id_str': '2231233110',\n",
            "          'is_translation_enabled': False,\n",
            "          'is_translator': False,\n",
            "          'lang': 'en',\n",
            "          'listed_count': 34,\n",
            "          'location': 'main; @Kan1shk3',\n",
            "          'name': '',\n",
            "          'notifications': False,\n",
            "          'profile_background_color': 'FFFFFF',\n",
            "          'profile_background_image_url': 'http://abs.twimg.com/images/themes/theme1/bg.png',\n",
            "          'profile_background_image_url_https': 'https://abs.twimg.com/images/themes/theme1/bg.png',\n",
            "          'profile_background_tile': False,\n",
            "          'profile_banner_url': 'https://pbs.twimg.com/profile_banners/2231233110/1387622004',\n",
            "          'profile_image_extensions_alt_text': None,\n",
            "          'profile_image_url': 'http://pbs.twimg.com/profile_images/414342229096808449/fYvzqXN7_normal.png',\n",
            "          'profile_image_url_https': 'https://pbs.twimg.com/profile_images/414342229096808449/fYvzqXN7_normal.png',\n",
            "          'profile_link_color': '08C2C2',\n",
            "          'profile_sidebar_border_color': 'FFFFFF',\n",
            "          'profile_sidebar_fill_color': 'DDEEF6',\n",
            "          'profile_text_color': '333333',\n",
            "          'profile_use_background_image': True,\n",
            "          'protected': False,\n",
            "          'screen_name': 'sheezy0',\n",
            "          'statuses_count': 151093,\n",
            "          'time_zone': None,\n",
            "          'translator_type': 'none',\n",
            "          'url': None,\n",
            "          'utc_offset': None,\n",
            "          'verified': False}}\n"
          ]
        }
      ],
      "source": [
        "import pprint\n",
        "import json\n",
        "with open('/content/drive/My Drive/FALL_2022/Data_Foundations/WEEK4/twitter.jsonl') as iFile:\n",
        "    for row in iFile:\n",
        "        pprint.pprint(json.loads(row.strip()))\n",
        "        break"
      ]
    },
    {
      "cell_type": "code",
      "execution_count": null,
      "metadata": {
        "colab": {
          "base_uri": "https://localhost:8080/"
        },
        "id": "7sPdKTwI6yUp",
        "outputId": "932a571f-0972-48f0-817c-3cd326b4ebdf"
      },
      "outputs": [
        {
          "output_type": "stream",
          "name": "stdout",
          "text": [
            "no of tweets =10000\n",
            "total users =4\n",
            "sheezy0\n"
          ]
        }
      ],
      "source": [
        "# Write Code here\n",
        "\n",
        "import json\n",
        "numtweets = 0\n",
        "usertweetscnts = {}\n",
        "\n",
        "tweetfile = open(\"/content/drive/My Drive/FALL_2022/Data_Foundations/WEEK4/twitter.jsonl\")\n",
        "\n",
        "for line in tweetfile:\n",
        "  numtweets = numtweets + 1\n",
        "  tweetobj = json.loads(line.strip())\n",
        "  sname = tweetobj['user']['screen_name']\n",
        "  usertweetscnts[sname] = usertweetscnts.get(sname,0) + 1\n",
        "\n",
        "\n",
        "\n",
        "\n",
        "tweetfile.close()\n",
        "\n",
        "print(f\"no of tweets ={numtweets}\")\n",
        "print(f\"total users ={(len(usertweetscnts))}\")\n",
        "\n",
        "maxuser =\"\"\n",
        "\n",
        "maxtweets = 0\n",
        "\n",
        "for k,v in usertweetscnts.items():\n",
        "  if v > maxtweets:\n",
        "    maxtweets = v\n",
        "    maxuser = k\n",
        "  \n",
        "print(maxuser)"
      ]
    }
  ],
  "metadata": {
    "kernelspec": {
      "display_name": "Python 3",
      "language": "python",
      "name": "python3"
    },
    "language_info": {
      "codemirror_mode": {
        "name": "ipython",
        "version": 3
      },
      "file_extension": ".py",
      "mimetype": "text/x-python",
      "name": "python",
      "nbconvert_exporter": "python",
      "pygments_lexer": "ipython3",
      "version": "3.8.3"
    },
    "colab": {
      "provenance": [],
      "include_colab_link": true
    }
  },
  "nbformat": 4,
  "nbformat_minor": 0
}